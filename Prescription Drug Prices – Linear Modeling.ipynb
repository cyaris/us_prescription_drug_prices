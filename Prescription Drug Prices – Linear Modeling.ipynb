{
 "cells": [
  {
   "cell_type": "code",
   "execution_count": 43,
   "metadata": {},
   "outputs": [],
   "source": [
    "import warnings\n",
    "from copy import deepcopy\n",
    "import pandas as pd\n",
    "import numpy as np\n",
    "import matplotlib.pyplot as plt\n",
    "import seaborn as sns"
   ]
  },
  {
   "cell_type": "code",
   "execution_count": 44,
   "metadata": {},
   "outputs": [],
   "source": [
    "warnings.filterwarnings('ignore')"
   ]
  },
  {
   "cell_type": "code",
   "execution_count": 45,
   "metadata": {},
   "outputs": [],
   "source": [
    "pd.set_option('display.max_colwidth', 1000)\n",
    "pd.set_option('display.float_format', lambda x: '%.3f' % x)"
   ]
  },
  {
   "cell_type": "code",
   "execution_count": 46,
   "metadata": {},
   "outputs": [],
   "source": [
    "np.random.seed(42)"
   ]
  },
  {
   "cell_type": "code",
   "execution_count": 47,
   "metadata": {},
   "outputs": [],
   "source": [
    "df = pd.read_pickle('./Pickles/modeling_df.pkl')"
   ]
  },
  {
   "cell_type": "code",
   "execution_count": 48,
   "metadata": {},
   "outputs": [
    {
     "name": "stdout",
     "output_type": "stream",
     "text": [
      "<class 'pandas.core.frame.DataFrame'>\n",
      "Int64Index: 1034 entries, 0 to 1771\n",
      "Data columns (total 27 columns):\n",
      "drug_name                     1034 non-null object\n",
      "generic_name                  1034 non-null object\n",
      "grx_lowest_price              1034 non-null float64\n",
      "grx_pharmacy                  1034 non-null object\n",
      "grx_purchase                  1034 non-null object\n",
      "grx_lowest_price_adj          1034 non-null float64\n",
      "chem_name                     1034 non-null object\n",
      "affected_organisms            1034 non-null object\n",
      "chem_state                    1034 non-null object\n",
      "chem_class                    1034 non-null object\n",
      "drug_group                    1034 non-null object\n",
      "drug_type                     1034 non-null object\n",
      "chem_kingdom                  1034 non-null object\n",
      "molecular_framework           1034 non-null object\n",
      "avg_molecular_weight          1034 non-null float64\n",
      "num_clinical_trials           1034 non-null float64\n",
      "num_dosage_forms              1034 non-null float64\n",
      "num_drug_interactions         1034 non-null float64\n",
      "num_food_interactions         1034 non-null float64\n",
      "num_manufacturers_for_chem    1034 non-null float64\n",
      "num_packagers_for_chem        1034 non-null float64\n",
      "num_patents_on_chem           1034 non-null float64\n",
      "num_targets                   1034 non-null float64\n",
      "chem_sub_class                1034 non-null object\n",
      "chem_super_class              1034 non-null object\n",
      "over_the_counter              1034 non-null object\n",
      "nadac_cost_per_unit           1034 non-null float64\n",
      "dtypes: float64(12), object(15)\n",
      "memory usage: 226.2+ KB\n"
     ]
    }
   ],
   "source": [
    "df.info()"
   ]
  },
  {
   "cell_type": "code",
   "execution_count": 49,
   "metadata": {},
   "outputs": [],
   "source": [
    "# created dataframes for dummy variables for chem_kingdom and chem_state.\n",
    "# joined dummy variable dataframes with main dataframe.\n",
    "chem_kingdom = pd.get_dummies(df['chem_kingdom'])\n",
    "chem_state = pd.get_dummies(df['chem_state'])\n",
    "df.drop(['chem_kingdom', 'chem_state'], axis = 1, inplace = True)\n",
    "df = deepcopy(pd.concat([df, chem_state, chem_kingdom], axis = 1, join = 'outer')).reset_index()"
   ]
  },
  {
   "cell_type": "code",
   "execution_count": 50,
   "metadata": {
    "scrolled": true
   },
   "outputs": [
    {
     "data": {
      "text/html": [
       "<div>\n",
       "<style scoped>\n",
       "    .dataframe tbody tr th:only-of-type {\n",
       "        vertical-align: middle;\n",
       "    }\n",
       "\n",
       "    .dataframe tbody tr th {\n",
       "        vertical-align: top;\n",
       "    }\n",
       "\n",
       "    .dataframe thead th {\n",
       "        text-align: right;\n",
       "    }\n",
       "</style>\n",
       "<table border=\"1\" class=\"dataframe\">\n",
       "  <thead>\n",
       "    <tr style=\"text-align: right;\">\n",
       "      <th></th>\n",
       "      <th>index</th>\n",
       "      <th>grx_lowest_price</th>\n",
       "      <th>grx_lowest_price_adj</th>\n",
       "      <th>avg_molecular_weight</th>\n",
       "      <th>num_clinical_trials</th>\n",
       "      <th>num_dosage_forms</th>\n",
       "      <th>num_drug_interactions</th>\n",
       "      <th>num_food_interactions</th>\n",
       "      <th>num_manufacturers_for_chem</th>\n",
       "      <th>num_packagers_for_chem</th>\n",
       "      <th>num_patents_on_chem</th>\n",
       "      <th>num_targets</th>\n",
       "      <th>nadac_cost_per_unit</th>\n",
       "      <th>Liquid</th>\n",
       "      <th>Solid</th>\n",
       "      <th>Organic compounds</th>\n",
       "    </tr>\n",
       "  </thead>\n",
       "  <tbody>\n",
       "    <tr>\n",
       "      <th>count</th>\n",
       "      <td>1034.000</td>\n",
       "      <td>1034.000</td>\n",
       "      <td>1034.000</td>\n",
       "      <td>1034.000</td>\n",
       "      <td>1034.000</td>\n",
       "      <td>1034.000</td>\n",
       "      <td>1034.000</td>\n",
       "      <td>1034.000</td>\n",
       "      <td>1034.000</td>\n",
       "      <td>1034.000</td>\n",
       "      <td>1034.000</td>\n",
       "      <td>1034.000</td>\n",
       "      <td>1034.000</td>\n",
       "      <td>1034.000</td>\n",
       "      <td>1034.000</td>\n",
       "      <td>1034.000</td>\n",
       "    </tr>\n",
       "    <tr>\n",
       "      <th>mean</th>\n",
       "      <td>943.170</td>\n",
       "      <td>454.056</td>\n",
       "      <td>15.434</td>\n",
       "      <td>361.775</td>\n",
       "      <td>90.879</td>\n",
       "      <td>18.091</td>\n",
       "      <td>1018.339</td>\n",
       "      <td>1.579</td>\n",
       "      <td>7.818</td>\n",
       "      <td>28.297</td>\n",
       "      <td>6.845</td>\n",
       "      <td>1.472</td>\n",
       "      <td>16.894</td>\n",
       "      <td>0.021</td>\n",
       "      <td>0.979</td>\n",
       "      <td>1.000</td>\n",
       "    </tr>\n",
       "    <tr>\n",
       "      <th>std</th>\n",
       "      <td>502.500</td>\n",
       "      <td>2193.349</td>\n",
       "      <td>77.154</td>\n",
       "      <td>178.646</td>\n",
       "      <td>136.040</td>\n",
       "      <td>19.787</td>\n",
       "      <td>522.318</td>\n",
       "      <td>1.405</td>\n",
       "      <td>10.320</td>\n",
       "      <td>25.891</td>\n",
       "      <td>11.171</td>\n",
       "      <td>3.725</td>\n",
       "      <td>67.045</td>\n",
       "      <td>0.144</td>\n",
       "      <td>0.144</td>\n",
       "      <td>0.000</td>\n",
       "    </tr>\n",
       "    <tr>\n",
       "      <th>min</th>\n",
       "      <td>0.000</td>\n",
       "      <td>2.000</td>\n",
       "      <td>0.067</td>\n",
       "      <td>76.055</td>\n",
       "      <td>0.000</td>\n",
       "      <td>1.000</td>\n",
       "      <td>0.000</td>\n",
       "      <td>0.000</td>\n",
       "      <td>0.000</td>\n",
       "      <td>0.000</td>\n",
       "      <td>0.000</td>\n",
       "      <td>0.000</td>\n",
       "      <td>0.030</td>\n",
       "      <td>0.000</td>\n",
       "      <td>0.000</td>\n",
       "      <td>1.000</td>\n",
       "    </tr>\n",
       "    <tr>\n",
       "      <th>25%</th>\n",
       "      <td>518.250</td>\n",
       "      <td>15.973</td>\n",
       "      <td>0.374</td>\n",
       "      <td>258.505</td>\n",
       "      <td>17.000</td>\n",
       "      <td>6.000</td>\n",
       "      <td>652.250</td>\n",
       "      <td>0.000</td>\n",
       "      <td>0.000</td>\n",
       "      <td>7.000</td>\n",
       "      <td>0.000</td>\n",
       "      <td>0.000</td>\n",
       "      <td>0.669</td>\n",
       "      <td>0.000</td>\n",
       "      <td>1.000</td>\n",
       "      <td>1.000</td>\n",
       "    </tr>\n",
       "    <tr>\n",
       "      <th>50%</th>\n",
       "      <td>991.000</td>\n",
       "      <td>37.725</td>\n",
       "      <td>0.936</td>\n",
       "      <td>325.488</td>\n",
       "      <td>47.000</td>\n",
       "      <td>12.000</td>\n",
       "      <td>986.500</td>\n",
       "      <td>1.000</td>\n",
       "      <td>3.000</td>\n",
       "      <td>22.000</td>\n",
       "      <td>4.000</td>\n",
       "      <td>0.000</td>\n",
       "      <td>3.025</td>\n",
       "      <td>0.000</td>\n",
       "      <td>1.000</td>\n",
       "      <td>1.000</td>\n",
       "    </tr>\n",
       "    <tr>\n",
       "      <th>75%</th>\n",
       "      <td>1370.500</td>\n",
       "      <td>182.422</td>\n",
       "      <td>4.867</td>\n",
       "      <td>414.491</td>\n",
       "      <td>111.750</td>\n",
       "      <td>22.000</td>\n",
       "      <td>1389.000</td>\n",
       "      <td>2.000</td>\n",
       "      <td>12.000</td>\n",
       "      <td>45.000</td>\n",
       "      <td>8.000</td>\n",
       "      <td>1.000</td>\n",
       "      <td>10.563</td>\n",
       "      <td>0.000</td>\n",
       "      <td>1.000</td>\n",
       "      <td>1.000</td>\n",
       "    </tr>\n",
       "    <tr>\n",
       "      <th>max</th>\n",
       "      <td>1771.000</td>\n",
       "      <td>31215.000</td>\n",
       "      <td>993.321</td>\n",
       "      <td>1681.890</td>\n",
       "      <td>1635.000</td>\n",
       "      <td>169.000</td>\n",
       "      <td>2388.000</td>\n",
       "      <td>6.000</td>\n",
       "      <td>62.000</td>\n",
       "      <td>113.000</td>\n",
       "      <td>82.000</td>\n",
       "      <td>33.000</td>\n",
       "      <td>975.300</td>\n",
       "      <td>1.000</td>\n",
       "      <td>1.000</td>\n",
       "      <td>1.000</td>\n",
       "    </tr>\n",
       "  </tbody>\n",
       "</table>\n",
       "</div>"
      ],
      "text/plain": [
       "         index  grx_lowest_price  grx_lowest_price_adj  avg_molecular_weight  \\\n",
       "count 1034.000          1034.000              1034.000              1034.000   \n",
       "mean   943.170           454.056                15.434               361.775   \n",
       "std    502.500          2193.349                77.154               178.646   \n",
       "min      0.000             2.000                 0.067                76.055   \n",
       "25%    518.250            15.973                 0.374               258.505   \n",
       "50%    991.000            37.725                 0.936               325.488   \n",
       "75%   1370.500           182.422                 4.867               414.491   \n",
       "max   1771.000         31215.000               993.321              1681.890   \n",
       "\n",
       "       num_clinical_trials  num_dosage_forms  num_drug_interactions  \\\n",
       "count             1034.000          1034.000               1034.000   \n",
       "mean                90.879            18.091               1018.339   \n",
       "std                136.040            19.787                522.318   \n",
       "min                  0.000             1.000                  0.000   \n",
       "25%                 17.000             6.000                652.250   \n",
       "50%                 47.000            12.000                986.500   \n",
       "75%                111.750            22.000               1389.000   \n",
       "max               1635.000           169.000               2388.000   \n",
       "\n",
       "       num_food_interactions  num_manufacturers_for_chem  \\\n",
       "count               1034.000                    1034.000   \n",
       "mean                   1.579                       7.818   \n",
       "std                    1.405                      10.320   \n",
       "min                    0.000                       0.000   \n",
       "25%                    0.000                       0.000   \n",
       "50%                    1.000                       3.000   \n",
       "75%                    2.000                      12.000   \n",
       "max                    6.000                      62.000   \n",
       "\n",
       "       num_packagers_for_chem  num_patents_on_chem  num_targets  \\\n",
       "count                1034.000             1034.000     1034.000   \n",
       "mean                   28.297                6.845        1.472   \n",
       "std                    25.891               11.171        3.725   \n",
       "min                     0.000                0.000        0.000   \n",
       "25%                     7.000                0.000        0.000   \n",
       "50%                    22.000                4.000        0.000   \n",
       "75%                    45.000                8.000        1.000   \n",
       "max                   113.000               82.000       33.000   \n",
       "\n",
       "       nadac_cost_per_unit   Liquid    Solid  Organic compounds  \n",
       "count             1034.000 1034.000 1034.000           1034.000  \n",
       "mean                16.894    0.021    0.979              1.000  \n",
       "std                 67.045    0.144    0.144              0.000  \n",
       "min                  0.030    0.000    0.000              1.000  \n",
       "25%                  0.669    0.000    1.000              1.000  \n",
       "50%                  3.025    0.000    1.000              1.000  \n",
       "75%                 10.563    0.000    1.000              1.000  \n",
       "max                975.300    1.000    1.000              1.000  "
      ]
     },
     "execution_count": 50,
     "metadata": {},
     "output_type": "execute_result"
    }
   ],
   "source": [
    "df.describe()"
   ]
  },
  {
   "cell_type": "code",
   "execution_count": 160,
   "metadata": {},
   "outputs": [
    {
     "data": {
      "text/plain": [
       "9"
      ]
     },
     "execution_count": 160,
     "metadata": {},
     "output_type": "execute_result"
    }
   ],
   "source": [
    "len(df[df['grx_lowest_price_adj'] >= 500])"
   ]
  },
  {
   "cell_type": "code",
   "execution_count": 52,
   "metadata": {},
   "outputs": [],
   "source": [
    "# created new column for whether affected_organisms was 'Humans and other mammals' or not.\n",
    "df.loc[df['affected_organisms'] == 'Humans and other mammals', 'affected_humans_other_mammals'] = 1\n",
    "df.loc[df['affected_organisms'] != 'Humans and other mammals', 'affected_humans_other_mammals'] = 0\n",
    "\n",
    "# created new column for whether the drug was ever an investigational drug.\n",
    "df.loc[['Investigational' in s for s in df['drug_group']], 'investigational_drug'] = 1\n",
    "df.loc[['Investigational' not in s for s in df['drug_group']], 'investigational_drug'] = 0\n",
    "\n",
    "# created new column for whether the drug was ever an illicit drug.\n",
    "df.loc[['Illicit' in s for s in df['drug_group']], 'illicit_drug'] = 1\n",
    "df.loc[['Illicit' not in s for s in df['drug_group']], 'illicit_drug'] = 0\n",
    "\n",
    "# created new column for whether the drug was ever a veterinarian approved drug.\n",
    "df.loc[['Vet approved' in s for s in df['drug_group']], 'vet_approved_drug'] = 1\n",
    "df.loc[['Vet approved' not in s for s in df['drug_group']], 'vet_approved_drug'] = 0\n",
    "\n",
    "# created new column for whether the drug was a nutraceutical drug.\n",
    "df.loc[['Nutraceutical' in s for s in df['drug_group']], 'nutraceutical_drug'] = 1\n",
    "df.loc[['Nutraceutical' not in s for s in df['drug_group']], 'nutraceutical_drug'] = 0\n",
    "\n",
    "# created new column for whether the drug was ever withdrawn FDA approval.\n",
    "df.loc[['Withdrawn' in s for s in df['drug_group']], 'withdrawn_drug'] = 1\n",
    "df.loc[['Withdrawn' not in s for s in df['drug_group']], 'withdrawn_drug'] = 0\n",
    "\n",
    "# created new column for whether a generic version of the drug exists.\n",
    "df.loc[df['generic_name'] == 'Non-Existant', 'generic_drug'] = 1\n",
    "df.loc[df['generic_name'] != 'Non-Existant', 'generic_drug'] = 0\n",
    "\n",
    "# created new column for whether the molecular framework of the drug was of an aromatic type.\n",
    "df.loc[['Aromatic' in s for s in df['molecular_framework']], 'aromatic_molecular_framework'] = 1\n",
    "df.loc[['Aromatic' not in s for s in df['molecular_framework']], 'aromatic_molecular_framework'] = 0"
   ]
  },
  {
   "cell_type": "code",
   "execution_count": 53,
   "metadata": {},
   "outputs": [
    {
     "data": {
      "text/plain": [
       "Index(['index', 'drug_name', 'generic_name', 'grx_lowest_price',\n",
       "       'grx_pharmacy', 'grx_purchase', 'grx_lowest_price_adj', 'chem_name',\n",
       "       'affected_organisms', 'chem_class', 'drug_group', 'drug_type',\n",
       "       'molecular_framework', 'avg_molecular_weight', 'num_clinical_trials',\n",
       "       'num_dosage_forms', 'num_drug_interactions', 'num_food_interactions',\n",
       "       'num_manufacturers_for_chem', 'num_packagers_for_chem',\n",
       "       'num_patents_on_chem', 'num_targets', 'chem_sub_class',\n",
       "       'chem_super_class', 'over_the_counter', 'nadac_cost_per_unit', 'Liquid',\n",
       "       'Solid', 'Organic compounds', 'affected_humans_other_mammals',\n",
       "       'investigational_drug', 'illicit_drug', 'vet_approved_drug',\n",
       "       'nutraceutical_drug', 'withdrawn_drug', 'generic_drug',\n",
       "       'aromatic_molecular_framework'],\n",
       "      dtype='object')"
      ]
     },
     "execution_count": 53,
     "metadata": {},
     "output_type": "execute_result"
    }
   ],
   "source": [
    "df.columns"
   ]
  },
  {
   "cell_type": "code",
   "execution_count": 54,
   "metadata": {},
   "outputs": [],
   "source": [
    "from sklearn.model_selection import train_test_split"
   ]
  },
  {
   "cell_type": "code",
   "execution_count": 55,
   "metadata": {},
   "outputs": [],
   "source": [
    "# df.corr()"
   ]
  },
  {
   "cell_type": "markdown",
   "metadata": {},
   "source": [
    "### **Train Test Split**"
   ]
  },
  {
   "cell_type": "code",
   "execution_count": 56,
   "metadata": {},
   "outputs": [],
   "source": [
    "feature_names = ['avg_molecular_weight', 'num_clinical_trials',\n",
    "                 'num_dosage_forms', 'num_drug_interactions',\n",
    "                 'num_food_interactions', 'num_manufacturers_for_chem',\n",
    "                 'num_packagers_for_chem', 'num_patents_on_chem',\n",
    "                 'num_targets', 'nadac_cost_per_unit', 'Solid',\n",
    "                 'affected_humans_other_mammals', 'investigational_drug',\n",
    "                 'vet_approved_drug', 'illicit_drug', 'nutraceutical_drug',\n",
    "                 'generic_drug', 'aromatic_molecular_framework']\n",
    "\n",
    "X = df[feature_names]\n",
    "y = df['grx_lowest_price_adj']\n",
    "\n",
    "X_train, X_test, y_train, y_test = train_test_split(X, y, test_size = 0.4)"
   ]
  },
  {
   "cell_type": "markdown",
   "metadata": {},
   "source": [
    "### **Standard Scaler**"
   ]
  },
  {
   "cell_type": "markdown",
   "metadata": {},
   "source": [
    "First use a standard scaler to level all features in the model."
   ]
  },
  {
   "cell_type": "code",
   "execution_count": 57,
   "metadata": {},
   "outputs": [],
   "source": [
    "from sklearn.preprocessing import StandardScaler"
   ]
  },
  {
   "cell_type": "code",
   "execution_count": 88,
   "metadata": {},
   "outputs": [
    {
     "data": {
      "text/plain": [
       "(620, 18)"
      ]
     },
     "execution_count": 88,
     "metadata": {},
     "output_type": "execute_result"
    }
   ],
   "source": [
    "X_train_scaled.shape"
   ]
  },
  {
   "cell_type": "code",
   "execution_count": 89,
   "metadata": {},
   "outputs": [
    {
     "data": {
      "text/plain": [
       "(414, 18)"
      ]
     },
     "execution_count": 89,
     "metadata": {},
     "output_type": "execute_result"
    }
   ],
   "source": [
    "X_test_scaled.shape"
   ]
  },
  {
   "cell_type": "code",
   "execution_count": 91,
   "metadata": {},
   "outputs": [],
   "source": [
    "scaler = StandardScaler()\n",
    "X_train_scaled = scaler.fit_transform(X_train)\n",
    "X_test_scaled = scaler.transform(X_test)"
   ]
  },
  {
   "cell_type": "markdown",
   "metadata": {},
   "source": [
    "Create a dataframe to see scaled features."
   ]
  },
  {
   "cell_type": "code",
   "execution_count": 92,
   "metadata": {},
   "outputs": [
    {
     "data": {
      "text/html": [
       "<div>\n",
       "<style scoped>\n",
       "    .dataframe tbody tr th:only-of-type {\n",
       "        vertical-align: middle;\n",
       "    }\n",
       "\n",
       "    .dataframe tbody tr th {\n",
       "        vertical-align: top;\n",
       "    }\n",
       "\n",
       "    .dataframe thead th {\n",
       "        text-align: right;\n",
       "    }\n",
       "</style>\n",
       "<table border=\"1\" class=\"dataframe\">\n",
       "  <thead>\n",
       "    <tr style=\"text-align: right;\">\n",
       "      <th></th>\n",
       "      <th>avg_molecular_weight</th>\n",
       "      <th>num_clinical_trials</th>\n",
       "      <th>num_dosage_forms</th>\n",
       "      <th>num_drug_interactions</th>\n",
       "      <th>num_food_interactions</th>\n",
       "      <th>num_manufacturers_for_chem</th>\n",
       "      <th>num_packagers_for_chem</th>\n",
       "      <th>num_patents_on_chem</th>\n",
       "      <th>num_targets</th>\n",
       "      <th>nadac_cost_per_unit</th>\n",
       "      <th>Solid</th>\n",
       "      <th>affected_humans_other_mammals</th>\n",
       "      <th>investigational_drug</th>\n",
       "      <th>vet_approved_drug</th>\n",
       "      <th>illicit_drug</th>\n",
       "      <th>nutraceutical_drug</th>\n",
       "      <th>generic_drug</th>\n",
       "      <th>aromatic_molecular_framework</th>\n",
       "    </tr>\n",
       "  </thead>\n",
       "  <tbody>\n",
       "    <tr>\n",
       "      <th>0</th>\n",
       "      <td>0.350</td>\n",
       "      <td>-0.567</td>\n",
       "      <td>-0.578</td>\n",
       "      <td>0.391</td>\n",
       "      <td>-0.416</td>\n",
       "      <td>-0.671</td>\n",
       "      <td>-0.884</td>\n",
       "      <td>-0.247</td>\n",
       "      <td>-0.403</td>\n",
       "      <td>-0.077</td>\n",
       "      <td>0.134</td>\n",
       "      <td>0.439</td>\n",
       "      <td>1.020</td>\n",
       "      <td>-0.342</td>\n",
       "      <td>-0.225</td>\n",
       "      <td>-0.128</td>\n",
       "      <td>-0.273</td>\n",
       "      <td>0.449</td>\n",
       "    </tr>\n",
       "    <tr>\n",
       "      <th>1</th>\n",
       "      <td>-1.022</td>\n",
       "      <td>1.161</td>\n",
       "      <td>0.754</td>\n",
       "      <td>1.552</td>\n",
       "      <td>0.297</td>\n",
       "      <td>0.972</td>\n",
       "      <td>1.452</td>\n",
       "      <td>0.615</td>\n",
       "      <td>-0.403</td>\n",
       "      <td>-0.138</td>\n",
       "      <td>0.134</td>\n",
       "      <td>0.439</td>\n",
       "      <td>1.020</td>\n",
       "      <td>-0.342</td>\n",
       "      <td>-0.225</td>\n",
       "      <td>-0.128</td>\n",
       "      <td>3.663</td>\n",
       "      <td>-2.227</td>\n",
       "    </tr>\n",
       "    <tr>\n",
       "      <th>2</th>\n",
       "      <td>1.050</td>\n",
       "      <td>-0.592</td>\n",
       "      <td>-0.716</td>\n",
       "      <td>-0.096</td>\n",
       "      <td>0.297</td>\n",
       "      <td>-0.768</td>\n",
       "      <td>-1.118</td>\n",
       "      <td>0.136</td>\n",
       "      <td>-0.403</td>\n",
       "      <td>-0.102</td>\n",
       "      <td>0.134</td>\n",
       "      <td>0.439</td>\n",
       "      <td>-0.981</td>\n",
       "      <td>-0.342</td>\n",
       "      <td>-0.225</td>\n",
       "      <td>-0.128</td>\n",
       "      <td>-0.273</td>\n",
       "      <td>0.449</td>\n",
       "    </tr>\n",
       "    <tr>\n",
       "      <th>3</th>\n",
       "      <td>2.029</td>\n",
       "      <td>-0.196</td>\n",
       "      <td>-0.624</td>\n",
       "      <td>-1.245</td>\n",
       "      <td>-1.130</td>\n",
       "      <td>-0.768</td>\n",
       "      <td>-1.118</td>\n",
       "      <td>-0.151</td>\n",
       "      <td>-0.403</td>\n",
       "      <td>10.725</td>\n",
       "      <td>0.134</td>\n",
       "      <td>-2.280</td>\n",
       "      <td>1.020</td>\n",
       "      <td>-0.342</td>\n",
       "      <td>-0.225</td>\n",
       "      <td>-0.128</td>\n",
       "      <td>-0.273</td>\n",
       "      <td>0.449</td>\n",
       "    </tr>\n",
       "    <tr>\n",
       "      <th>4</th>\n",
       "      <td>-0.387</td>\n",
       "      <td>-0.697</td>\n",
       "      <td>0.617</td>\n",
       "      <td>-1.120</td>\n",
       "      <td>-0.416</td>\n",
       "      <td>-0.768</td>\n",
       "      <td>1.529</td>\n",
       "      <td>-0.630</td>\n",
       "      <td>-0.403</td>\n",
       "      <td>-0.256</td>\n",
       "      <td>0.134</td>\n",
       "      <td>0.439</td>\n",
       "      <td>-0.981</td>\n",
       "      <td>-0.342</td>\n",
       "      <td>-0.225</td>\n",
       "      <td>-0.128</td>\n",
       "      <td>-0.273</td>\n",
       "      <td>0.449</td>\n",
       "    </tr>\n",
       "  </tbody>\n",
       "</table>\n",
       "</div>"
      ],
      "text/plain": [
       "   avg_molecular_weight  num_clinical_trials  num_dosage_forms  \\\n",
       "0                 0.350               -0.567            -0.578   \n",
       "1                -1.022                1.161             0.754   \n",
       "2                 1.050               -0.592            -0.716   \n",
       "3                 2.029               -0.196            -0.624   \n",
       "4                -0.387               -0.697             0.617   \n",
       "\n",
       "   num_drug_interactions  num_food_interactions  num_manufacturers_for_chem  \\\n",
       "0                  0.391                 -0.416                      -0.671   \n",
       "1                  1.552                  0.297                       0.972   \n",
       "2                 -0.096                  0.297                      -0.768   \n",
       "3                 -1.245                 -1.130                      -0.768   \n",
       "4                 -1.120                 -0.416                      -0.768   \n",
       "\n",
       "   num_packagers_for_chem  num_patents_on_chem  num_targets  \\\n",
       "0                  -0.884               -0.247       -0.403   \n",
       "1                   1.452                0.615       -0.403   \n",
       "2                  -1.118                0.136       -0.403   \n",
       "3                  -1.118               -0.151       -0.403   \n",
       "4                   1.529               -0.630       -0.403   \n",
       "\n",
       "   nadac_cost_per_unit  Solid  affected_humans_other_mammals  \\\n",
       "0               -0.077  0.134                          0.439   \n",
       "1               -0.138  0.134                          0.439   \n",
       "2               -0.102  0.134                          0.439   \n",
       "3               10.725  0.134                         -2.280   \n",
       "4               -0.256  0.134                          0.439   \n",
       "\n",
       "   investigational_drug  vet_approved_drug  illicit_drug  nutraceutical_drug  \\\n",
       "0                 1.020             -0.342        -0.225              -0.128   \n",
       "1                 1.020             -0.342        -0.225              -0.128   \n",
       "2                -0.981             -0.342        -0.225              -0.128   \n",
       "3                 1.020             -0.342        -0.225              -0.128   \n",
       "4                -0.981             -0.342        -0.225              -0.128   \n",
       "\n",
       "   generic_drug  aromatic_molecular_framework  \n",
       "0        -0.273                         0.449  \n",
       "1         3.663                        -2.227  \n",
       "2        -0.273                         0.449  \n",
       "3        -0.273                         0.449  \n",
       "4        -0.273                         0.449  "
      ]
     },
     "execution_count": 92,
     "metadata": {},
     "output_type": "execute_result"
    }
   ],
   "source": [
    "df_scaled = pd.DataFrame(X_train_scaled, columns = feature_names)\n",
    "df_scaled.head()"
   ]
  },
  {
   "cell_type": "markdown",
   "metadata": {},
   "source": [
    "### **Linear Regression**"
   ]
  },
  {
   "cell_type": "markdown",
   "metadata": {},
   "source": [
    "***Will multiple linear regression allow for an accurate model to predict the price per pill of prescription drugs?***"
   ]
  },
  {
   "cell_type": "code",
   "execution_count": 93,
   "metadata": {},
   "outputs": [],
   "source": [
    "from sklearn.linear_model import LinearRegression"
   ]
  },
  {
   "cell_type": "markdown",
   "metadata": {},
   "source": [
    "Instantiate LinearRegression() and fit our data to a new model."
   ]
  },
  {
   "cell_type": "code",
   "execution_count": 94,
   "metadata": {},
   "outputs": [],
   "source": [
    "linreg = LinearRegression()\n",
    "linreg.fit(X_train_scaled, y_train)\n",
    "y_pred_train = linreg.predict(X_train_scaled)"
   ]
  },
  {
   "cell_type": "markdown",
   "metadata": {},
   "source": [
    "*Is there a linear relationship between our training values and our predicted values?*"
   ]
  },
  {
   "cell_type": "code",
   "execution_count": 95,
   "metadata": {},
   "outputs": [
    {
     "data": {
      "image/png": "[encoded data removed]",
      "text/plain": [
       "<Figure size 432x432 with 3 Axes>"
      ]
     },
     "metadata": {},
     "output_type": "display_data"
    }
   ],
   "source": [
    "sns.set_style('darkgrid')\n",
    "\n",
    "ax = sns.jointplot(x = y_train, y = y_pred_train, \n",
    "                   kind = 'reg', height = 6, ratio = 6);\n",
    "ax.set_axis_labels('Y Train', 'Predicted Y')\n",
    "regline = ax.ax_joint.get_lines()[0]\n",
    "regline.set_color('red')"
   ]
  },
  {
   "cell_type": "code",
   "execution_count": 96,
   "metadata": {
    "scrolled": true
   },
   "outputs": [],
   "source": [
    "from sklearn.model_selection import cross_val_score"
   ]
  },
  {
   "cell_type": "markdown",
   "metadata": {},
   "source": [
    "Perform cross-validation to check for over-fitting/under-fitting."
   ]
  },
  {
   "cell_type": "code",
   "execution_count": 97,
   "metadata": {},
   "outputs": [
    {
     "name": "stdout",
     "output_type": "stream",
     "text": [
      "Avg RMSE for 10 folds Cross-Val:         38.22\n",
      "Std Dev of RMSE for 10 folds Cross-Val:  34.69\n"
     ]
    }
   ],
   "source": [
    "scores = cross_val_score(linreg, X_train, y_train, cv = 10, scoring = 'neg_mean_squared_error')\n",
    "print('Avg RMSE for 10 folds Cross-Val:        ', np.sqrt(-scores).mean().round(2))\n",
    "print('Std Dev of RMSE for 10 folds Cross-Val: ', np.sqrt(-scores).std().round(2))"
   ]
  },
  {
   "cell_type": "code",
   "execution_count": 98,
   "metadata": {},
   "outputs": [],
   "source": [
    "from sklearn.utils import resample"
   ]
  },
  {
   "cell_type": "markdown",
   "metadata": {},
   "source": [
    "Create a dataframe to print the effect/error of the current model."
   ]
  },
  {
   "cell_type": "code",
   "execution_count": 99,
   "metadata": {
    "scrolled": true
   },
   "outputs": [
    {
     "name": "stdout",
     "output_type": "stream",
     "text": [
      "Multiple Linear Regression Coefficients\n",
      "Simple Linear Regression, Polynomial Degree 1\n",
      "Alpha = 0\n",
      "Intercept: 17.08\n",
      "Total Non-Zero Coefficients: 18\n",
      "\n",
      "                               effect  error  abs_effect\n",
      "nadac_cost_per_unit            62.560  6.000      62.560\n",
      "vet_approved_drug               3.790  5.000       3.790\n",
      "num_drug_interactions          -3.510  3.000       3.510\n",
      "num_food_interactions           2.560  2.000       2.560\n",
      "affected_humans_other_mammals  -2.040  2.000       2.040\n",
      "generic_drug                    1.500  1.000       1.500\n",
      "num_dosage_forms               -1.160  1.000       1.160\n",
      "num_manufacturers_for_chem     -1.050  2.000       1.050\n",
      "num_clinical_trials             0.970  3.000       0.970\n",
      "avg_molecular_weight            0.860  3.000       0.860\n",
      "illicit_drug                    0.590  1.000       0.590\n",
      "investigational_drug           -0.470  2.000       0.470\n",
      "num_targets                     0.280  1.000       0.280\n",
      "Solid                           0.270  1.000       0.270\n",
      "aromatic_molecular_framework    0.240  1.000       0.240\n",
      "nutraceutical_drug              0.120  1.000       0.120\n",
      "num_packagers_for_chem         -0.030  3.000       0.030\n",
      "num_patents_on_chem             0.020  2.000       0.020\n"
     ]
    }
   ],
   "source": [
    "print('Multiple Linear Regression Coefficients\\nSimple Linear Regression, Polynomial Degree 1\\nAlpha = 0')\n",
    "print('Intercept:', linreg.intercept_.round(2))\n",
    "print('Total Non-Zero Coefficients: {}\\n'.format(len(linreg.coef_.round(2))))\n",
    "\n",
    "err = np.std([linreg.fit(*resample(X_train_scaled, y_train)).coef_\n",
    "              for i in range(1000)], 0)\n",
    "cdf = pd.DataFrame({'effect': linreg.coef_.round(2),\n",
    "                    'error': err.round(0)}, feature_names)\n",
    "cdf['abs_effect'] = abs(cdf['effect'])\n",
    "\n",
    "print(cdf.sort_values(by = 'abs_effect', ascending = False))"
   ]
  },
  {
   "cell_type": "code",
   "execution_count": 100,
   "metadata": {},
   "outputs": [],
   "source": [
    "from sklearn import metrics"
   ]
  },
  {
   "cell_type": "code",
   "execution_count": 101,
   "metadata": {
    "scrolled": true
   },
   "outputs": [
    {
     "name": "stdout",
     "output_type": "stream",
     "text": [
      "Train R^2:   0.65\n",
      "Train MAE:  14.99\n",
      "Train MSE:  2306.21\n",
      "Train RMSE: 48.02\n"
     ]
    }
   ],
   "source": [
    "print('Train R^2:  ', linreg.score(X_train_scaled, y_train).round(2))\n",
    "print('Train MAE: ', metrics.mean_absolute_error(y_train, y_pred_train).round(2))\n",
    "print('Train MSE: ', metrics.mean_squared_error(y_train, y_pred_train).round(2))\n",
    "print('Train RMSE:', np.sqrt(metrics.mean_squared_error(y_train, y_pred_train)).round(2))"
   ]
  },
  {
   "cell_type": "markdown",
   "metadata": {},
   "source": [
    "### **Lasso Regression**"
   ]
  },
  {
   "cell_type": "markdown",
   "metadata": {},
   "source": [
    "***Will multiple lasso regression allow for an accurate model to predict the price per pill of prescription drugs?***"
   ]
  },
  {
   "cell_type": "code",
   "execution_count": 102,
   "metadata": {},
   "outputs": [],
   "source": [
    "from sklearn.linear_model import Lasso"
   ]
  },
  {
   "cell_type": "code",
   "execution_count": 103,
   "metadata": {},
   "outputs": [],
   "source": [
    "linlasso = Lasso()\n",
    "linlasso.fit(X_train_scaled, y_train)\n",
    "y_pred_train = linlasso.predict(X_train_scaled)"
   ]
  },
  {
   "cell_type": "markdown",
   "metadata": {},
   "source": [
    "Perform cross-validation to optimize alpha for lasso model."
   ]
  },
  {
   "cell_type": "code",
   "execution_count": 104,
   "metadata": {},
   "outputs": [
    {
     "data": {
      "text/plain": [
       "GridSearchCV(cv=15, error_score='raise-deprecating',\n",
       "       estimator=Lasso(alpha=1.0, copy_X=True, fit_intercept=True, max_iter=1000,\n",
       "   normalize=False, positive=False, precompute=False, random_state=None,\n",
       "   selection='cyclic', tol=0.0001, warm_start=False),\n",
       "       fit_params=None, iid='warn', n_jobs=1,\n",
       "       param_grid={'alpha': [1e-05, 0.001, 0.1, 0.9, 1, 1.1, 1.2, 1.3, 1.4, 1.5, 1.6, 2, 3, 4, 5, 6, 7, 8, 9, 10, 11, 12, 13, 14, 15, 16, 17, 18, 19, 20, 21, 22, 23, 24, 25, 26, 27, 28, 29, 30, 31, 32, 33, 34, 35, 36, 37, 38, 39, 40, 50, 60, 70, 80, 90, 100.0, 125, 130, 135, 140, 145, 150, 155, 165, 170, 175, 200, 1000.0, 10000.0]},\n",
       "       pre_dispatch='2*n_jobs', refit=True, return_train_score='warn',\n",
       "       scoring='neg_mean_squared_error', verbose=0)"
      ]
     },
     "execution_count": 104,
     "metadata": {},
     "output_type": "execute_result"
    }
   ],
   "source": [
    "param_grid = {'alpha': [1e-5, 1e-3, 1e-1, 0.9, 1, 1.1, 1.2, 1.3, 1.4, 1.5, 1.6, 2, 3, 4, 5, 6, 7, 8, 9,\n",
    "                        10, 11, 12, 13, 14, 15, 16, 17, 18, 19, 20, 21, 22, 23, 24, 25, 26, 27, 28, 29, \n",
    "                        30, 31, 32, 33, 34, 35, 36, 37, 38, 39, 40, 50, 60, 70, 80, 90, 1e2, 125, 130, 135, 140,\n",
    "                        145, 150, 155, 165, 170, 175, 200, 1e3, 1e4]}\n",
    "grid = GridSearchCV(linlasso, param_grid, cv = 15, scoring = 'neg_mean_squared_error', n_jobs = 1)\n",
    "grid.fit(X_train_scaled, y_train)"
   ]
  },
  {
   "cell_type": "code",
   "execution_count": 105,
   "metadata": {
    "scrolled": false
   },
   "outputs": [
    {
     "name": "stdout",
     "output_type": "stream",
     "text": [
      "{'alpha': 1.4} \n",
      "\n",
      " RMSE: 50.04811921097876\n"
     ]
    }
   ],
   "source": [
    "print(grid.best_params_, '\\n\\n', 'RMSE:', np.sqrt(-grid.best_score_))"
   ]
  },
  {
   "cell_type": "markdown",
   "metadata": {},
   "source": [
    "Create new lasso model at the optimized value of alpha."
   ]
  },
  {
   "cell_type": "code",
   "execution_count": 106,
   "metadata": {},
   "outputs": [],
   "source": [
    "linlasso = Lasso(alpha = 1.4)\n",
    "linlasso.fit(X_train_scaled, y_train)\n",
    "y_pred_train = linlasso.predict(X_train_scaled)\n",
    "y_pred_test = linlasso.predict(X_test_scaled)"
   ]
  },
  {
   "cell_type": "markdown",
   "metadata": {},
   "source": [
    "*Is there a linear relationship between our training values and our predicted values?*"
   ]
  },
  {
   "cell_type": "code",
   "execution_count": 107,
   "metadata": {},
   "outputs": [
    {
     "data": {
      "image/png": "[encoded data removed]",
      "text/plain": [
       "<Figure size 432x432 with 3 Axes>"
      ]
     },
     "metadata": {},
     "output_type": "display_data"
    }
   ],
   "source": [
    "sns.set_style('darkgrid')\n",
    "\n",
    "ax = sns.jointplot(x = y_train, y = y_pred_train, \n",
    "                   kind = 'reg', height = 6, ratio = 6);\n",
    "ax.set_axis_labels('Y Train', 'Predicted Y')\n",
    "regline = ax.ax_joint.get_lines()[0]\n",
    "regline.set_color('red')"
   ]
  },
  {
   "cell_type": "markdown",
   "metadata": {},
   "source": [
    "Create a dataframe to print the effect/error of the current model."
   ]
  },
  {
   "cell_type": "code",
   "execution_count": 108,
   "metadata": {},
   "outputs": [
    {
     "name": "stdout",
     "output_type": "stream",
     "text": [
      "Multiple Linear Regression Coefficients\n",
      "Lasso Regression, Polynomial Degree 1\n",
      "Alpha = 1.4\n",
      "Intercept: 17.08\n",
      "Total Non-Zero Coefficients: 18\n",
      "Total Zero Coefficients: 0\n",
      "\n",
      "                       effect  error  abs_effect\n",
      "nadac_cost_per_unit    53.550  6.330      53.550\n",
      "avg_molecular_weight    1.560  1.490       1.560\n",
      "num_drug_interactions  -1.380  2.850       1.380\n",
      "num_clinical_trials     0.800  0.990       0.800\n"
     ]
    }
   ],
   "source": [
    "print('Multiple Linear Regression Coefficients\\nLasso Regression, Polynomial Degree 1\\nAlpha = 1.4')\n",
    "print('Intercept:', linlasso.intercept_.round(2))\n",
    "print('Total Non-Zero Coefficients: {}'.format(len(cdf[cdf['effect'] != 0]['effect'].round(2))))\n",
    "print('Total Zero Coefficients: {}\\n'.format(len(cdf[cdf['effect'] == 0]['effect'].round(2))))\n",
    "\n",
    "err = np.std([linlasso.fit(*resample(X_train_scaled, y_train)).coef_\n",
    "              for i in range(1000)], 0)\n",
    "cdf = pd.DataFrame({'effect': linlasso.coef_.round(2),\n",
    "                    'error': err.round(2)}, feature_names)\n",
    "cdf['abs_effect'] = abs(cdf['effect'])\n",
    "\n",
    "print(cdf[cdf['effect'] != 0].sort_values(by = 'abs_effect', ascending = False))"
   ]
  },
  {
   "cell_type": "code",
   "execution_count": 109,
   "metadata": {
    "scrolled": false
   },
   "outputs": [
    {
     "name": "stdout",
     "output_type": "stream",
     "text": [
      "Train R^2:   0.62\n",
      "Train MAE:  12.98\n",
      "Train MSE:  2329.24\n",
      "Train RMSE: 48.26\n"
     ]
    }
   ],
   "source": [
    "print('Train R^2:  ', linlasso.score(X_train_scaled, y_train).round(2))\n",
    "print('Train MAE: ', metrics.mean_absolute_error(y_train, y_pred_train).round(2))\n",
    "print('Train MSE: ', metrics.mean_squared_error(y_train, y_pred_train).round(2))\n",
    "print('Train RMSE:', np.sqrt(metrics.mean_squared_error(y_train, y_pred_train)).round(2))"
   ]
  },
  {
   "cell_type": "markdown",
   "metadata": {},
   "source": [
    "### **Ridge Regression**"
   ]
  },
  {
   "cell_type": "markdown",
   "metadata": {},
   "source": [
    "***Will multiple ridge regression allow for an accurate model to predict the price per pill of prescription drugs?***"
   ]
  },
  {
   "cell_type": "code",
   "execution_count": 110,
   "metadata": {},
   "outputs": [],
   "source": [
    "from sklearn.linear_model import Ridge"
   ]
  },
  {
   "cell_type": "code",
   "execution_count": 111,
   "metadata": {},
   "outputs": [],
   "source": [
    "linridge = Ridge()\n",
    "linridge.fit(X_train_scaled, y_train)\n",
    "y_pred_train = linridge.predict(X_train_scaled)\n",
    "y_pred_test = linridge.predict(X_test_scaled)"
   ]
  },
  {
   "cell_type": "markdown",
   "metadata": {},
   "source": [
    "Perform cross-validation to optimize alpha for ridge model."
   ]
  },
  {
   "cell_type": "code",
   "execution_count": 112,
   "metadata": {},
   "outputs": [
    {
     "data": {
      "text/plain": [
       "GridSearchCV(cv=15, error_score='raise-deprecating',\n",
       "       estimator=Ridge(alpha=1.0, copy_X=True, fit_intercept=True, max_iter=None,\n",
       "   normalize=False, random_state=None, solver='auto', tol=0.001),\n",
       "       fit_params=None, iid='warn', n_jobs=1,\n",
       "       param_grid={'alpha': [0.0001, 1e-05, 0.001, 0.1, 1, 5, 6, 7, 8, 9, 10, 11, 12, 13, 14, 15, 16, 17, 18, 19, 20, 21, 30, 40, 50, 60, 70, 80, 90, 100.0, 125, 130, 135, 140, 145, 150, 155, 165, 170, 175, 200, 600, 690, 691, 692, 693, 694, 695, 696, 697, 698, 699, 700, 705, 710, 800, 825, 850, 874, 875, 876, 877, 888, 889, 890, 891, 892, 893, 894, 895, 896, 897, 898, 899, 900, 1000.0, 1100, 10000.0]},\n",
       "       pre_dispatch='2*n_jobs', refit=True, return_train_score='warn',\n",
       "       scoring='neg_mean_squared_error', verbose=0)"
      ]
     },
     "execution_count": 112,
     "metadata": {},
     "output_type": "execute_result"
    }
   ],
   "source": [
    "param_grid = {'alpha': [1e-4, 1e-5, 1e-3, 1e-1, 1, 5, 6, 7, 8, 9, 10,\n",
    "                        11, 12, 13, 14, 15, 16, 17, 18, 19, 20,\n",
    "                        21, 30, 40, 50, 60, 70, 80, 90, 1e2, 125,\n",
    "                        130, 135, 140, 145, 150, 155, 165, 170, 175,\n",
    "                        200, 600, 690, 691, 692, 693, 694, 695, 696,\n",
    "                        697, 698, 699,700, 705, 710, 800, 825, 850,\n",
    "                        874, 875, 876, 877, 888, 889, 890, 891, 892,\n",
    "                        893, 894, 895, 896, 897, 898, 899, 900, 1e3, 1100, 1e4]}\n",
    "grid = GridSearchCV(linridge, param_grid, cv = 15, scoring = 'neg_mean_squared_error', n_jobs = 1)\n",
    "grid.fit(X_train_scaled, y_train)"
   ]
  },
  {
   "cell_type": "code",
   "execution_count": 113,
   "metadata": {
    "scrolled": false
   },
   "outputs": [
    {
     "name": "stdout",
     "output_type": "stream",
     "text": [
      "{'alpha': 1} \n",
      "\n",
      " RMSE: 50.161572234751866\n"
     ]
    }
   ],
   "source": [
    "print(grid.best_params_, '\\n\\n', 'RMSE:', np.sqrt(-grid.best_score_))"
   ]
  },
  {
   "cell_type": "markdown",
   "metadata": {},
   "source": [
    "Create new ridge model at the optimized value of alpha."
   ]
  },
  {
   "cell_type": "code",
   "execution_count": 156,
   "metadata": {},
   "outputs": [],
   "source": [
    "linridge = Ridge(alpha = 1)\n",
    "linridge.fit(X_train_scaled, y_train)\n",
    "y_pred_train = linridge.predict(X_train_scaled)\n",
    "y_pred_test = linridge.predict(X_test_scaled)"
   ]
  },
  {
   "cell_type": "markdown",
   "metadata": {},
   "source": [
    "*Is there a linear relationship between our training values and our predicted values?*"
   ]
  },
  {
   "cell_type": "code",
   "execution_count": 157,
   "metadata": {
    "scrolled": true
   },
   "outputs": [
    {
     "data": {
      "image/png": "[encoded data removed]",
      "text/plain": [
       "<Figure size 432x432 with 3 Axes>"
      ]
     },
     "metadata": {},
     "output_type": "display_data"
    }
   ],
   "source": [
    "sns.set_style('darkgrid')\n",
    "\n",
    "ax = sns.jointplot(x = y_test, y = y_pred_test, \n",
    "                   kind = 'reg', height = 6, ratio = 6);\n",
    "ax.set_axis_labels('Y Test', 'Predicted Y')\n",
    "regline = ax.ax_joint.get_lines()[0]\n",
    "regline.set_color('red')"
   ]
  },
  {
   "cell_type": "markdown",
   "metadata": {},
   "source": [
    "Create a dataframe to print the effect/error of the current model."
   ]
  },
  {
   "cell_type": "code",
   "execution_count": 158,
   "metadata": {},
   "outputs": [
    {
     "name": "stdout",
     "output_type": "stream",
     "text": [
      "Multiple Linear Regression Coefficients\n",
      "RIdge Regression, Polynomial Degree 1\n",
      "Alpha = 7\n",
      "Intercept: 17.08\n",
      "Total Non-Zero Coefficients: 18\n",
      "Total Zero Coefficients: 0\n",
      "\n",
      "                               effect  error  abs_effect\n",
      "nadac_cost_per_unit            65.290  5.750      65.290\n",
      "num_drug_interactions          -3.550  3.140       3.550\n",
      "avg_molecular_weight            1.660  2.580       1.660\n",
      "investigational_drug           -1.640  2.120       1.640\n",
      "num_food_interactions           1.510  2.510       1.510\n",
      "num_patents_on_chem             1.160  1.650       1.160\n",
      "num_clinical_trials            -0.860  3.110       0.860\n",
      "generic_drug                    0.790  0.810       0.790\n",
      "affected_humans_other_mammals   0.700  2.460       0.700\n",
      "num_dosage_forms               -0.500  1.160       0.500\n",
      "num_manufacturers_for_chem      0.460  1.520       0.460\n",
      "num_packagers_for_chem         -0.340  2.600       0.340\n",
      "illicit_drug                   -0.340  0.650       0.340\n",
      "num_targets                    -0.330  0.770       0.330\n",
      "aromatic_molecular_framework    0.290  1.090       0.290\n",
      "Solid                          -0.270  0.560       0.270\n",
      "vet_approved_drug              -0.230  5.410       0.230\n",
      "nutraceutical_drug             -0.210  0.540       0.210\n"
     ]
    }
   ],
   "source": [
    "print('Multiple Linear Regression Coefficients\\nRIdge Regression, Polynomial Degree 1\\nAlpha = 1')\n",
    "print('Intercept:', linridge.intercept_.round(2))\n",
    "print('Total Non-Zero Coefficients: {}'.format(len(cdf[cdf['effect'] != 0]['effect'].round(2))))\n",
    "print('Total Zero Coefficients: {}\\n'.format(len(cdf[cdf['effect'] == 0]['effect'].round(2))))\n",
    "\n",
    "err = np.std([linridge.fit(*resample(X_train_scaled, y_train)).coef_\n",
    "              for i in range(1000)], 0)\n",
    "cdf = pd.DataFrame({'effect': linridge.coef_.round(2),\n",
    "                    'error': err.round(2)}, feature_names)\n",
    "cdf['abs_effect'] = abs(cdf['effect'])\n",
    "\n",
    "print(cdf[cdf['effect'] != 0].sort_values(by = 'abs_effect', ascending = False))"
   ]
  },
  {
   "cell_type": "code",
   "execution_count": 159,
   "metadata": {
    "scrolled": true
   },
   "outputs": [
    {
     "name": "stdout",
     "output_type": "stream",
     "text": [
      "Train R^2:   0.64\n",
      "Train MAE:  14.99\n",
      "Train MSE:  2306.22\n",
      "Train RMSE: 48.02\n"
     ]
    }
   ],
   "source": [
    "print('Train R^2:  ', linridge.score(X_train_scaled, y_train).round(2))\n",
    "print('Train MAE: ', metrics.mean_absolute_error(y_train, y_pred_train).round(2))\n",
    "print('Train MSE: ', metrics.mean_squared_error(y_train, y_pred_train).round(2))\n",
    "print('Train RMSE:', np.sqrt(metrics.mean_squared_error(y_train, y_pred_train)).round(2))"
   ]
  },
  {
   "cell_type": "markdown",
   "metadata": {},
   "source": [
    "Chosen model for testing is multiple linear regression"
   ]
  },
  {
   "cell_type": "markdown",
   "metadata": {},
   "source": [
    "*Lowest RMSE across all models.*"
   ]
  },
  {
   "cell_type": "code",
   "execution_count": 118,
   "metadata": {},
   "outputs": [],
   "source": [
    "linreg = LinearRegression()\n",
    "linreg.fit(X_train_scaled, y_train)\n",
    "y_pred_test = linreg.predict(X_test_scaled)"
   ]
  },
  {
   "cell_type": "code",
   "execution_count": 119,
   "metadata": {},
   "outputs": [
    {
     "name": "stdout",
     "output_type": "stream",
     "text": [
      "Avg RMSE for 10 folds Cross-Val:         31.29\n",
      "Std Dev of RMSE for 10 folds Cross-Val:  48.57\n"
     ]
    }
   ],
   "source": [
    "scores = cross_val_score(linreg, X, y, cv = 10, scoring = 'neg_mean_squared_error')\n",
    "print('Avg RMSE for 10 folds Cross-Val:        ', np.sqrt(-scores).mean().round(2))\n",
    "print('Std Dev of RMSE for 10 folds Cross-Val: ', np.sqrt(-scores).std().round(2))"
   ]
  },
  {
   "cell_type": "markdown",
   "metadata": {},
   "source": [
    "Create a dataframe to print the effect/error of the current model."
   ]
  },
  {
   "cell_type": "code",
   "execution_count": 120,
   "metadata": {
    "scrolled": true
   },
   "outputs": [
    {
     "name": "stdout",
     "output_type": "stream",
     "text": [
      "Multiple Linear Regression Coefficients\n",
      "Simple Linear Regression, Polynomial Degree 1\n",
      "Alpha = 0\n",
      "Intercept: 17.08\n",
      "Total Non-Zero Coefficients: 18\n",
      "\n",
      "                               effect  error  abs_effect\n",
      "nadac_cost_per_unit            63.190  6.000      63.190\n",
      "vet_approved_drug               4.170  5.000       4.170\n",
      "num_drug_interactions          -3.110  3.000       3.110\n",
      "affected_humans_other_mammals  -2.670  3.000       2.670\n",
      "num_food_interactions           2.320  3.000       2.320\n",
      "avg_molecular_weight           -1.500  3.000       1.500\n",
      "num_packagers_for_chem         -1.050  3.000       1.050\n",
      "num_manufacturers_for_chem     -1.000  1.000       1.000\n",
      "investigational_drug            0.900  2.000       0.900\n",
      "num_patents_on_chem            -0.700  2.000       0.700\n",
      "generic_drug                    0.680  1.000       0.680\n",
      "num_dosage_forms               -0.670  1.000       0.670\n",
      "num_clinical_trials             0.650  3.000       0.650\n",
      "illicit_drug                    0.550  1.000       0.550\n",
      "aromatic_molecular_framework   -0.520  1.000       0.520\n",
      "num_targets                     0.120  1.000       0.120\n",
      "Solid                           0.110  1.000       0.110\n",
      "nutraceutical_drug             -0.110  1.000       0.110\n"
     ]
    }
   ],
   "source": [
    "print('Multiple Linear Regression Coefficients\\nSimple Linear Regression, Polynomial Degree 1\\nAlpha = 0')\n",
    "print('Intercept:', linreg.intercept_.round(2))\n",
    "print('Total Non-Zero Coefficients: {}\\n'.format(len(linreg.coef_.round(2))))\n",
    "\n",
    "err = np.std([linreg.fit(*resample(X_train_scaled, y_train)).coef_\n",
    "              for i in range(1000)], 0)\n",
    "cdf = pd.DataFrame({'effect': linreg.coef_.round(2),\n",
    "                    'error': err.round(0)}, feature_names)\n",
    "cdf['abs_effect'] = abs(cdf['effect'])\n",
    "\n",
    "print(cdf.sort_values(by = 'abs_effect', ascending = False))"
   ]
  },
  {
   "cell_type": "code",
   "execution_count": 121,
   "metadata": {},
   "outputs": [
    {
     "name": "stdout",
     "output_type": "stream",
     "text": [
      "Train R^2:   0.65\n",
      "Test  R^2:   0.86\n",
      "Test  MAE:  12.55\n",
      "Test  MSE:  758.48\n",
      "Test  RMSE: 27.54\n"
     ]
    }
   ],
   "source": [
    "print('Train R^2:  ', linreg.score(X_train_scaled, y_train).round(2))\n",
    "print('Test  R^2:  ', linreg.score(X_test_scaled, y_test).round(2))\n",
    "print('Test  MAE: ', metrics.mean_absolute_error(y_test, y_pred_test).round(2))\n",
    "print('Test  MSE: ', metrics.mean_squared_error(y_test, y_pred_test).round(2))\n",
    "print('Test  RMSE:', np.sqrt(metrics.mean_squared_error(y_test, y_pred_test)).round(2))"
   ]
  },
  {
   "cell_type": "markdown",
   "metadata": {},
   "source": [
    "### **Obtaining Beta Values from Model of Choice**"
   ]
  },
  {
   "cell_type": "markdown",
   "metadata": {},
   "source": [
    "Rescaled data for all x's (without train, test, split)."
   ]
  },
  {
   "cell_type": "code",
   "execution_count": 138,
   "metadata": {},
   "outputs": [],
   "source": [
    "X_scaled = scaler.transform(X)"
   ]
  },
  {
   "cell_type": "code",
   "execution_count": 139,
   "metadata": {},
   "outputs": [],
   "source": [
    "linreg = LinearRegression()\n",
    "linreg.fit(X_scaled, y)\n",
    "y_pred = linreg.predict(X_scaled)"
   ]
  },
  {
   "cell_type": "code",
   "execution_count": 140,
   "metadata": {},
   "outputs": [
    {
     "name": "stdout",
     "output_type": "stream",
     "text": [
      "Avg RMSE for 10 folds Cross-Val:         31.29\n",
      "Std Dev of RMSE for 10 folds Cross-Val:  48.57\n"
     ]
    }
   ],
   "source": [
    "scores = cross_val_score(linreg, X, y, cv = 10, scoring = 'neg_mean_squared_error')\n",
    "print('Avg RMSE for 10 folds Cross-Val:        ', np.sqrt(-scores).mean().round(2))\n",
    "print('Std Dev of RMSE for 10 folds Cross-Val: ', np.sqrt(-scores).std().round(2))"
   ]
  },
  {
   "cell_type": "code",
   "execution_count": 141,
   "metadata": {},
   "outputs": [],
   "source": [
    "from statsmodels.stats.outliers_influence import variance_inflation_factor"
   ]
  },
  {
   "cell_type": "code",
   "execution_count": 142,
   "metadata": {},
   "outputs": [],
   "source": [
    "feature_names2 = ['Avg Molecular Weight', 'Num Clinical Trials',\n",
    "                 'Num Dosage Forms', 'Num Drug Interactions',\n",
    "                 'Num Food Interactions', 'Num Manufacturers for Chem',\n",
    "                 'Num Packagers for Chem', 'Num Patents on Chemical',\n",
    "                 'Num Targets', 'NADAC Per Unit', 'Chemical State',\n",
    "                 'Affected Humans/Other Mammals', 'Investigational Drug',\n",
    "                 'Vet Approved Drug', 'Illicit Drug', 'Nutraceutical Drug',\n",
    "                 'Generic Exists', 'Aromatic Molecular Framework']"
   ]
  },
  {
   "cell_type": "code",
   "execution_count": 143,
   "metadata": {},
   "outputs": [],
   "source": [
    "vif = pd.DataFrame()\n",
    "vif['VIF Factor'] = [variance_inflation_factor(X_scaled, i) for i in range(X_scaled.shape[1])]\n",
    "vif['features'] = feature_names2"
   ]
  },
  {
   "cell_type": "code",
   "execution_count": 144,
   "metadata": {},
   "outputs": [
    {
     "data": {
      "text/html": [
       "<div>\n",
       "<style scoped>\n",
       "    .dataframe tbody tr th:only-of-type {\n",
       "        vertical-align: middle;\n",
       "    }\n",
       "\n",
       "    .dataframe tbody tr th {\n",
       "        vertical-align: top;\n",
       "    }\n",
       "\n",
       "    .dataframe thead th {\n",
       "        text-align: right;\n",
       "    }\n",
       "</style>\n",
       "<table border=\"1\" class=\"dataframe\">\n",
       "  <thead>\n",
       "    <tr style=\"text-align: right;\">\n",
       "      <th></th>\n",
       "      <th>VIF Factor</th>\n",
       "      <th>features</th>\n",
       "    </tr>\n",
       "  </thead>\n",
       "  <tbody>\n",
       "    <tr>\n",
       "      <th>6</th>\n",
       "      <td>2.455</td>\n",
       "      <td>Num Packagers for Chem</td>\n",
       "    </tr>\n",
       "    <tr>\n",
       "      <th>5</th>\n",
       "      <td>2.055</td>\n",
       "      <td>Num Manufacturers for Chem</td>\n",
       "    </tr>\n",
       "    <tr>\n",
       "      <th>2</th>\n",
       "      <td>1.762</td>\n",
       "      <td>Num Dosage Forms</td>\n",
       "    </tr>\n",
       "    <tr>\n",
       "      <th>1</th>\n",
       "      <td>1.461</td>\n",
       "      <td>Num Clinical Trials</td>\n",
       "    </tr>\n",
       "    <tr>\n",
       "      <th>4</th>\n",
       "      <td>1.432</td>\n",
       "      <td>Num Food Interactions</td>\n",
       "    </tr>\n",
       "    <tr>\n",
       "      <th>7</th>\n",
       "      <td>1.425</td>\n",
       "      <td>Num Patents on Chemical</td>\n",
       "    </tr>\n",
       "    <tr>\n",
       "      <th>3</th>\n",
       "      <td>1.411</td>\n",
       "      <td>Num Drug Interactions</td>\n",
       "    </tr>\n",
       "    <tr>\n",
       "      <th>13</th>\n",
       "      <td>1.278</td>\n",
       "      <td>Vet Approved Drug</td>\n",
       "    </tr>\n",
       "    <tr>\n",
       "      <th>11</th>\n",
       "      <td>1.187</td>\n",
       "      <td>Affected Humans/Other Mammals</td>\n",
       "    </tr>\n",
       "    <tr>\n",
       "      <th>0</th>\n",
       "      <td>1.136</td>\n",
       "      <td>Avg Molecular Weight</td>\n",
       "    </tr>\n",
       "    <tr>\n",
       "      <th>17</th>\n",
       "      <td>1.134</td>\n",
       "      <td>Aromatic Molecular Framework</td>\n",
       "    </tr>\n",
       "    <tr>\n",
       "      <th>8</th>\n",
       "      <td>1.128</td>\n",
       "      <td>Num Targets</td>\n",
       "    </tr>\n",
       "    <tr>\n",
       "      <th>14</th>\n",
       "      <td>1.101</td>\n",
       "      <td>Illicit Drug</td>\n",
       "    </tr>\n",
       "    <tr>\n",
       "      <th>9</th>\n",
       "      <td>1.088</td>\n",
       "      <td>NADAC Per Unit</td>\n",
       "    </tr>\n",
       "    <tr>\n",
       "      <th>12</th>\n",
       "      <td>1.080</td>\n",
       "      <td>Investigational Drug</td>\n",
       "    </tr>\n",
       "    <tr>\n",
       "      <th>10</th>\n",
       "      <td>1.075</td>\n",
       "      <td>Chemical State</td>\n",
       "    </tr>\n",
       "    <tr>\n",
       "      <th>15</th>\n",
       "      <td>1.054</td>\n",
       "      <td>Nutraceutical Drug</td>\n",
       "    </tr>\n",
       "    <tr>\n",
       "      <th>16</th>\n",
       "      <td>1.021</td>\n",
       "      <td>Generic Exists</td>\n",
       "    </tr>\n",
       "  </tbody>\n",
       "</table>\n",
       "</div>"
      ],
      "text/plain": [
       "    VIF Factor                       features\n",
       "6        2.455         Num Packagers for Chem\n",
       "5        2.055     Num Manufacturers for Chem\n",
       "2        1.762               Num Dosage Forms\n",
       "1        1.461            Num Clinical Trials\n",
       "4        1.432          Num Food Interactions\n",
       "7        1.425        Num Patents on Chemical\n",
       "3        1.411          Num Drug Interactions\n",
       "13       1.278              Vet Approved Drug\n",
       "11       1.187  Affected Humans/Other Mammals\n",
       "0        1.136           Avg Molecular Weight\n",
       "17       1.134   Aromatic Molecular Framework\n",
       "8        1.128                    Num Targets\n",
       "14       1.101                   Illicit Drug\n",
       "9        1.088                 NADAC Per Unit\n",
       "12       1.080           Investigational Drug\n",
       "10       1.075                 Chemical State\n",
       "15       1.054             Nutraceutical Drug\n",
       "16       1.021                 Generic Exists"
      ]
     },
     "execution_count": 144,
     "metadata": {},
     "output_type": "execute_result"
    }
   ],
   "source": [
    "vif.sort_values(by = 'VIF Factor', ascending = False)"
   ]
  },
  {
   "cell_type": "markdown",
   "metadata": {},
   "source": [
    "Create a dataframe to print the effect/error of the current model."
   ]
  },
  {
   "cell_type": "code",
   "execution_count": 147,
   "metadata": {
    "scrolled": true
   },
   "outputs": [
    {
     "name": "stdout",
     "output_type": "stream",
     "text": [
      "Multiple Linear Regression Coefficients\n",
      "Simple Linear Regression, Polynomial Degree 1\n",
      "Alpha = 0\n",
      "Intercept: 17.96\n",
      "Total Non-Zero Coefficients: 18\n",
      "\n"
     ]
    }
   ],
   "source": [
    "print('Multiple Linear Regression Coefficients\\nSimple Linear Regression, Polynomial Degree 1\\nAlpha = 0')\n",
    "print('Intercept:', linreg.intercept_.round(2))\n",
    "print('Total Non-Zero Coefficients: {}\\n'.format(len(linreg.coef_.round(2))))\n",
    "\n",
    "err = np.std([linreg.fit(*resample(X_scaled, y)).coef_\n",
    "              for i in range(1000)], 0)\n",
    "cdf = pd.DataFrame({'effect': linreg.coef_.round(2),\n",
    "                    'error': err.round(0)}, feature_names)\n",
    "cdf['abs_effect'] = abs(cdf['effect'])\n",
    "cdf.to_pickle('./Pickles/linreg_cdf.pkl')"
   ]
  },
  {
   "cell_type": "code",
   "execution_count": 148,
   "metadata": {},
   "outputs": [
    {
     "name": "stdout",
     "output_type": "stream",
     "text": [
      "Train R^2:   0.64\n",
      "Test  R^2:   0.86\n",
      "Test  MAE:  12.55\n",
      "Test  MSE:  758.48\n",
      "Test  RMSE: 27.54\n"
     ]
    }
   ],
   "source": [
    "print('Train R^2:  ', linreg.score(X_train_scaled, y_train).round(2))\n",
    "print('Test  R^2:  ', linreg.score(X_test_scaled, y_test).round(2))\n",
    "print('Test  MAE: ', metrics.mean_absolute_error(y_test, y_pred_test).round(2))\n",
    "print('Test  MSE: ', metrics.mean_squared_error(y_test, y_pred_test).round(2))\n",
    "print('Test  RMSE:', np.sqrt(metrics.mean_squared_error(y_test, y_pred_test)).round(2))"
   ]
  },
  {
   "cell_type": "code",
   "execution_count": 149,
   "metadata": {},
   "outputs": [
    {
     "data": {
      "text/plain": [
       "0               nadac_cost_per_unit\n",
       "1             num_drug_interactions\n",
       "2                 vet_approved_drug\n",
       "3                       num_targets\n",
       "4             num_food_interactions\n",
       "5              investigational_drug\n",
       "6     affected_humans_other_mammals\n",
       "7                      illicit_drug\n",
       "8        num_manufacturers_for_chem\n",
       "9      aromatic_molecular_framework\n",
       "10                            Solid\n",
       "11                 num_dosage_forms\n",
       "12              num_clinical_trials\n",
       "13              num_patents_on_chem\n",
       "14           num_packagers_for_chem\n",
       "15                     generic_drug\n",
       "16             avg_molecular_weight\n",
       "17               nutraceutical_drug\n",
       "Name: index, dtype: object"
      ]
     },
     "execution_count": 149,
     "metadata": {},
     "output_type": "execute_result"
    }
   ],
   "source": [
    "cdf.sort_values(by = 'abs_effect', ascending = False).reset_index()['index']"
   ]
  },
  {
   "cell_type": "code",
   "execution_count": 150,
   "metadata": {},
   "outputs": [
    {
     "data": {
      "text/plain": [
       "0            Num Packagers for Chem\n",
       "1        Num Manufacturers for Chem\n",
       "2                  Num Dosage Forms\n",
       "3               Num Clinical Trials\n",
       "4             Num Food Interactions\n",
       "5           Num Patents on Chemical\n",
       "6             Num Drug Interactions\n",
       "7                 Vet Approved Drug\n",
       "8     Affected Humans/Other Mammals\n",
       "9              Avg Molecular Weight\n",
       "10     Aromatic Molecular Framework\n",
       "11                      Num Targets\n",
       "12                     Illicit Drug\n",
       "13                   NADAC Per Unit\n",
       "14             Investigational Drug\n",
       "15                   Chemical State\n",
       "16               Nutraceutical Drug\n",
       "17                   Generic Exists\n",
       "Name: features, dtype: object"
      ]
     },
     "execution_count": 150,
     "metadata": {},
     "output_type": "execute_result"
    }
   ],
   "source": [
    "vif.sort_values(by = 'VIF Factor', ascending = False).reset_index()['features']"
   ]
  },
  {
   "cell_type": "code",
   "execution_count": 151,
   "metadata": {},
   "outputs": [
    {
     "data": {
      "image/png": "[encoded data removed]",
      "text/plain": [
       "<Figure size 864x504 with 1 Axes>"
      ]
     },
     "metadata": {},
     "output_type": "display_data"
    }
   ],
   "source": [
    "# graphed vif values by feature.\n",
    "# features = ['Chemical State', 'Generic Exists',' Num Drug Interactions',\n",
    "#             'Aromatic Molecular Framework', 'Affected Humans/Other Mammals',\n",
    "#             'Num Packagers for Chemical', 'Avg Molecular Weight',\n",
    "#             'Num Dosage Forms', 'Num Food Interactions','Num Manufacturers for Chem',\n",
    "#             'Num Clinical Trials', 'Investigational Drug', 'Num Patents on Chemical',\n",
    "#             'Vet Approved Drug', 'Num Targets', 'Illicit Drug',\n",
    "#             'NADAC Per Unit', 'Nutraceutical Drug']\n",
    "\n",
    "plt.style.use('seaborn')\n",
    "sns.set_style('whitegrid')\n",
    "plt.figure(figsize = (12, 7))\n",
    "\n",
    "clrs = ['red' if (x == 'NADAC Per Unit') else 'teal' for x in vif.sort_values(by = 'VIF Factor', ascending = True).reset_index()['features']]\n",
    "ax = sns.barplot(x = 'features', y = 'VIF Factor', palette = clrs,\n",
    "                 data = vif.sort_values(by = 'VIF Factor', ascending = True).reset_index())\n",
    "ax.set_title('VIF Feature Weights\\nwith NADAC Highlighted in Red')\n",
    "ax.set_xlabel('Features')\n",
    "ax.set_ylabel('Variance Inflation Factor')\n",
    "ax.set_xticklabels(vif.sort_values(by = 'VIF Factor', ascending = True).reset_index()['features'], \n",
    "                   rotation = 45, ha = \"right\")\n",
    "\n",
    "\n",
    "plt.tight_layout()\n",
    "plt.savefig('feature_importance_w_cost.png')"
   ]
  },
  {
   "cell_type": "code",
   "execution_count": 155,
   "metadata": {},
   "outputs": [
    {
     "data": {
      "image/png": "[encoded data removed]",
      "text/plain": [
       "<Figure size 864x504 with 1 Axes>"
      ]
     },
     "metadata": {},
     "output_type": "display_data"
    }
   ],
   "source": [
    "# graphed final beta values by feature (without pharmacy cost per unit).\n",
    "features = ['NADAC per Unit', 'Num Drug Interactions', 'Vet Approved Drug',\n",
    "            'Generic Exists', 'Num Packagers for Chemical', 'Avg Molecular Weight',\n",
    "            'Num Food Interactions', 'Investigational Drug', 'Num Dosage Forms',\n",
    "            'Num Patents on Chemical', 'Num Clinical Trials', 'Nutraceutical Drug',\n",
    "            'Illicit Drug', 'Affected Humans/Other Mammals', 'Num Targets',\n",
    "            'Aromatic Molecular Framework', 'Num Manufacturers for Chem', 'Solid']\n",
    "\n",
    "plt.style.use('seaborn')\n",
    "sns.set_style('whitegrid')\n",
    "plt.figure(figsize = (12, 7))\n",
    "\n",
    "ax = sns.barplot(x = 'index',  y = 'effect', \n",
    "                 data = cdf.sort_values(by = 'abs_effect', ascending = False)[1:].reset_index(), color = 'teal')\n",
    "ax.set_title('Coefficients for Prescription Drug Prices without NADAC')\n",
    "ax.set_xlabel('Features')\n",
    "ax.set_ylabel('Coefficient Values')\n",
    "ax.set_xticklabels(features[1:], \n",
    "                   rotation = 45, ha = \"right\")\n",
    "\n",
    "plt.tight_layout()\n",
    "plt.savefig('feature_importance_no_cost_feature.png')"
   ]
  },
  {
   "cell_type": "code",
   "execution_count": 152,
   "metadata": {
    "scrolled": true
   },
   "outputs": [
    {
     "ename": "NameError",
     "evalue": "name 'features' is not defined",
     "output_type": "error",
     "traceback": [
      "\u001b[0;31m---------------------------------------------------------------------------\u001b[0m",
      "\u001b[0;31mNameError\u001b[0m                                 Traceback (most recent call last)",
      "\u001b[0;32m<ipython-input-152-050ffc1fe67a>\u001b[0m in \u001b[0;36m<module>\u001b[0;34m()\u001b[0m\n\u001b[0;32m----> 1\u001b[0;31m \u001b[0mlen\u001b[0m\u001b[0;34m(\u001b[0m\u001b[0mfeatures\u001b[0m\u001b[0;34m)\u001b[0m\u001b[0;34m\u001b[0m\u001b[0m\n\u001b[0m",
      "\u001b[0;31mNameError\u001b[0m: name 'features' is not defined"
     ]
    }
   ],
   "source": [
    "len(features)"
   ]
  },
  {
   "cell_type": "code",
   "execution_count": null,
   "metadata": {},
   "outputs": [],
   "source": []
  },
  {
   "cell_type": "code",
   "execution_count": null,
   "metadata": {},
   "outputs": [],
   "source": []
  },
  {
   "cell_type": "code",
   "execution_count": null,
   "metadata": {},
   "outputs": [],
   "source": []
  },
  {
   "cell_type": "code",
   "execution_count": null,
   "metadata": {},
   "outputs": [],
   "source": []
  }
 ],
 "metadata": {
  "kernelspec": {
   "display_name": "Python 3",
   "language": "python",
   "name": "python3"
  },
  "language_info": {
   "codemirror_mode": {
    "name": "ipython",
    "version": 3
   },
   "file_extension": ".py",
   "mimetype": "text/x-python",
   "name": "python",
   "nbconvert_exporter": "python",
   "pygments_lexer": "ipython3",
   "version": "3.6.4"
  }
 },
 "nbformat": 4,
 "nbformat_minor": 2
}
