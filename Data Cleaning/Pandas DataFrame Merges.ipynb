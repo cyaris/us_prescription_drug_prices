{
 "cells": [
  {
   "cell_type": "code",
   "execution_count": 20,
   "metadata": {},
   "outputs": [],
   "source": [
    "import pandas as pd\n",
    "import numpy as np\n",
    "from copy import deepcopy"
   ]
  },
  {
   "cell_type": "code",
   "execution_count": 21,
   "metadata": {},
   "outputs": [],
   "source": [
    "from my_functions import drug_name_match\n",
    "from my_functions import drug_name_filter_match"
   ]
  },
  {
   "cell_type": "code",
   "execution_count": 22,
   "metadata": {},
   "outputs": [],
   "source": [
    "pd.set_option('display.max_colwidth', 1000)\n",
    "pd.set_option('display.float_format', lambda x: '%.3f' % x)"
   ]
  },
  {
   "cell_type": "code",
   "execution_count": 23,
   "metadata": {},
   "outputs": [],
   "source": [
    "db_df = pd.read_pickle('../Pickles/db_df.pkl')\n",
    "grx_df = pd.read_pickle('../Pickles/grx_df.pkl')\n",
    "nadac_df = pd.read_pickle('../Pickles/nadac_df.pkl')"
   ]
  },
  {
   "cell_type": "code",
   "execution_count": 24,
   "metadata": {},
   "outputs": [],
   "source": [
    "# created new column chem_name for grx_df to join with chem_name in db_df.\n",
    "# looping matches between grx_df['drug_name'] and db_df['brand_names'].\n",
    "for i, grx_drug in enumerate(grx_df['drug_name']):\n",
    "    for z, db_brand in enumerate(db_df['brand_names']):\n",
    "        if grx_drug in db_brand:\n",
    "            grx_df.loc[i, 'chem_name'] = db_df['chem_name'][z]"
   ]
  },
  {
   "cell_type": "code",
   "execution_count": 25,
   "metadata": {},
   "outputs": [
    {
     "data": {
      "text/plain": [
       "1816"
      ]
     },
     "execution_count": 25,
     "metadata": {},
     "output_type": "execute_result"
    }
   ],
   "source": [
    "# made all null values for grx_df['chem_name'] 'No Match'\n",
    "# to clearly identify rows that have not yet been matched with a chemical.\n",
    "grx_df.loc[grx_df['chem_name'].astype(str) == 'nan', 'chem_name'] = 'No Match'\n",
    "        \n",
    "# checking for the number of rows that have not yet been matched with a chemical.\n",
    "len(grx_df[grx_df['chem_name'] == 'No Match'])"
   ]
  },
  {
   "cell_type": "code",
   "execution_count": 26,
   "metadata": {},
   "outputs": [
    {
     "name": "stdout",
     "output_type": "stream",
     "text": [
      "1102\n"
     ]
    }
   ],
   "source": [
    "# looping matches between grx_df['generic_name'] and db_df['brand_names'].\n",
    "drug_name_filter_match(grx_df, 'chem_name', 'generic_name', db_df, 'brand_names')\n",
    "\n",
    "# looping matches between grx_df['drug_name'] and db_df['generic_names'].\n",
    "drug_name_filter_match(grx_df, 'chem_name', 'drug_name', db_df, 'generic_names')\n",
    "\n",
    "# looping matches between grx_df['generic_name'] and db_df['generic_names'].\n",
    "drug_name_filter_match(grx_df, 'chem_name', 'generic_name', db_df, 'generic_names')\n",
    "\n",
    "# looping matches between grx_df['drug_name'] and db_df['chem_name'].\n",
    "drug_name_filter_match(grx_df, 'chem_name', 'drug_name', db_df, 'chem_name')\n",
    "\n",
    "# looping matches between grx_df['chem_name'] and db_df['chem_names'].\n",
    "drug_name_filter_match(grx_df, 'chem_name', 'generic_name', db_df, 'chem_name')\n",
    "\n",
    "# checking for the number of rows that have not yet been matched with a chemical.\n",
    "print(len(grx_df[grx_df['chem_name'] == 'No Match']))"
   ]
  },
  {
   "cell_type": "code",
   "execution_count": 27,
   "metadata": {},
   "outputs": [],
   "source": [
    "# created new dataframe to join grx_df drugs with their chemical equivalents in db_df.\n",
    "df = pd.merge(grx_df, db_df, on = 'chem_name')"
   ]
  },
  {
   "cell_type": "code",
   "execution_count": 28,
   "metadata": {},
   "outputs": [
    {
     "name": "stdout",
     "output_type": "stream",
     "text": [
      "1042\n"
     ]
    }
   ],
   "source": [
    "# created new column ndc_drug_name for grx_df to join with the equivalent drug in nadac_df.\n",
    "# looping matches between df['drug_name'] and nadac_df['ndc_drug_name'].\n",
    "drug_name_match(df, 'ndc_drug_name', 'drug_name', nadac_df, 'ndc_drug_name')\n",
    "\n",
    "# made all null values for df['ndc_drug_name'] 'No Match'\n",
    "# to clearly identify rows that have not yet been matched with a chemical.\n",
    "df.loc[df['ndc_drug_name'].isnull(), 'ndc_drug_name'] = 'No Match'\n",
    "\n",
    "# checking for the number of rows that have not yet been matched with a nadac equivalent drug.\n",
    "print(len(df[df['ndc_drug_name'] == 'No Match']))"
   ]
  },
  {
   "cell_type": "code",
   "execution_count": 29,
   "metadata": {
    "code_folding": []
   },
   "outputs": [
    {
     "name": "stdout",
     "output_type": "stream",
     "text": [
      "576\n"
     ]
    }
   ],
   "source": [
    "# filled in more values for ndc_drug_name to join with df with the equivalent drug in nadac_df.\n",
    "# looping matches between df['generic_name'] and nadac_df['ndc_drug_name'].\n",
    "drug_name_filter_match(df, 'ndc_drug_name', 'generic_name', nadac_df, 'ndc_drug_name')\n",
    "\n",
    "# checking for the number of rows that have not yet been matched with a nadac equivalent drug.\n",
    "print(len(df[df['ndc_drug_name'] == 'No Match']))"
   ]
  },
  {
   "cell_type": "code",
   "execution_count": 31,
   "metadata": {},
   "outputs": [],
   "source": [
    "# replace current dataframe with version joining drugs between df and nadac_df.\n",
    "df = pd.merge(df, nadac_df, on = 'ndc_drug_name')\n",
    "\n",
    "# dropped columns from the dataframe that will no longer be needed for analysis or identification.\n",
    "df.drop(['page_url', 'ndc_drug_name', 'brand_names', 'generic_names'], axis = 1, inplace = True)\n",
    "\n",
    "# pickle final version of merged_df thatincludes nadac data.\n",
    "df.to_pickle('../Pickles/merged_df.pkl')"
   ]
  },
  {
   "cell_type": "code",
   "execution_count": 32,
   "metadata": {},
   "outputs": [
    {
     "data": {
      "text/plain": [
       "1780"
      ]
     },
     "execution_count": 32,
     "metadata": {},
     "output_type": "execute_result"
    }
   ],
   "source": [
    "# checked for number of drugs remaining for analysis.\n",
    "len(df)"
   ]
  },
  {
   "cell_type": "code",
   "execution_count": null,
   "metadata": {},
   "outputs": [],
   "source": [
    "df.info()"
   ]
  }
 ],
 "metadata": {
  "kernelspec": {
   "display_name": "Python 3",
   "language": "python",
   "name": "python3"
  },
  "language_info": {
   "codemirror_mode": {
    "name": "ipython",
    "version": 3
   },
   "file_extension": ".py",
   "mimetype": "text/x-python",
   "name": "python",
   "nbconvert_exporter": "python",
   "pygments_lexer": "ipython3",
   "version": "3.6.4"
  }
 },
 "nbformat": 4,
 "nbformat_minor": 2
}
