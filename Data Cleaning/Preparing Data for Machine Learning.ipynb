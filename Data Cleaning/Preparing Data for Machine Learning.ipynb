{
 "cells": [
  {
   "cell_type": "code",
   "execution_count": 11,
   "metadata": {},
   "outputs": [],
   "source": [
    "import pandas as pd\n",
    "import numpy as np\n",
    "from copy import deepcopy"
   ]
  },
  {
   "cell_type": "code",
   "execution_count": 12,
   "metadata": {},
   "outputs": [],
   "source": [
    "pd.set_option('display.max_colwidth', 1000)\n",
    "pd.set_option('display.float_format', lambda x: '%.3f' % x)"
   ]
  },
  {
   "cell_type": "code",
   "execution_count": 13,
   "metadata": {},
   "outputs": [
    {
     "name": "stdout",
     "output_type": "stream",
     "text": [
      "1780\n"
     ]
    }
   ],
   "source": [
    "df = pd.read_pickle('../Pickles/merged_df.pkl')\n",
    "\n",
    "# checked for number of drugs remaining for analysis.\n",
    "print(len(df))"
   ]
  },
  {
   "cell_type": "code",
   "execution_count": 14,
   "metadata": {},
   "outputs": [
    {
     "data": {
      "text/plain": [
       "Index(['drug_name', 'generic_name', 'grx_lowest_price', 'grx_pharmacy',\n",
       "       'grx_purchase', 'grx_lowest_price_adj', 'chem_name',\n",
       "       'affected_organisms', 'chem_state', 'chem_class', 'drug_group',\n",
       "       'drug_type', 'chem_kingdom', 'molecular_framework',\n",
       "       'avg_molecular_weight', 'num_clinical_trials', 'num_dosage_forms',\n",
       "       'num_drug_interactions', 'num_food_interactions',\n",
       "       'num_manufacturers_for_chem', 'num_packagers_for_chem',\n",
       "       'num_patents_on_chem', 'num_targets', 'chem_sub_class',\n",
       "       'chem_super_class', 'over_the_counter', 'nadac_cost_per_unit'],\n",
       "      dtype='object')"
      ]
     },
     "execution_count": 14,
     "metadata": {},
     "output_type": "execute_result"
    }
   ],
   "source": [
    "df.columns"
   ]
  },
  {
   "cell_type": "code",
   "execution_count": 15,
   "metadata": {},
   "outputs": [
    {
     "name": "stdout",
     "output_type": "stream",
     "text": [
      "1646\n"
     ]
    }
   ],
   "source": [
    "# removed all rows where the nadac_cost_per_unit was lower than grx_lowest_price.\n",
    "df = deepcopy(df[df['nadac_cost_per_unit'] < df['grx_lowest_price']])\n",
    "\n",
    "# checked for number of drugs remaining in dataframe\n",
    "# after removing all rows where the nadac_cost_per_unit was lower than grx_lowest_price.\n",
    "print(len(df))"
   ]
  },
  {
   "cell_type": "code",
   "execution_count": 16,
   "metadata": {},
   "outputs": [
    {
     "name": "stdout",
     "output_type": "stream",
     "text": [
      "1559\n"
     ]
    }
   ],
   "source": [
    "# removed all drugs listed by nadac_df as over-the-counter from the dataframe.\n",
    "df = deepcopy(df[df['over_the_counter'] == 'N'])\n",
    "\n",
    "# checked for number of drugs remaining in dataframe\n",
    "# after removing all over-the-counter drugs.\n",
    "print(len(df))"
   ]
  },
  {
   "cell_type": "code",
   "execution_count": 17,
   "metadata": {},
   "outputs": [
    {
     "name": "stdout",
     "output_type": "stream",
     "text": [
      "1087\n"
     ]
    }
   ],
   "source": [
    "# removed all drugs from the dataframe\n",
    "# that did not come in the format of tablet, capsule, ampule, caplet or pill.\n",
    "df = deepcopy(df[([('tablet' in s) or ('capsule' in s) or ('ampule' in s) or ('caplet' in s) or ('pill' in s) for s in df['grx_purchase'].str.lower()])])\n",
    "\n",
    "# checked for number of drugs remaining in dataframe\n",
    "# after removing all drugs that did not come in the format of tablet, capsule, ampule, caplet or pill.\n",
    "print(len(df))"
   ]
  },
  {
   "cell_type": "code",
   "execution_count": 18,
   "metadata": {},
   "outputs": [
    {
     "name": "stdout",
     "output_type": "stream",
     "text": [
      "1034\n"
     ]
    }
   ],
   "source": [
    "# removed null values from the dataframe to enable linear regression with sklearn.\n",
    "df = deepcopy(df[((df['num_targets'].isnull() == False) \\\n",
    "                  & (df['avg_molecular_weight'].isnull() == False) \\\n",
    "                  & (df['molecular_framework'] != 'Not Available') \\\n",
    "                  & (df['chem_kingdom'] != 'Not Available') \\\n",
    "                  & (df['chem_state'] != 'Not Available'))])\n",
    "\n",
    "# checked for number of drugs remaining in dataframe after removing null values.\n",
    "print(len(df))"
   ]
  },
  {
   "cell_type": "code",
   "execution_count": 19,
   "metadata": {},
   "outputs": [],
   "source": [
    "# replace current version of merged_df with new version that includes nadac data.\n",
    "df.to_pickle('../Pickles/modeling_df.pkl')"
   ]
  },
  {
   "cell_type": "code",
   "execution_count": 20,
   "metadata": {},
   "outputs": [
    {
     "name": "stdout",
     "output_type": "stream",
     "text": [
      "<class 'pandas.core.frame.DataFrame'>\n",
      "Int64Index: 1034 entries, 0 to 1771\n",
      "Data columns (total 27 columns):\n",
      "drug_name                     1034 non-null object\n",
      "generic_name                  1034 non-null object\n",
      "grx_lowest_price              1034 non-null float64\n",
      "grx_pharmacy                  1034 non-null object\n",
      "grx_purchase                  1034 non-null object\n",
      "grx_lowest_price_adj          1034 non-null float64\n",
      "chem_name                     1034 non-null object\n",
      "affected_organisms            1034 non-null object\n",
      "chem_state                    1034 non-null object\n",
      "chem_class                    1034 non-null object\n",
      "drug_group                    1034 non-null object\n",
      "drug_type                     1034 non-null object\n",
      "chem_kingdom                  1034 non-null object\n",
      "molecular_framework           1034 non-null object\n",
      "avg_molecular_weight          1034 non-null float64\n",
      "num_clinical_trials           1034 non-null float64\n",
      "num_dosage_forms              1034 non-null float64\n",
      "num_drug_interactions         1034 non-null float64\n",
      "num_food_interactions         1034 non-null float64\n",
      "num_manufacturers_for_chem    1034 non-null float64\n",
      "num_packagers_for_chem        1034 non-null float64\n",
      "num_patents_on_chem           1034 non-null float64\n",
      "num_targets                   1034 non-null float64\n",
      "chem_sub_class                1034 non-null object\n",
      "chem_super_class              1034 non-null object\n",
      "over_the_counter              1034 non-null object\n",
      "nadac_cost_per_unit           1034 non-null float64\n",
      "dtypes: float64(12), object(15)\n",
      "memory usage: 226.2+ KB\n"
     ]
    }
   ],
   "source": [
    "df.info()"
   ]
  },
  {
   "cell_type": "code",
   "execution_count": null,
   "metadata": {},
   "outputs": [],
   "source": []
  }
 ],
 "metadata": {
  "kernelspec": {
   "display_name": "Python 3",
   "language": "python",
   "name": "python3"
  },
  "language_info": {
   "codemirror_mode": {
    "name": "ipython",
    "version": 3
   },
   "file_extension": ".py",
   "mimetype": "text/x-python",
   "name": "python",
   "nbconvert_exporter": "python",
   "pygments_lexer": "ipython3",
   "version": "3.6.4"
  }
 },
 "nbformat": 4,
 "nbformat_minor": 2
}
