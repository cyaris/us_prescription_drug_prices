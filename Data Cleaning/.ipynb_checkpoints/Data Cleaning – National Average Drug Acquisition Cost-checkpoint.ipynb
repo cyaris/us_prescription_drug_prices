{
 "cells": [
  {
   "cell_type": "code",
   "execution_count": 1,
   "metadata": {},
   "outputs": [],
   "source": [
    "from copy import deepcopy\n",
    "import pandas as pd\n",
    "import numpy as np\n",
    "import re"
   ]
  },
  {
   "cell_type": "code",
   "execution_count": 2,
   "metadata": {},
   "outputs": [],
   "source": [
    "pd.set_option('display.max_colwidth', 1000)\n",
    "pd.set_option('display.float_format', lambda x: '%.3f' % x)"
   ]
  },
  {
   "cell_type": "code",
   "execution_count": 3,
   "metadata": {},
   "outputs": [
    {
     "ename": "FileNotFoundError",
     "evalue": "File b'/Users/charlieyaris/NADAC__National_Average_Drug_Acquisition_Cost_.csv' does not exist",
     "output_type": "error",
     "traceback": [
      "\u001b[0;31m---------------------------------------------------------------------------\u001b[0m",
      "\u001b[0;31mFileNotFoundError\u001b[0m                         Traceback (most recent call last)",
      "\u001b[0;32m<ipython-input-3-5f41e10ac3ad>\u001b[0m in \u001b[0;36m<module>\u001b[0;34m()\u001b[0m\n\u001b[0;32m----> 1\u001b[0;31m \u001b[0mnadac_df\u001b[0m \u001b[0;34m=\u001b[0m \u001b[0mpd\u001b[0m\u001b[0;34m.\u001b[0m\u001b[0mread_csv\u001b[0m\u001b[0;34m(\u001b[0m\u001b[0;34m'/Users/charlieyaris/NADAC__National_Average_Drug_Acquisition_Cost_.csv'\u001b[0m\u001b[0;34m)\u001b[0m\u001b[0;34m\u001b[0m\u001b[0m\n\u001b[0m",
      "\u001b[0;32m~/.venvs/lpthw/lib/python3.6/site-packages/pandas/io/parsers.py\u001b[0m in \u001b[0;36mparser_f\u001b[0;34m(filepath_or_buffer, sep, delimiter, header, names, index_col, usecols, squeeze, prefix, mangle_dupe_cols, dtype, engine, converters, true_values, false_values, skipinitialspace, skiprows, nrows, na_values, keep_default_na, na_filter, verbose, skip_blank_lines, parse_dates, infer_datetime_format, keep_date_col, date_parser, dayfirst, iterator, chunksize, compression, thousands, decimal, lineterminator, quotechar, quoting, escapechar, comment, encoding, dialect, tupleize_cols, error_bad_lines, warn_bad_lines, skipfooter, doublequote, delim_whitespace, low_memory, memory_map, float_precision)\u001b[0m\n\u001b[1;32m    676\u001b[0m                     skip_blank_lines=skip_blank_lines)\n\u001b[1;32m    677\u001b[0m \u001b[0;34m\u001b[0m\u001b[0m\n\u001b[0;32m--> 678\u001b[0;31m         \u001b[0;32mreturn\u001b[0m \u001b[0m_read\u001b[0m\u001b[0;34m(\u001b[0m\u001b[0mfilepath_or_buffer\u001b[0m\u001b[0;34m,\u001b[0m \u001b[0mkwds\u001b[0m\u001b[0;34m)\u001b[0m\u001b[0;34m\u001b[0m\u001b[0m\n\u001b[0m\u001b[1;32m    679\u001b[0m \u001b[0;34m\u001b[0m\u001b[0m\n\u001b[1;32m    680\u001b[0m     \u001b[0mparser_f\u001b[0m\u001b[0;34m.\u001b[0m\u001b[0m__name__\u001b[0m \u001b[0;34m=\u001b[0m \u001b[0mname\u001b[0m\u001b[0;34m\u001b[0m\u001b[0m\n",
      "\u001b[0;32m~/.venvs/lpthw/lib/python3.6/site-packages/pandas/io/parsers.py\u001b[0m in \u001b[0;36m_read\u001b[0;34m(filepath_or_buffer, kwds)\u001b[0m\n\u001b[1;32m    438\u001b[0m \u001b[0;34m\u001b[0m\u001b[0m\n\u001b[1;32m    439\u001b[0m     \u001b[0;31m# Create the parser.\u001b[0m\u001b[0;34m\u001b[0m\u001b[0;34m\u001b[0m\u001b[0m\n\u001b[0;32m--> 440\u001b[0;31m     \u001b[0mparser\u001b[0m \u001b[0;34m=\u001b[0m \u001b[0mTextFileReader\u001b[0m\u001b[0;34m(\u001b[0m\u001b[0mfilepath_or_buffer\u001b[0m\u001b[0;34m,\u001b[0m \u001b[0;34m**\u001b[0m\u001b[0mkwds\u001b[0m\u001b[0;34m)\u001b[0m\u001b[0;34m\u001b[0m\u001b[0m\n\u001b[0m\u001b[1;32m    441\u001b[0m \u001b[0;34m\u001b[0m\u001b[0m\n\u001b[1;32m    442\u001b[0m     \u001b[0;32mif\u001b[0m \u001b[0mchunksize\u001b[0m \u001b[0;32mor\u001b[0m \u001b[0miterator\u001b[0m\u001b[0;34m:\u001b[0m\u001b[0;34m\u001b[0m\u001b[0m\n",
      "\u001b[0;32m~/.venvs/lpthw/lib/python3.6/site-packages/pandas/io/parsers.py\u001b[0m in \u001b[0;36m__init__\u001b[0;34m(self, f, engine, **kwds)\u001b[0m\n\u001b[1;32m    785\u001b[0m             \u001b[0mself\u001b[0m\u001b[0;34m.\u001b[0m\u001b[0moptions\u001b[0m\u001b[0;34m[\u001b[0m\u001b[0;34m'has_index_names'\u001b[0m\u001b[0;34m]\u001b[0m \u001b[0;34m=\u001b[0m \u001b[0mkwds\u001b[0m\u001b[0;34m[\u001b[0m\u001b[0;34m'has_index_names'\u001b[0m\u001b[0;34m]\u001b[0m\u001b[0;34m\u001b[0m\u001b[0m\n\u001b[1;32m    786\u001b[0m \u001b[0;34m\u001b[0m\u001b[0m\n\u001b[0;32m--> 787\u001b[0;31m         \u001b[0mself\u001b[0m\u001b[0;34m.\u001b[0m\u001b[0m_make_engine\u001b[0m\u001b[0;34m(\u001b[0m\u001b[0mself\u001b[0m\u001b[0;34m.\u001b[0m\u001b[0mengine\u001b[0m\u001b[0;34m)\u001b[0m\u001b[0;34m\u001b[0m\u001b[0m\n\u001b[0m\u001b[1;32m    788\u001b[0m \u001b[0;34m\u001b[0m\u001b[0m\n\u001b[1;32m    789\u001b[0m     \u001b[0;32mdef\u001b[0m \u001b[0mclose\u001b[0m\u001b[0;34m(\u001b[0m\u001b[0mself\u001b[0m\u001b[0;34m)\u001b[0m\u001b[0;34m:\u001b[0m\u001b[0;34m\u001b[0m\u001b[0m\n",
      "\u001b[0;32m~/.venvs/lpthw/lib/python3.6/site-packages/pandas/io/parsers.py\u001b[0m in \u001b[0;36m_make_engine\u001b[0;34m(self, engine)\u001b[0m\n\u001b[1;32m   1012\u001b[0m     \u001b[0;32mdef\u001b[0m \u001b[0m_make_engine\u001b[0m\u001b[0;34m(\u001b[0m\u001b[0mself\u001b[0m\u001b[0;34m,\u001b[0m \u001b[0mengine\u001b[0m\u001b[0;34m=\u001b[0m\u001b[0;34m'c'\u001b[0m\u001b[0;34m)\u001b[0m\u001b[0;34m:\u001b[0m\u001b[0;34m\u001b[0m\u001b[0m\n\u001b[1;32m   1013\u001b[0m         \u001b[0;32mif\u001b[0m \u001b[0mengine\u001b[0m \u001b[0;34m==\u001b[0m \u001b[0;34m'c'\u001b[0m\u001b[0;34m:\u001b[0m\u001b[0;34m\u001b[0m\u001b[0m\n\u001b[0;32m-> 1014\u001b[0;31m             \u001b[0mself\u001b[0m\u001b[0;34m.\u001b[0m\u001b[0m_engine\u001b[0m \u001b[0;34m=\u001b[0m \u001b[0mCParserWrapper\u001b[0m\u001b[0;34m(\u001b[0m\u001b[0mself\u001b[0m\u001b[0;34m.\u001b[0m\u001b[0mf\u001b[0m\u001b[0;34m,\u001b[0m \u001b[0;34m**\u001b[0m\u001b[0mself\u001b[0m\u001b[0;34m.\u001b[0m\u001b[0moptions\u001b[0m\u001b[0;34m)\u001b[0m\u001b[0;34m\u001b[0m\u001b[0m\n\u001b[0m\u001b[1;32m   1015\u001b[0m         \u001b[0;32melse\u001b[0m\u001b[0;34m:\u001b[0m\u001b[0;34m\u001b[0m\u001b[0m\n\u001b[1;32m   1016\u001b[0m             \u001b[0;32mif\u001b[0m \u001b[0mengine\u001b[0m \u001b[0;34m==\u001b[0m \u001b[0;34m'python'\u001b[0m\u001b[0;34m:\u001b[0m\u001b[0;34m\u001b[0m\u001b[0m\n",
      "\u001b[0;32m~/.venvs/lpthw/lib/python3.6/site-packages/pandas/io/parsers.py\u001b[0m in \u001b[0;36m__init__\u001b[0;34m(self, src, **kwds)\u001b[0m\n\u001b[1;32m   1706\u001b[0m         \u001b[0mkwds\u001b[0m\u001b[0;34m[\u001b[0m\u001b[0;34m'usecols'\u001b[0m\u001b[0;34m]\u001b[0m \u001b[0;34m=\u001b[0m \u001b[0mself\u001b[0m\u001b[0;34m.\u001b[0m\u001b[0musecols\u001b[0m\u001b[0;34m\u001b[0m\u001b[0m\n\u001b[1;32m   1707\u001b[0m \u001b[0;34m\u001b[0m\u001b[0m\n\u001b[0;32m-> 1708\u001b[0;31m         \u001b[0mself\u001b[0m\u001b[0;34m.\u001b[0m\u001b[0m_reader\u001b[0m \u001b[0;34m=\u001b[0m \u001b[0mparsers\u001b[0m\u001b[0;34m.\u001b[0m\u001b[0mTextReader\u001b[0m\u001b[0;34m(\u001b[0m\u001b[0msrc\u001b[0m\u001b[0;34m,\u001b[0m \u001b[0;34m**\u001b[0m\u001b[0mkwds\u001b[0m\u001b[0;34m)\u001b[0m\u001b[0;34m\u001b[0m\u001b[0m\n\u001b[0m\u001b[1;32m   1709\u001b[0m \u001b[0;34m\u001b[0m\u001b[0m\n\u001b[1;32m   1710\u001b[0m         \u001b[0mpassed_names\u001b[0m \u001b[0;34m=\u001b[0m \u001b[0mself\u001b[0m\u001b[0;34m.\u001b[0m\u001b[0mnames\u001b[0m \u001b[0;32mis\u001b[0m \u001b[0;32mNone\u001b[0m\u001b[0;34m\u001b[0m\u001b[0m\n",
      "\u001b[0;32mpandas/_libs/parsers.pyx\u001b[0m in \u001b[0;36mpandas._libs.parsers.TextReader.__cinit__\u001b[0;34m()\u001b[0m\n",
      "\u001b[0;32mpandas/_libs/parsers.pyx\u001b[0m in \u001b[0;36mpandas._libs.parsers.TextReader._setup_parser_source\u001b[0;34m()\u001b[0m\n",
      "\u001b[0;31mFileNotFoundError\u001b[0m: File b'/Users/charlieyaris/NADAC__National_Average_Drug_Acquisition_Cost_.csv' does not exist"
     ]
    }
   ],
   "source": [
    "nadac_df = pd.read_csv('/Users/charlieyaris/NADAC__National_Average_Drug_Acquisition_Cost_.csv')"
   ]
  },
  {
   "cell_type": "code",
   "execution_count": 5,
   "metadata": {},
   "outputs": [
    {
     "data": {
      "text/plain": [
       "Index(['NDC Description', 'NDC', 'NADAC_Per_Unit', 'Effective_Date',\n",
       "       'Pricing_Unit', 'Pharmacy_Type_Indicator', 'OTC', 'Explanation_Code',\n",
       "       'Classification_for_Rate_Setting',\n",
       "       'Corresponding_Generic_Drug_NADAC_Per_Unit',\n",
       "       'Corresponding_Generic_Drug_Effective_Date', 'As of Date'],\n",
       "      dtype='object')"
      ]
     },
     "execution_count": 5,
     "metadata": {},
     "output_type": "execute_result"
    }
   ],
   "source": [
    "nadac_df.columns"
   ]
  },
  {
   "cell_type": "code",
   "execution_count": 6,
   "metadata": {},
   "outputs": [
    {
     "data": {
      "text/html": [
       "<div>\n",
       "<style scoped>\n",
       "    .dataframe tbody tr th:only-of-type {\n",
       "        vertical-align: middle;\n",
       "    }\n",
       "\n",
       "    .dataframe tbody tr th {\n",
       "        vertical-align: top;\n",
       "    }\n",
       "\n",
       "    .dataframe thead th {\n",
       "        text-align: right;\n",
       "    }\n",
       "</style>\n",
       "<table border=\"1\" class=\"dataframe\">\n",
       "  <thead>\n",
       "    <tr style=\"text-align: right;\">\n",
       "      <th></th>\n",
       "      <th>NDC Description</th>\n",
       "      <th>NDC</th>\n",
       "      <th>NADAC_Per_Unit</th>\n",
       "      <th>Effective_Date</th>\n",
       "      <th>Pricing_Unit</th>\n",
       "      <th>Pharmacy_Type_Indicator</th>\n",
       "      <th>OTC</th>\n",
       "      <th>Explanation_Code</th>\n",
       "      <th>Classification_for_Rate_Setting</th>\n",
       "      <th>Corresponding_Generic_Drug_NADAC_Per_Unit</th>\n",
       "      <th>Corresponding_Generic_Drug_Effective_Date</th>\n",
       "      <th>As of Date</th>\n",
       "    </tr>\n",
       "  </thead>\n",
       "  <tbody>\n",
       "    <tr>\n",
       "      <th>0</th>\n",
       "      <td>SIMVASTATIN 80 MG TABLET</td>\n",
       "      <td>16714068502</td>\n",
       "      <td>0.080</td>\n",
       "      <td>03/23/2016</td>\n",
       "      <td>EA</td>\n",
       "      <td>C/I</td>\n",
       "      <td>N</td>\n",
       "      <td>1</td>\n",
       "      <td>G</td>\n",
       "      <td>nan</td>\n",
       "      <td>NaN</td>\n",
       "      <td>04/13/2016</td>\n",
       "    </tr>\n",
       "    <tr>\n",
       "      <th>1</th>\n",
       "      <td>CARVEDILOL 12.5 MG TABLET</td>\n",
       "      <td>68382009405</td>\n",
       "      <td>0.033</td>\n",
       "      <td>03/23/2016</td>\n",
       "      <td>EA</td>\n",
       "      <td>C/I</td>\n",
       "      <td>N</td>\n",
       "      <td>1</td>\n",
       "      <td>G</td>\n",
       "      <td>nan</td>\n",
       "      <td>NaN</td>\n",
       "      <td>04/13/2016</td>\n",
       "    </tr>\n",
       "    <tr>\n",
       "      <th>2</th>\n",
       "      <td>CLONAZEPAM 1 MG TABLET</td>\n",
       "      <td>93083310</td>\n",
       "      <td>0.026</td>\n",
       "      <td>03/23/2016</td>\n",
       "      <td>EA</td>\n",
       "      <td>C/I</td>\n",
       "      <td>N</td>\n",
       "      <td>1</td>\n",
       "      <td>G</td>\n",
       "      <td>nan</td>\n",
       "      <td>NaN</td>\n",
       "      <td>04/13/2016</td>\n",
       "    </tr>\n",
       "    <tr>\n",
       "      <th>3</th>\n",
       "      <td>NAPHCON-A EYE DROPS</td>\n",
       "      <td>65008542</td>\n",
       "      <td>0.567</td>\n",
       "      <td>12/23/2015</td>\n",
       "      <td>ML</td>\n",
       "      <td>C/I</td>\n",
       "      <td>Y</td>\n",
       "      <td>4, 5, 6</td>\n",
       "      <td>B</td>\n",
       "      <td>nan</td>\n",
       "      <td>NaN</td>\n",
       "      <td>04/13/2016</td>\n",
       "    </tr>\n",
       "    <tr>\n",
       "      <th>4</th>\n",
       "      <td>OFLOXACIN 0.3% EAR DROPS</td>\n",
       "      <td>24208041005</td>\n",
       "      <td>17.279</td>\n",
       "      <td>02/17/2016</td>\n",
       "      <td>ML</td>\n",
       "      <td>C/I</td>\n",
       "      <td>N</td>\n",
       "      <td>4, 5</td>\n",
       "      <td>G</td>\n",
       "      <td>nan</td>\n",
       "      <td>NaN</td>\n",
       "      <td>04/13/2016</td>\n",
       "    </tr>\n",
       "  </tbody>\n",
       "</table>\n",
       "</div>"
      ],
      "text/plain": [
       "             NDC Description          NDC  NADAC_Per_Unit Effective_Date  \\\n",
       "0   SIMVASTATIN 80 MG TABLET  16714068502           0.080     03/23/2016   \n",
       "1  CARVEDILOL 12.5 MG TABLET  68382009405           0.033     03/23/2016   \n",
       "2     CLONAZEPAM 1 MG TABLET     93083310           0.026     03/23/2016   \n",
       "3        NAPHCON-A EYE DROPS     65008542           0.567     12/23/2015   \n",
       "4   OFLOXACIN 0.3% EAR DROPS  24208041005          17.279     02/17/2016   \n",
       "\n",
       "  Pricing_Unit Pharmacy_Type_Indicator OTC Explanation_Code  \\\n",
       "0           EA                     C/I   N                1   \n",
       "1           EA                     C/I   N                1   \n",
       "2           EA                     C/I   N                1   \n",
       "3           ML                     C/I   Y          4, 5, 6   \n",
       "4           ML                     C/I   N             4, 5   \n",
       "\n",
       "  Classification_for_Rate_Setting  Corresponding_Generic_Drug_NADAC_Per_Unit  \\\n",
       "0                               G                                        nan   \n",
       "1                               G                                        nan   \n",
       "2                               G                                        nan   \n",
       "3                               B                                        nan   \n",
       "4                               G                                        nan   \n",
       "\n",
       "  Corresponding_Generic_Drug_Effective_Date  As of Date  \n",
       "0                                       NaN  04/13/2016  \n",
       "1                                       NaN  04/13/2016  \n",
       "2                                       NaN  04/13/2016  \n",
       "3                                       NaN  04/13/2016  \n",
       "4                                       NaN  04/13/2016  "
      ]
     },
     "execution_count": 6,
     "metadata": {},
     "output_type": "execute_result"
    }
   ],
   "source": [
    "nadac_df.head()"
   ]
  },
  {
   "cell_type": "code",
   "execution_count": 7,
   "metadata": {},
   "outputs": [],
   "source": [
    "# created new time columns in datetime format for groupby dataframes and visualizations.\n",
    "nadac_df['Effective_Date'] = pd.to_datetime(nadac_df['Effective_Date'])\n",
    "nadac_df['month_year'] = nadac_df['Effective_Date'].dt.strftime('%Y-%m')\n",
    "nadac_df['month'] = nadac_df['Effective_Date'].dt.month\n",
    "nadac_df['year'] = nadac_df['Effective_Date'].dt.year"
   ]
  },
  {
   "cell_type": "code",
   "execution_count": 8,
   "metadata": {},
   "outputs": [],
   "source": [
    "nadac_df.to_pickle('nadac_df_date.pkl')"
   ]
  },
  {
   "cell_type": "code",
   "execution_count": 9,
   "metadata": {},
   "outputs": [],
   "source": [
    "nadac_df = pd.read_pickle('nadac_df_date.pkl')"
   ]
  },
  {
   "cell_type": "code",
   "execution_count": 10,
   "metadata": {},
   "outputs": [],
   "source": [
    "# created nadac_year_df for visualizations in visualization notebook.\n",
    "aggregations = {\n",
    "    'NADAC_Per_Unit': 'sum',\n",
    "    }\n",
    "\n",
    "nadac_year_df = nadac_df.groupby(['year', 'OTC']).agg(aggregations).reset_index()"
   ]
  },
  {
   "cell_type": "code",
   "execution_count": 11,
   "metadata": {},
   "outputs": [],
   "source": [
    "nadac_year_df.to_pickle('../Pickles/nadac_year_df.pkl')"
   ]
  },
  {
   "cell_type": "code",
   "execution_count": 12,
   "metadata": {},
   "outputs": [],
   "source": [
    "# sorted drugs by effective_date to enable future removing of duplicates.\n",
    "nadac_df = deepcopy(nadac_df.sort_values(by = 'Effective_Date', ascending = False))"
   ]
  },
  {
   "cell_type": "code",
   "execution_count": 13,
   "metadata": {},
   "outputs": [],
   "source": [
    "# removed duplicate rows of drugs\n",
    "# so that only the least expensive version of each drug was kept in the dataframe.\n",
    "duplicate_list = ['NDC Description', 'NADAC_Per_Unit',\n",
    "                  'Pricing_Unit', 'Pharmacy_Type_Indicator', 'OTC', 'Explanation_Code',\n",
    "                  'Classification_for_Rate_Setting',\n",
    "                  'Corresponding_Generic_Drug_NADAC_Per_Unit']\n",
    "\n",
    "nadac_df.drop_duplicates(subset = duplicate_list, keep = 'first', inplace = True)"
   ]
  },
  {
   "cell_type": "code",
   "execution_count": 14,
   "metadata": {},
   "outputs": [],
   "source": [
    "# continued removing duplicate rows of drugs\n",
    "# so that only the least expensive versions of each drug were kept in the dataframe.\n",
    "nadac_df.drop_duplicates(subset = 'NDC Description', keep = 'first', inplace = True)"
   ]
  },
  {
   "cell_type": "code",
   "execution_count": 15,
   "metadata": {},
   "outputs": [],
   "source": [
    "nadac_df = deepcopy(nadac_df.reset_index())"
   ]
  },
  {
   "cell_type": "code",
   "execution_count": 16,
   "metadata": {},
   "outputs": [],
   "source": [
    "# fixed formatting in ndc_drug_name column.\n",
    "nadac_df['ndc_drug_name'] = deepcopy([re.split('\\ (\\d+)', s)[0] for s in nadac_df['NDC Description']])"
   ]
  },
  {
   "cell_type": "code",
   "execution_count": 17,
   "metadata": {},
   "outputs": [
    {
     "name": "stderr",
     "output_type": "stream",
     "text": [
      "/Users/charlieyaris/.venvs/lpthw/lib/python3.6/site-packages/ipykernel_launcher.py:6: SettingWithCopyWarning: \n",
      "A value is trying to be set on a copy of a slice from a DataFrame\n",
      "\n",
      "See the caveats in the documentation: http://pandas.pydata.org/pandas-docs/stable/indexing.html#indexing-view-versus-copy\n",
      "  \n"
     ]
    }
   ],
   "source": [
    "# fixed formatting in ndc_drug_dose column.\n",
    "nadac_df['ndc_drug_dose'] = deepcopy([re.split('\\ (\\d+)', s)[1:] for s in nadac_df['NDC Description']])\n",
    "nadac_df['ndc_drug_dose'] = deepcopy(([s.strip(\"[\") for s in nadac_df['ndc_drug_dose'].astype(str)]))\n",
    "nadac_df['ndc_drug_dose'] = deepcopy(([s.strip(\"]\") for s in nadac_df['ndc_drug_dose'].astype(str)]))\n",
    "for i, s in enumerate(nadac_df['ndc_drug_dose']):\n",
    "    nadac_df['ndc_drug_dose'][i] = deepcopy(''.join(s.split(\"', '\")))\n",
    "nadac_df['ndc_drug_dose'] = deepcopy(([s.strip(\"'\") for s in nadac_df['ndc_drug_dose'].astype(str)]))"
   ]
  },
  {
   "cell_type": "code",
   "execution_count": 18,
   "metadata": {},
   "outputs": [],
   "source": [
    "# dropped columns from the dataframe that will no longer be needed for identification or analysis.\n",
    "nadac_df.drop(['index', 'NDC Description', 'Pharmacy_Type_Indicator', 'As of Date',\n",
    "               'Classification_for_Rate_Setting', 'Corresponding_Generic_Drug_NADAC_Per_Unit',\n",
    "               'Corresponding_Generic_Drug_Effective_Date'], axis = 1, inplace = True)"
   ]
  },
  {
   "cell_type": "code",
   "execution_count": 19,
   "metadata": {},
   "outputs": [],
   "source": [
    "# renamed nadac_df columns for clarity in analysis following future join.\n",
    "nadac_df.rename({'NDC': 'ndc_code', 'NADAC_Per_Unit': 'nadac_cost_per_unit',\n",
    "                 'Effective_Date': 'nadac_effective_date', 'Pricing_Unit': 'nadac_pricing_unit',\n",
    "                 'OTC': 'over_the_counter', 'Explanation_Code': 'data_source_code'},\n",
    "                axis = 1, inplace = True)"
   ]
  },
  {
   "cell_type": "code",
   "execution_count": 20,
   "metadata": {},
   "outputs": [
    {
     "data": {
      "text/html": [
       "<div>\n",
       "<style scoped>\n",
       "    .dataframe tbody tr th:only-of-type {\n",
       "        vertical-align: middle;\n",
       "    }\n",
       "\n",
       "    .dataframe tbody tr th {\n",
       "        vertical-align: top;\n",
       "    }\n",
       "\n",
       "    .dataframe thead th {\n",
       "        text-align: right;\n",
       "    }\n",
       "</style>\n",
       "<table border=\"1\" class=\"dataframe\">\n",
       "  <thead>\n",
       "    <tr style=\"text-align: right;\">\n",
       "      <th></th>\n",
       "      <th>ndc_code</th>\n",
       "      <th>nadac_cost_per_unit</th>\n",
       "      <th>nadac_effective_date</th>\n",
       "      <th>nadac_pricing_unit</th>\n",
       "      <th>over_the_counter</th>\n",
       "      <th>data_source_code</th>\n",
       "      <th>month_year</th>\n",
       "      <th>month</th>\n",
       "      <th>year</th>\n",
       "      <th>ndc_drug_name</th>\n",
       "      <th>ndc_drug_dose</th>\n",
       "    </tr>\n",
       "  </thead>\n",
       "  <tbody>\n",
       "    <tr>\n",
       "      <th>0</th>\n",
       "      <td>143122710</td>\n",
       "      <td>0.166</td>\n",
       "      <td>2018-10-03</td>\n",
       "      <td>EA</td>\n",
       "      <td>N</td>\n",
       "      <td>1</td>\n",
       "      <td>2018-10</td>\n",
       "      <td>10</td>\n",
       "      <td>2018</td>\n",
       "      <td>DICYCLOMINE</td>\n",
       "      <td>20 MG TABLET</td>\n",
       "    </tr>\n",
       "    <tr>\n",
       "      <th>1</th>\n",
       "      <td>31722059730</td>\n",
       "      <td>5.432</td>\n",
       "      <td>2018-10-03</td>\n",
       "      <td>EA</td>\n",
       "      <td>N</td>\n",
       "      <td>1</td>\n",
       "      <td>2018-10</td>\n",
       "      <td>10</td>\n",
       "      <td>2018</td>\n",
       "      <td>RITONAVIR</td>\n",
       "      <td>100 MG TABLET</td>\n",
       "    </tr>\n",
       "    <tr>\n",
       "      <th>2</th>\n",
       "      <td>51991070505</td>\n",
       "      <td>0.023</td>\n",
       "      <td>2018-10-03</td>\n",
       "      <td>EA</td>\n",
       "      <td>N</td>\n",
       "      <td>1</td>\n",
       "      <td>2018-10</td>\n",
       "      <td>10</td>\n",
       "      <td>2018</td>\n",
       "      <td>ALPRAZOLAM</td>\n",
       "      <td>0.5 MG TABLET</td>\n",
       "    </tr>\n",
       "    <tr>\n",
       "      <th>3</th>\n",
       "      <td>42192033001</td>\n",
       "      <td>0.380</td>\n",
       "      <td>2018-10-03</td>\n",
       "      <td>EA</td>\n",
       "      <td>N</td>\n",
       "      <td>1</td>\n",
       "      <td>2018-10</td>\n",
       "      <td>10</td>\n",
       "      <td>2018</td>\n",
       "      <td>NP THYROID</td>\n",
       "      <td>60 MG TABLET</td>\n",
       "    </tr>\n",
       "    <tr>\n",
       "      <th>4</th>\n",
       "      <td>64980032802</td>\n",
       "      <td>3.067</td>\n",
       "      <td>2018-10-03</td>\n",
       "      <td>GM</td>\n",
       "      <td>N</td>\n",
       "      <td>3, 5</td>\n",
       "      <td>2018-10</td>\n",
       "      <td>10</td>\n",
       "      <td>2018</td>\n",
       "      <td>ERYTHROMYCIN-BENZOYL GEL</td>\n",
       "      <td></td>\n",
       "    </tr>\n",
       "  </tbody>\n",
       "</table>\n",
       "</div>"
      ],
      "text/plain": [
       "      ndc_code  nadac_cost_per_unit nadac_effective_date nadac_pricing_unit  \\\n",
       "0    143122710                0.166           2018-10-03                 EA   \n",
       "1  31722059730                5.432           2018-10-03                 EA   \n",
       "2  51991070505                0.023           2018-10-03                 EA   \n",
       "3  42192033001                0.380           2018-10-03                 EA   \n",
       "4  64980032802                3.067           2018-10-03                 GM   \n",
       "\n",
       "  over_the_counter data_source_code month_year  month  year  \\\n",
       "0                N                1    2018-10     10  2018   \n",
       "1                N                1    2018-10     10  2018   \n",
       "2                N                1    2018-10     10  2018   \n",
       "3                N                1    2018-10     10  2018   \n",
       "4                N             3, 5    2018-10     10  2018   \n",
       "\n",
       "              ndc_drug_name  ndc_drug_dose  \n",
       "0               DICYCLOMINE   20 MG TABLET  \n",
       "1                 RITONAVIR  100 MG TABLET  \n",
       "2                ALPRAZOLAM  0.5 MG TABLET  \n",
       "3                NP THYROID   60 MG TABLET  \n",
       "4  ERYTHROMYCIN-BENZOYL GEL                 "
      ]
     },
     "execution_count": 20,
     "metadata": {},
     "output_type": "execute_result"
    }
   ],
   "source": [
    "nadac_df.head()"
   ]
  },
  {
   "cell_type": "code",
   "execution_count": 21,
   "metadata": {},
   "outputs": [],
   "source": [
    "# replaced nadac_df with new version, grouping by ndc_drug_name and over_the_counter\n",
    "# for future visualizations.\n",
    "aggregations = {\n",
    "    'nadac_cost_per_unit': 'mean',\n",
    "    }\n",
    "\n",
    "nadac_df = deepcopy(nadac_df.groupby(['ndc_drug_name', 'over_the_counter']).agg(aggregations).reset_index())"
   ]
  },
  {
   "cell_type": "code",
   "execution_count": 22,
   "metadata": {},
   "outputs": [],
   "source": [
    "nadac_df['nadac_cost_per_unit'] = nadac_df2['nadac_cost_per_unit'].astype(float)"
   ]
  },
  {
   "cell_type": "code",
   "execution_count": 23,
   "metadata": {},
   "outputs": [],
   "source": [
    "nadac_df.to_pickle('../Pickles/nadac_df.pkl')"
   ]
  },
  {
   "cell_type": "code",
   "execution_count": 3,
   "metadata": {},
   "outputs": [],
   "source": [
    "nadac_df.info()"
   ]
  }
 ],
 "metadata": {
  "kernelspec": {
   "display_name": "Python 3",
   "language": "python",
   "name": "python3"
  },
  "language_info": {
   "codemirror_mode": {
    "name": "ipython",
    "version": 3
   },
   "file_extension": ".py",
   "mimetype": "text/x-python",
   "name": "python",
   "nbconvert_exporter": "python",
   "pygments_lexer": "ipython3",
   "version": "3.6.4"
  }
 },
 "nbformat": 4,
 "nbformat_minor": 2
}
