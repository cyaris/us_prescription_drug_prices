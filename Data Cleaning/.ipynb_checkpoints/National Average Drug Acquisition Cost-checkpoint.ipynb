{
 "cells": [
  {
   "cell_type": "code",
   "execution_count": 1,
   "metadata": {},
   "outputs": [],
   "source": [
    "from copy import deepcopy\n",
    "import pandas as pd\n",
    "import numpy as np\n",
    "import re"
   ]
  },
  {
   "cell_type": "code",
   "execution_count": 2,
   "metadata": {},
   "outputs": [],
   "source": [
    "pd.set_option('display.max_colwidth', 1000)\n",
    "pd.set_option('display.float_format', lambda x: '%.3f' % x)"
   ]
  },
  {
   "cell_type": "code",
   "execution_count": 3,
   "metadata": {},
   "outputs": [],
   "source": [
    "nadac_df = pd.read_csv('/Users/charlieyaris/NADAC_National_Average_Drug_Acquisition_Cost.csv')"
   ]
  },
  {
   "cell_type": "code",
   "execution_count": 4,
   "metadata": {},
   "outputs": [
    {
     "data": {
      "text/html": [
       "<div>\n",
       "<style scoped>\n",
       "    .dataframe tbody tr th:only-of-type {\n",
       "        vertical-align: middle;\n",
       "    }\n",
       "\n",
       "    .dataframe tbody tr th {\n",
       "        vertical-align: top;\n",
       "    }\n",
       "\n",
       "    .dataframe thead th {\n",
       "        text-align: right;\n",
       "    }\n",
       "</style>\n",
       "<table border=\"1\" class=\"dataframe\">\n",
       "  <thead>\n",
       "    <tr style=\"text-align: right;\">\n",
       "      <th></th>\n",
       "      <th>NDC Description</th>\n",
       "      <th>NDC</th>\n",
       "      <th>NADAC_Per_Unit</th>\n",
       "      <th>Effective_Date</th>\n",
       "      <th>Pricing_Unit</th>\n",
       "      <th>Pharmacy_Type_Indicator</th>\n",
       "      <th>OTC</th>\n",
       "      <th>Explanation_Code</th>\n",
       "      <th>Classification_for_Rate_Setting</th>\n",
       "      <th>Corresponding_Generic_Drug_NADAC_Per_Unit</th>\n",
       "      <th>Corresponding_Generic_Drug_Effective_Date</th>\n",
       "      <th>As of Date</th>\n",
       "    </tr>\n",
       "  </thead>\n",
       "  <tbody>\n",
       "    <tr>\n",
       "      <th>0</th>\n",
       "      <td>IBUPROFEN 200 MG TABLET</td>\n",
       "      <td>70000017504</td>\n",
       "      <td>0.030</td>\n",
       "      <td>11/21/2018</td>\n",
       "      <td>EA</td>\n",
       "      <td>C/I</td>\n",
       "      <td>Y</td>\n",
       "      <td>1</td>\n",
       "      <td>G</td>\n",
       "      <td>nan</td>\n",
       "      <td>NaN</td>\n",
       "      <td>12/12/2018</td>\n",
       "    </tr>\n",
       "    <tr>\n",
       "      <th>1</th>\n",
       "      <td>OXYCODONE HCL ER 80 MG TABLET</td>\n",
       "      <td>115156201</td>\n",
       "      <td>9.030</td>\n",
       "      <td>11/21/2018</td>\n",
       "      <td>EA</td>\n",
       "      <td>C/I</td>\n",
       "      <td>N</td>\n",
       "      <td>1, 6</td>\n",
       "      <td>G</td>\n",
       "      <td>nan</td>\n",
       "      <td>NaN</td>\n",
       "      <td>12/12/2018</td>\n",
       "    </tr>\n",
       "    <tr>\n",
       "      <th>2</th>\n",
       "      <td>OXYCODONE HCL 15 MG TABLET</td>\n",
       "      <td>603499128</td>\n",
       "      <td>0.152</td>\n",
       "      <td>11/21/2018</td>\n",
       "      <td>EA</td>\n",
       "      <td>C/I</td>\n",
       "      <td>N</td>\n",
       "      <td>1</td>\n",
       "      <td>G</td>\n",
       "      <td>nan</td>\n",
       "      <td>NaN</td>\n",
       "      <td>12/12/2018</td>\n",
       "    </tr>\n",
       "    <tr>\n",
       "      <th>3</th>\n",
       "      <td>KETOCONAZOLE 200 MG TABLET</td>\n",
       "      <td>51672402601</td>\n",
       "      <td>1.685</td>\n",
       "      <td>11/21/2018</td>\n",
       "      <td>EA</td>\n",
       "      <td>C/I</td>\n",
       "      <td>N</td>\n",
       "      <td>1</td>\n",
       "      <td>G</td>\n",
       "      <td>nan</td>\n",
       "      <td>NaN</td>\n",
       "      <td>12/12/2018</td>\n",
       "    </tr>\n",
       "    <tr>\n",
       "      <th>4</th>\n",
       "      <td>NICOTINE 7 MG/24HR PATCH</td>\n",
       "      <td>70000011302</td>\n",
       "      <td>1.725</td>\n",
       "      <td>11/21/2018</td>\n",
       "      <td>EA</td>\n",
       "      <td>C/I</td>\n",
       "      <td>Y</td>\n",
       "      <td>1, 6</td>\n",
       "      <td>G</td>\n",
       "      <td>nan</td>\n",
       "      <td>NaN</td>\n",
       "      <td>12/12/2018</td>\n",
       "    </tr>\n",
       "  </tbody>\n",
       "</table>\n",
       "</div>"
      ],
      "text/plain": [
       "                 NDC Description          NDC  NADAC_Per_Unit Effective_Date  \\\n",
       "0        IBUPROFEN 200 MG TABLET  70000017504           0.030     11/21/2018   \n",
       "1  OXYCODONE HCL ER 80 MG TABLET    115156201           9.030     11/21/2018   \n",
       "2     OXYCODONE HCL 15 MG TABLET    603499128           0.152     11/21/2018   \n",
       "3     KETOCONAZOLE 200 MG TABLET  51672402601           1.685     11/21/2018   \n",
       "4       NICOTINE 7 MG/24HR PATCH  70000011302           1.725     11/21/2018   \n",
       "\n",
       "  Pricing_Unit Pharmacy_Type_Indicator OTC Explanation_Code  \\\n",
       "0           EA                     C/I   Y                1   \n",
       "1           EA                     C/I   N             1, 6   \n",
       "2           EA                     C/I   N                1   \n",
       "3           EA                     C/I   N                1   \n",
       "4           EA                     C/I   Y             1, 6   \n",
       "\n",
       "  Classification_for_Rate_Setting  Corresponding_Generic_Drug_NADAC_Per_Unit  \\\n",
       "0                               G                                        nan   \n",
       "1                               G                                        nan   \n",
       "2                               G                                        nan   \n",
       "3                               G                                        nan   \n",
       "4                               G                                        nan   \n",
       "\n",
       "  Corresponding_Generic_Drug_Effective_Date  As of Date  \n",
       "0                                       NaN  12/12/2018  \n",
       "1                                       NaN  12/12/2018  \n",
       "2                                       NaN  12/12/2018  \n",
       "3                                       NaN  12/12/2018  \n",
       "4                                       NaN  12/12/2018  "
      ]
     },
     "execution_count": 4,
     "metadata": {},
     "output_type": "execute_result"
    }
   ],
   "source": [
    "nadac_df.head()"
   ]
  },
  {
   "cell_type": "code",
   "execution_count": 5,
   "metadata": {},
   "outputs": [
    {
     "data": {
      "text/plain": [
       "Index(['NDC Description', 'NDC', 'NADAC_Per_Unit', 'Effective_Date',\n",
       "       'Pricing_Unit', 'Pharmacy_Type_Indicator', 'OTC', 'Explanation_Code',\n",
       "       'Classification_for_Rate_Setting',\n",
       "       'Corresponding_Generic_Drug_NADAC_Per_Unit',\n",
       "       'Corresponding_Generic_Drug_Effective_Date', 'As of Date'],\n",
       "      dtype='object')"
      ]
     },
     "execution_count": 5,
     "metadata": {},
     "output_type": "execute_result"
    }
   ],
   "source": [
    "nadac_df.columns"
   ]
  },
  {
   "cell_type": "code",
   "execution_count": 6,
   "metadata": {},
   "outputs": [],
   "source": [
    "# created new time columns in datetime format for groupby dataframes and visualizations.\n",
    "nadac_df['Effective_Date'] = pd.to_datetime(nadac_df['Effective_Date'])\n",
    "nadac_df['month_year'] = nadac_df['Effective_Date'].dt.strftime('%Y-%m')\n",
    "nadac_df['month'] = nadac_df['Effective_Date'].dt.month\n",
    "nadac_df['year'] = nadac_df['Effective_Date'].dt.year"
   ]
  },
  {
   "cell_type": "code",
   "execution_count": 7,
   "metadata": {},
   "outputs": [],
   "source": [
    "nadac_df.to_pickle('../Pickles/nadac_df_date.pkl')"
   ]
  },
  {
   "cell_type": "code",
   "execution_count": 8,
   "metadata": {},
   "outputs": [],
   "source": [
    "nadac_df = pd.read_pickle('../Pickles/nadac_df_date.pkl')"
   ]
  },
  {
   "cell_type": "code",
   "execution_count": 9,
   "metadata": {},
   "outputs": [],
   "source": [
    "# created nadac_year_df for visualizations in visualization notebook.\n",
    "aggregations = {\n",
    "    'NADAC_Per_Unit': 'sum',\n",
    "    }\n",
    "\n",
    "nadac_year_df = nadac_df.groupby(['year', 'OTC']).agg(aggregations).reset_index()"
   ]
  },
  {
   "cell_type": "code",
   "execution_count": 10,
   "metadata": {},
   "outputs": [],
   "source": [
    "nadac_year_df.to_pickle('../Pickles/nadac_year_df.pkl')"
   ]
  },
  {
   "cell_type": "code",
   "execution_count": 11,
   "metadata": {},
   "outputs": [],
   "source": [
    "# sorted drugs by effective_date to enable future removing of duplicates.\n",
    "nadac_df = deepcopy(nadac_df.sort_values(by = 'Effective_Date', ascending = False))"
   ]
  },
  {
   "cell_type": "code",
   "execution_count": 12,
   "metadata": {},
   "outputs": [],
   "source": [
    "# removed duplicate rows of drugs\n",
    "# so that only the least expensive version of each drug was kept in the dataframe.\n",
    "duplicate_list = ['NDC Description', 'NADAC_Per_Unit',\n",
    "                  'Pricing_Unit', 'Pharmacy_Type_Indicator', 'OTC', 'Explanation_Code',\n",
    "                  'Classification_for_Rate_Setting',\n",
    "                  'Corresponding_Generic_Drug_NADAC_Per_Unit']\n",
    "\n",
    "nadac_df.drop_duplicates(subset = duplicate_list, keep = 'first', inplace = True)"
   ]
  },
  {
   "cell_type": "code",
   "execution_count": 13,
   "metadata": {},
   "outputs": [],
   "source": [
    "# continued removing duplicate rows of drugs\n",
    "# so that only the least expensive versions of each drug were kept in the dataframe.\n",
    "nadac_df.drop_duplicates(subset = 'NDC Description', keep = 'first', inplace = True)"
   ]
  },
  {
   "cell_type": "code",
   "execution_count": 14,
   "metadata": {},
   "outputs": [],
   "source": [
    "nadac_df = deepcopy(nadac_df.reset_index())"
   ]
  },
  {
   "cell_type": "code",
   "execution_count": 15,
   "metadata": {},
   "outputs": [],
   "source": [
    "# fixed formatting in ndc_drug_name column.\n",
    "nadac_df['ndc_drug_name'] = deepcopy([re.split('\\ (\\d+)', s)[0] for s in nadac_df['NDC Description']])"
   ]
  },
  {
   "cell_type": "code",
   "execution_count": 16,
   "metadata": {},
   "outputs": [
    {
     "name": "stderr",
     "output_type": "stream",
     "text": [
      "/Users/charlieyaris/.venvs/lpthw/lib/python3.6/site-packages/ipykernel_launcher.py:6: SettingWithCopyWarning: \n",
      "A value is trying to be set on a copy of a slice from a DataFrame\n",
      "\n",
      "See the caveats in the documentation: http://pandas.pydata.org/pandas-docs/stable/indexing.html#indexing-view-versus-copy\n",
      "  \n"
     ]
    }
   ],
   "source": [
    "# fixed formatting in ndc_drug_dose column.\n",
    "nadac_df['ndc_drug_dose'] = deepcopy([re.split('\\ (\\d+)', s)[1:] for s in nadac_df['NDC Description']])\n",
    "nadac_df['ndc_drug_dose'] = deepcopy(([s.strip(\"[\") for s in nadac_df['ndc_drug_dose'].astype(str)]))\n",
    "nadac_df['ndc_drug_dose'] = deepcopy(([s.strip(\"]\") for s in nadac_df['ndc_drug_dose'].astype(str)]))\n",
    "\n",
    "for i, s in enumerate(nadac_df['ndc_drug_dose']):\n",
    "    nadac_df['ndc_drug_dose'][i] = deepcopy(''.join(s.split(\"', '\")))\n",
    "nadac_df['ndc_drug_dose'] = deepcopy(([s.strip(\"'\") for s in nadac_df['ndc_drug_dose'].astype(str)]))"
   ]
  },
  {
   "cell_type": "code",
   "execution_count": 17,
   "metadata": {},
   "outputs": [],
   "source": [
    "# dropped columns from the dataframe that will no longer be needed for identification or analysis.\n",
    "nadac_df.drop(['index', 'NDC Description', 'Pharmacy_Type_Indicator', 'As of Date',\n",
    "               'Classification_for_Rate_Setting', 'Corresponding_Generic_Drug_NADAC_Per_Unit',\n",
    "               'Corresponding_Generic_Drug_Effective_Date'], axis = 1, inplace = True)"
   ]
  },
  {
   "cell_type": "code",
   "execution_count": 18,
   "metadata": {},
   "outputs": [],
   "source": [
    "# renamed nadac_df columns for clarity in analysis following future join.\n",
    "nadac_df.rename({'NDC': 'ndc_code', 'NADAC_Per_Unit': 'nadac_cost_per_unit',\n",
    "                 'Effective_Date': 'nadac_effective_date', 'Pricing_Unit': 'nadac_pricing_unit',\n",
    "                 'OTC': 'over_the_counter', 'Explanation_Code': 'data_source_code'},\n",
    "                axis = 1, inplace = True)"
   ]
  },
  {
   "cell_type": "code",
   "execution_count": 19,
   "metadata": {},
   "outputs": [
    {
     "data": {
      "text/html": [
       "<div>\n",
       "<style scoped>\n",
       "    .dataframe tbody tr th:only-of-type {\n",
       "        vertical-align: middle;\n",
       "    }\n",
       "\n",
       "    .dataframe tbody tr th {\n",
       "        vertical-align: top;\n",
       "    }\n",
       "\n",
       "    .dataframe thead th {\n",
       "        text-align: right;\n",
       "    }\n",
       "</style>\n",
       "<table border=\"1\" class=\"dataframe\">\n",
       "  <thead>\n",
       "    <tr style=\"text-align: right;\">\n",
       "      <th></th>\n",
       "      <th>ndc_code</th>\n",
       "      <th>nadac_cost_per_unit</th>\n",
       "      <th>nadac_effective_date</th>\n",
       "      <th>nadac_pricing_unit</th>\n",
       "      <th>over_the_counter</th>\n",
       "      <th>data_source_code</th>\n",
       "      <th>month_year</th>\n",
       "      <th>month</th>\n",
       "      <th>year</th>\n",
       "      <th>ndc_drug_name</th>\n",
       "      <th>ndc_drug_dose</th>\n",
       "    </tr>\n",
       "  </thead>\n",
       "  <tbody>\n",
       "    <tr>\n",
       "      <th>0</th>\n",
       "      <td>69536014619</td>\n",
       "      <td>33.380</td>\n",
       "      <td>2019-01-16</td>\n",
       "      <td>EA</td>\n",
       "      <td>Y</td>\n",
       "      <td>2</td>\n",
       "      <td>2019-01</td>\n",
       "      <td>1</td>\n",
       "      <td>2019</td>\n",
       "      <td>PLAN B ONE-STEP</td>\n",
       "      <td>1.5 MG TABLET</td>\n",
       "    </tr>\n",
       "    <tr>\n",
       "      <th>1</th>\n",
       "      <td>832107430</td>\n",
       "      <td>16.050</td>\n",
       "      <td>2019-01-16</td>\n",
       "      <td>EA</td>\n",
       "      <td>N</td>\n",
       "      <td>3, 6</td>\n",
       "      <td>2019-01</td>\n",
       "      <td>1</td>\n",
       "      <td>2019</td>\n",
       "      <td>TOPIRAMATE ER</td>\n",
       "      <td>100 MG CAPSULE</td>\n",
       "    </tr>\n",
       "    <tr>\n",
       "      <th>2</th>\n",
       "      <td>65162073409</td>\n",
       "      <td>2.272</td>\n",
       "      <td>2019-01-16</td>\n",
       "      <td>EA</td>\n",
       "      <td>N</td>\n",
       "      <td>3</td>\n",
       "      <td>2019-01</td>\n",
       "      <td>1</td>\n",
       "      <td>2019</td>\n",
       "      <td>FELBAMATE</td>\n",
       "      <td>400 MG TABLET</td>\n",
       "    </tr>\n",
       "    <tr>\n",
       "      <th>3</th>\n",
       "      <td>58406045604</td>\n",
       "      <td>1189.474</td>\n",
       "      <td>2019-01-16</td>\n",
       "      <td>ML</td>\n",
       "      <td>N</td>\n",
       "      <td>3, 5</td>\n",
       "      <td>2019-01</td>\n",
       "      <td>1</td>\n",
       "      <td>2019</td>\n",
       "      <td>ENBREL</td>\n",
       "      <td>50 MG/ML MINI CARTRIDGE</td>\n",
       "    </tr>\n",
       "    <tr>\n",
       "      <th>4</th>\n",
       "      <td>78041420</td>\n",
       "      <td>16.290</td>\n",
       "      <td>2019-01-16</td>\n",
       "      <td>EA</td>\n",
       "      <td>N</td>\n",
       "      <td>3</td>\n",
       "      <td>2019-01</td>\n",
       "      <td>1</td>\n",
       "      <td>2019</td>\n",
       "      <td>ZORTRESS</td>\n",
       "      <td>0.5 MG TABLET</td>\n",
       "    </tr>\n",
       "  </tbody>\n",
       "</table>\n",
       "</div>"
      ],
      "text/plain": [
       "      ndc_code  nadac_cost_per_unit nadac_effective_date nadac_pricing_unit  \\\n",
       "0  69536014619               33.380           2019-01-16                 EA   \n",
       "1    832107430               16.050           2019-01-16                 EA   \n",
       "2  65162073409                2.272           2019-01-16                 EA   \n",
       "3  58406045604             1189.474           2019-01-16                 ML   \n",
       "4     78041420               16.290           2019-01-16                 EA   \n",
       "\n",
       "  over_the_counter data_source_code month_year  month  year    ndc_drug_name  \\\n",
       "0                Y                2    2019-01      1  2019  PLAN B ONE-STEP   \n",
       "1                N             3, 6    2019-01      1  2019    TOPIRAMATE ER   \n",
       "2                N                3    2019-01      1  2019        FELBAMATE   \n",
       "3                N             3, 5    2019-01      1  2019           ENBREL   \n",
       "4                N                3    2019-01      1  2019         ZORTRESS   \n",
       "\n",
       "             ndc_drug_dose  \n",
       "0            1.5 MG TABLET  \n",
       "1           100 MG CAPSULE  \n",
       "2            400 MG TABLET  \n",
       "3  50 MG/ML MINI CARTRIDGE  \n",
       "4            0.5 MG TABLET  "
      ]
     },
     "execution_count": 19,
     "metadata": {},
     "output_type": "execute_result"
    }
   ],
   "source": [
    "nadac_df.head()"
   ]
  },
  {
   "cell_type": "code",
   "execution_count": 20,
   "metadata": {},
   "outputs": [],
   "source": [
    "# replaced nadac_df with new version, grouping by ndc_drug_name and over_the_counter\n",
    "# for future visualizations.\n",
    "aggregations = {\n",
    "    'nadac_cost_per_unit': 'mean',\n",
    "    }\n",
    "\n",
    "nadac_df = deepcopy(nadac_df.groupby(['ndc_drug_name', 'over_the_counter']).agg(aggregations).reset_index())\n",
    "nadac_df['nadac_cost_per_unit'] = nadac_df['nadac_cost_per_unit'].astype(float)"
   ]
  },
  {
   "cell_type": "code",
   "execution_count": 23,
   "metadata": {},
   "outputs": [],
   "source": [
    "nadac_df.to_pickle('../Pickles/nadac_df.pkl')"
   ]
  },
  {
   "cell_type": "code",
   "execution_count": 24,
   "metadata": {},
   "outputs": [
    {
     "name": "stdout",
     "output_type": "stream",
     "text": [
      "<class 'pandas.core.frame.DataFrame'>\n",
      "RangeIndex: 4802 entries, 0 to 4801\n",
      "Data columns (total 3 columns):\n",
      "ndc_drug_name          4802 non-null object\n",
      "over_the_counter       4802 non-null object\n",
      "nadac_cost_per_unit    4802 non-null float64\n",
      "dtypes: float64(1), object(2)\n",
      "memory usage: 112.6+ KB\n"
     ]
    }
   ],
   "source": [
    "nadac_df.info()"
   ]
  }
 ],
 "metadata": {
  "kernelspec": {
   "display_name": "Python 3",
   "language": "python",
   "name": "python3"
  },
  "language_info": {
   "codemirror_mode": {
    "name": "ipython",
    "version": 3
   },
   "file_extension": ".py",
   "mimetype": "text/x-python",
   "name": "python",
   "nbconvert_exporter": "python",
   "pygments_lexer": "ipython3",
   "version": "3.6.4"
  }
 },
 "nbformat": 4,
 "nbformat_minor": 2
}
