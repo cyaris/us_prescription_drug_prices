{
 "cells": [
  {
   "cell_type": "code",
   "execution_count": 1,
   "metadata": {},
   "outputs": [],
   "source": [
    "import warnings\n",
    "from copy import deepcopy\n",
    "import pandas as pd\n",
    "import numpy as np\n",
    "import re"
   ]
  },
  {
   "cell_type": "code",
   "execution_count": 2,
   "metadata": {},
   "outputs": [],
   "source": [
    "warnings.filterwarnings('ignore')"
   ]
  },
  {
   "cell_type": "code",
   "execution_count": 3,
   "metadata": {},
   "outputs": [],
   "source": [
    "pd.set_option('display.max_colwidth', 1000)\n",
    "pd.set_option('display.float_format', lambda x: '%.3f' % x)"
   ]
  },
  {
   "cell_type": "code",
   "execution_count": 4,
   "metadata": {},
   "outputs": [],
   "source": [
    "grx_df = pd.read_csv('../Data Sources/goodrx_scraped.csv')"
   ]
  },
  {
   "cell_type": "code",
   "execution_count": 5,
   "metadata": {},
   "outputs": [],
   "source": [
    "# used deep copy to sort by drug name.\n",
    "grx_df = deepcopy(grx_df.sort_values(by = 'drug_name', ascending = True))"
   ]
  },
  {
   "cell_type": "code",
   "execution_count": 7,
   "metadata": {},
   "outputs": [
    {
     "data": {
      "text/plain": [
       "Index(['drug_name', 'drug_notice', 'drug_url', 'generic_name',\n",
       "       'grx_affordability_rank', 'grx_avg_cash_price',\n",
       "       'grx_competition_amount', 'grx_drug_warning', 'grx_fair_price',\n",
       "       'grx_lowest_price', 'grx_no_prices_found', 'grx_not_avail',\n",
       "       'grx_over_counter', 'grx_pharmacy', 'grx_popularity_rank',\n",
       "       'grx_purchase', 'url_id'],\n",
       "      dtype='object')"
      ]
     },
     "execution_count": 7,
     "metadata": {},
     "output_type": "execute_result"
    }
   ],
   "source": [
    "grx_df.head()"
   ]
  },
  {
   "cell_type": "code",
   "execution_count": 7,
   "metadata": {},
   "outputs": [
    {
     "data": {
      "text/plain": [
       "Index(['drug_name', 'drug_notice', 'drug_url', 'generic_name',\n",
       "       'grx_affordability_rank', 'grx_avg_cash_price',\n",
       "       'grx_competition_amount', 'grx_drug_warning', 'grx_fair_price',\n",
       "       'grx_lowest_price', 'grx_no_prices_found', 'grx_not_avail',\n",
       "       'grx_over_counter', 'grx_pharmacy', 'grx_popularity_rank',\n",
       "       'grx_purchase', 'url_id'],\n",
       "      dtype='object')"
      ]
     },
     "execution_count": 7,
     "metadata": {},
     "output_type": "execute_result"
    }
   ],
   "source": [
    "grx_df.columns"
   ]
  },
  {
   "cell_type": "code",
   "execution_count": 6,
   "metadata": {},
   "outputs": [],
   "source": [
    "# created codes for url so that I could give each drug a unique identifier.\n",
    "grx_df['url_id'] = grx_df['drug_url'].astype('category').cat.codes\n",
    "# sorted alphabetically, and by price, so that if there are any duplicates,\n",
    "# the cheapest version of a drug is at the top.\n",
    "grx_df = deepcopy(grx_df.sort_values(by = ['url_id', 'grx_lowest_price'], ascending = True))"
   ]
  },
  {
   "cell_type": "code",
   "execution_count": 8,
   "metadata": {},
   "outputs": [],
   "source": [
    "# for any duplicate rows of a specific drug, the least expensive version was kept.\n",
    "duplicate_list = ['drug_name', 'drug_notice', 'drug_url', 'generic_name',\n",
    "                  'grx_affordability_rank', 'grx_avg_cash_price',\n",
    "                  'grx_competition_amount', 'grx_drug_warning',\n",
    "                  'grx_fair_price', 'grx_no_prices_found', 'grx_not_avail',\n",
    "                  'grx_over_counter', 'grx_pharmacy', 'grx_popularity_rank',\n",
    "                  'grx_purchase', 'url_id']\n",
    "\n",
    "grx_df.drop_duplicates(subset = duplicate_list, keep = 'first', inplace = True)"
   ]
  },
  {
   "cell_type": "code",
   "execution_count": 9,
   "metadata": {},
   "outputs": [],
   "source": [
    "# removed all drugs that were labelled as over the counter.\n",
    "grx_df = deepcopy(grx_df[grx_df['grx_over_counter'] != 'Over the counter medication'])"
   ]
  },
  {
   "cell_type": "code",
   "execution_count": 10,
   "metadata": {},
   "outputs": [],
   "source": [
    "# removed all drugs that are not sold in pharmacies.\n",
    "grx_df = deepcopy(grx_df[grx_df['drug_notice'] != 'This prescription is provided by a doctor and is generally not available at a pharmacy'])"
   ]
  },
  {
   "cell_type": "code",
   "execution_count": 11,
   "metadata": {},
   "outputs": [],
   "source": [
    "# created new column to determine which drugs are currently available on the market.\n",
    "grx_df['grx_not_avail_conf'] = (grx_df['grx_not_avail'].isnull() == False) & (grx_df['grx_fair_price'].isnull())\n",
    "# removed all drugs that were marked as not currently available on the market.\n",
    "grx_df = deepcopy(grx_df[grx_df['grx_not_avail_conf'] == False])"
   ]
  },
  {
   "cell_type": "code",
   "execution_count": 12,
   "metadata": {},
   "outputs": [],
   "source": [
    "# removed all drugs that did not have a listing price.\n",
    "grx_df = deepcopy(grx_df[grx_df['grx_lowest_price'].isnull() == False])\n",
    "grx_df = deepcopy(grx_df[(grx_df['grx_no_prices_found'].isnull())])"
   ]
  },
  {
   "cell_type": "code",
   "execution_count": 13,
   "metadata": {},
   "outputs": [],
   "source": [
    "# removed the following fields because they were no longer needed:\n",
    "grx_df.drop(['url_id', 'drug_url', 'grx_over_counter', 'drug_notice',\n",
    "             'grx_not_avail', 'grx_not_avail_conf', 'grx_no_prices_found',\n",
    "             'grx_avg_cash_price', 'grx_fair_price', 'grx_drug_warning'], axis = 1, inplace = True)"
   ]
  },
  {
   "cell_type": "code",
   "execution_count": 14,
   "metadata": {},
   "outputs": [],
   "source": [
    "# kept drugs where generic names do not exist. renamed them accordingly.\n",
    "grx_df.loc[grx_df['generic_name'].isnull(), 'generic_name'] = 'Non-Existant'"
   ]
  },
  {
   "cell_type": "code",
   "execution_count": 15,
   "metadata": {},
   "outputs": [],
   "source": [
    "# removing drugs sold at pet pharmacies from the dataframe.\n",
    "grx_df = deepcopy(grx_df[(grx_df['grx_pharmacy'] != 'KVSupply') & (grx_df['grx_pharmacy'] != 'Heartland Vet Supply')])"
   ]
  },
  {
   "cell_type": "code",
   "execution_count": 16,
   "metadata": {},
   "outputs": [],
   "source": [
    "# changed data type to enable string editing.\n",
    "grx_df['grx_lowest_price'] = grx_df['grx_lowest_price'].astype(str)\n",
    "# ficed formatting for grx_lowest_price column.\n",
    "# gave all free drugs a price of $0.\n",
    "grx_df['grx_lowest_price'] = ([s.strip('$') for s in grx_df['grx_lowest_price']])\n",
    "grx_df['grx_lowest_price'] = ([s.replace(',', '') for s in grx_df['grx_lowest_price']])\n",
    "grx_df.loc[grx_df['grx_lowest_price'] == 'Free', 'grx_lowest_price'] = 0\n",
    "# switched data type to float for numerical analysis.\n",
    "grx_df['grx_lowest_price'] = grx_df['grx_lowest_price'].astype(float)"
   ]
  },
  {
   "cell_type": "code",
   "execution_count": 17,
   "metadata": {},
   "outputs": [],
   "source": [
    "# sorted data by most expensive drug.\n",
    "# dropped duplicate index from dataframe.\n",
    "grx_df = deepcopy(grx_df.sort_values(by = 'grx_lowest_price', ascending = False)).reset_index()\n",
    "grx_df.drop('index', axis = 1, inplace = True)"
   ]
  },
  {
   "cell_type": "code",
   "execution_count": 18,
   "metadata": {},
   "outputs": [],
   "source": [
    "# edited names of certain drugs to enable future join on drug_name/generic_name.\n",
    "grx_df.loc[1343, 'drug_name'] = 'Diazepam'\n",
    "grx_df.loc[1343, 'drug_name'] = 'Diazepam'\n",
    "grx_df.loc[2270, 'drug_name'] = 'Differin'\n",
    "grx_df.loc[2333, 'drug_name'] = 'Voltaren'\n",
    "grx_df.loc[3147, 'drug_name'] = 'SF'\n",
    "grx_df.loc[1237, 'generic_name'] = 'Epinephrine'"
   ]
  },
  {
   "cell_type": "code",
   "execution_count": 19,
   "metadata": {},
   "outputs": [],
   "source": [
    "# fixed formatting in affordability_rank, popularity_rank and competition_amount.\n",
    "grx_df['grx_affordability_rank'] = deepcopy(grx_df['grx_affordability_rank'].str.strip('th'))\n",
    "grx_df['grx_popularity_rank'] = deepcopy(grx_df['grx_popularity_rank'].str.strip('th'))\n",
    "grx_df.loc[grx_df['grx_competition_amount'].isnull(), 'grx_competition_amount'] = ',,'\n",
    "grx_df['grx_competition_amount'] = [s.split(',')[2] for s in grx_df['grx_competition_amount']]\n",
    "grx_df.loc[grx_df['grx_competition_amount'] == '', 'grx_competition_amount'] = None"
   ]
  },
  {
   "cell_type": "code",
   "execution_count": 20,
   "metadata": {},
   "outputs": [],
   "source": [
    "# removed the other data fields because they were null for almost half of the dataset.\n",
    "grx_df.drop(['grx_affordability_rank', 'grx_popularity_rank',\n",
    "             'grx_competition_amount'], axis = 1, inplace = True)"
   ]
  },
  {
   "cell_type": "code",
   "execution_count": 21,
   "metadata": {},
   "outputs": [],
   "source": [
    "# rearranged words to make regex easier later in notebook.\n",
    "grx_df.loc[1, 'grx_purchase'] = '2 vials (5ml) of H.P.Acthar 80 units/ml'\n",
    "grx_df.loc[93, 'grx_purchase'] = \"1 carton (2 bottles) of Braftovi 75mg\"\n",
    "grx_df.loc[109, 'grx_purchase'] = '2 vials of Perjeta 420mg/14ml'\n",
    "grx_df.loc[110, 'grx_purchase'] = '2 vials of Perjeta 420mg/14ml'\n",
    "grx_df.loc[158, 'grx_purchase'] = '1 syringe of Neulasta 6mg/0.6ml'\n",
    "grx_df.loc[159, 'grx_purchase'] = '1 syringe of Neulasta 6mg/0.6ml'\n",
    "grx_df.loc[167, 'grx_purchase'] = '90 tablets of Noxafil 100mg'\n",
    "grx_df.loc[564, 'grx_purchase'] = '60 patches of Flector 1.3%'\n",
    "grx_df.loc[742, 'grx_purchase'] = '1 inhaler of Nicotrol 10mg'\n",
    "grx_df.loc[836, 'grx_purchase'] = '1 dose of Rabavert 2.5iu/ml'\n",
    "grx_df.loc[837, 'grx_purchase'] = '1 dose of Rabavert 2.5iu/ml'\n",
    "grx_df.loc[1124, 'grx_purchase'] = '1 device of Primabella '\n",
    "grx_df.loc[1534, 'grx_purchase'] = '30 patches of lidocaine 5%'\n",
    "grx_df.loc[1623, 'grx_purchase'] = '10 syringes of enoxaparin 100mg/ml'\n",
    "grx_df.loc[1689, 'grx_purchase'] = '1 spacer of Flexichamber '\n",
    "grx_df.loc[1777, 'grx_purchase'] = '100 test strips of Truetrack '\n",
    "grx_df.loc[1940, 'grx_purchase'] = ' 1 spacer of Easivent '\n",
    "grx_df.loc[2056, 'grx_purchase'] = '12 packets of imiquimod 5%'\n",
    "grx_df.loc[2057, 'grx_purchase'] = '12 packets of imiquimod 5%'\n",
    "grx_df.loc[2838, 'grx_purchase'] = '1 spacer of Prochamber '\n",
    "grx_df.loc[639, 'grx_purchase'] = '1 Vial'\n",
    "grx_df.loc[640, 'grx_purchase'] = '1 Vial'\n",
    "grx_df.loc[767, 'grx_purchase'] = '1 Vial'\n",
    "grx_df.loc[3293, 'grx_purchase'] = '1 Vial'"
   ]
  },
  {
   "cell_type": "code",
   "execution_count": 22,
   "metadata": {},
   "outputs": [],
   "source": [
    "# fixed string formatting to make regex easier later in notebook.\n",
    "grx_df['grx_purchase'] = deepcopy(([s.replace('17g/dose', '17g') for s in grx_df['grx_purchase']]))\n",
    "grx_df['grx_purchase'] = deepcopy(([s.replace('five 3ml', '5') for s in grx_df['grx_purchase']]))\n",
    "grx_df['grx_purchase'] = deepcopy(([s.replace('1 pen', '1 pens') for s in grx_df['grx_purchase']]))\n",
    "grx_df['grx_purchase'] = deepcopy(([s.replace('two 3ml pens', '2 pens') for s in grx_df['grx_purchase']]))\n",
    "grx_df['grx_purchase'] = deepcopy(([s.replace('five 3ml pens', '5 pens') for s in grx_df['grx_purchase']]))"
   ]
  },
  {
   "cell_type": "code",
   "execution_count": 23,
   "metadata": {},
   "outputs": [],
   "source": [
    "# used regex to make a new column 'grx_purchase_qty', of the number of units in a grx_purchase.\n",
    "for i, qty in enumerate(grx_df['grx_purchase'].str.lower()):\n",
    "    if 'capsule' in qty:\n",
    "        grx_df.loc[i, 'grx_purchase_qty'] = re.search(r'\\d+(?=\\s+capsule)', qty).group()\n",
    "    elif 'sublingual tablet' in qty:\n",
    "        grx_df.loc[i, 'grx_purchase_qty'] = re.search(r'\\d+(?=\\s+sublingual tablet)', qty).group()\n",
    "    elif 'effervescent tablet' in qty:\n",
    "        grx_df.loc[i, 'grx_purchase_qty'] = re.search(r'\\d+(?=\\s+effervescent tablet)', qty).group()\n",
    "    elif 'chewable tablet' in qty:\n",
    "        grx_df.loc[i, 'grx_purchase_qty'] = re.search(r'\\d+(?=\\s+chewable tablet)', qty).group()\n",
    "    elif 'buccal tablet' in qty:\n",
    "        grx_df.loc[i, 'grx_purchase_qty'] = re.search(r'\\d+(?=\\s+buccal tablet)', qty).group()\n",
    "    elif 'orally disintegrating tablet' in qty:\n",
    "        grx_df.loc[i, 'grx_purchase_qty'] = re.search(r'\\d+(?=\\s+orally disintegrating tablet)', qty).group()\n",
    "    elif 'tablet' in qty:\n",
    "        grx_df.loc[i, 'grx_purchase_qty'] = re.search(r'\\d+(?=\\s+tablet)', qty).group()\n",
    "    elif 'caplet' in qty:\n",
    "        grx_df.loc[i, 'grx_purchase_qty'] = re.search(r'\\d+(?=\\s+caplet)', qty).group()\n",
    "    elif 'single-use vial' in qty:\n",
    "        grx_df.loc[i, 'grx_purchase_qty'] = re.search(r'\\d+(?=\\s+single-use vial)', qty).group()\n",
    "    elif 'vial' in qty:\n",
    "        grx_df.loc[i, 'grx_purchase_qty'] = re.search(r'\\d+(?=\\s+vial)', qty).group()\n",
    "    elif 'ampule' in qty:\n",
    "        grx_df.loc[i, 'grx_purchase_qty'] = re.search(r'\\d+(?=\\s+ampule)', qty).group()\n",
    "    elif 'nuspins' in qty:\n",
    "        grx_df.loc[i, 'grx_purchase_qty'] = re.search(r'\\d+(?=\\s+nuspins)', qty).group()\n",
    "    elif 'implant' in qty:\n",
    "        grx_df.loc[i, 'grx_purchase_qty'] = re.search(r'\\d+(?=\\s+implant)', qty).group()\n",
    "    elif 'packet' in qty:\n",
    "        grx_df.loc[i, 'grx_purchase_qty'] = re.search(r'\\d+(?=\\s+packet)', qty).group()\n",
    "    elif 'blisters' in qty:\n",
    "        grx_df.loc[i, 'grx_purchase_qty'] = re.search(r'\\d+(?=\\s+blisters)', qty).group()\n",
    "    elif 'cartridge' in qty:\n",
    "        grx_df.loc[i, 'grx_purchase_qty'] = re.search(r'\\d+(?=\\s+cartridge)', qty).group()\n",
    "    elif 'suppositories' in qty:\n",
    "        grx_df.loc[i, 'grx_purchase_qty'] = re.search(r'\\d+(?=\\s+suppositories)', qty).group()\n",
    "    elif 'once-weekly patches' in qty:\n",
    "        grx_df.loc[i, 'grx_purchase_qty'] = re.search(r'\\d+(?=\\s+once-weekly patches)', qty).group()\n",
    "    elif 'twice-weekly patches' in qty:\n",
    "        grx_df.loc[i, 'grx_purchase_qty'] = re.search(r'\\d+(?=\\s+twice-weekly patches)', qty).group()\n",
    "    elif 'patches' in qty:\n",
    "        grx_df.loc[i, 'grx_purchase_qty'] = re.search(r'\\d+(?=\\s+patches)', qty).group()\n",
    "    elif 'metered sprays' in qty:\n",
    "        grx_df.loc[i, 'grx_purchase_qty'] = re.search(r'\\d+(?=\\s+metered sprays)', qty).group()\n",
    "    elif 'nasal spray' in qty:\n",
    "        grx_df.loc[i, 'grx_purchase_qty'] = re.search(r'\\d+(?=\\s+nasal spray)', qty).group()\n",
    "    elif 'eye dropper' in qty:\n",
    "        grx_df.loc[i, 'grx_purchase_qty'] = re.search(r'\\d+(?=\\s+eye dropper)', qty).group()\n",
    "    elif 'ear dropper' in qty:\n",
    "        grx_df.loc[i, 'grx_purchase_qty'] = re.search(r'\\d+(?=\\s+ear dropper)', qty).group()\n",
    "    elif 'dropper' in qty:\n",
    "        grx_df.loc[i, 'grx_purchase_qty'] = re.search(r'\\d+(?=\\s+dropper)', qty).group()\n",
    "    elif 'surclicks' in qty:\n",
    "        grx_df.loc[i, 'grx_purchase_qty'] = re.search(r'\\d+(?=\\s+surclicks)', qty).group()\n",
    "    elif 'autoinjector' in qty:\n",
    "        grx_df.loc[i, 'grx_purchase_qty'] = re.search(r'\\d+(?=\\s+autoinjector)', qty).group()\n",
    "    elif 'auto-injector' in qty:\n",
    "        grx_df.loc[i, 'grx_purchase_qty'] = re.search(r'\\d+(?=\\s+auto-injector)', qty).group()\n",
    "    elif 'syringe' in qty:\n",
    "        grx_df.loc[i, 'grx_purchase_qty'] = re.search(r'\\d+(?=\\s+syringe)', qty).group()\n",
    "    elif 'gel pump' in qty:\n",
    "        grx_df.loc[i, 'grx_purchase_qty'] = re.search(r'\\d+(?=\\s+gel pump)', qty).group()\n",
    "    elif 'can' in qty:\n",
    "        grx_df.loc[i, 'grx_purchase_qty'] = re.search(r'\\d+(?=\\s+can)', qty).group()\n",
    "    elif 'sensoready pens' in qty:\n",
    "        grx_df.loc[i, 'grx_purchase_qty'] = re.search(r'\\d+(?=\\s+sensoready pens)', qty).group()\n",
    "    elif 'solostar pens' in qty:\n",
    "        grx_df.loc[i, 'grx_purchase_qty'] = re.search(r'\\d+(?=\\s+solostar pens)', qty).group()\n",
    "    elif 'flexpens' in qty:\n",
    "        grx_df.loc[i, 'grx_purchase_qty'] = re.search(r'\\d+(?=\\s+flexpens)', qty).group()\n",
    "    elif 'junior kwikpens' in qty:\n",
    "        grx_df.loc[i, 'grx_purchase_qty'] = re.search(r'\\d+(?=\\s+junior kwikpens)', qty).group()\n",
    "    elif 'kwikpens' in qty:\n",
    "        grx_df.loc[i, 'grx_purchase_qty'] = re.search(r'\\d+(?=\\s+kwikpens)', qty).group()\n",
    "    elif 'flextouch pens' in qty:\n",
    "        grx_df.loc[i, 'grx_purchase_qty'] = re.search(r'\\d+(?=\\s+flextouch pens)', qty).group()\n",
    "    elif 'prefilled 1.5ml pens' in qty:\n",
    "        grx_df.loc[i, 'grx_purchase_qty'] = re.search(r'\\d+(?=\\s+prefilled 1.5ml pens)', qty).group()\n",
    "    elif 'pen needles' in qty and 'suspension' not in qty:\n",
    "        grx_df.loc[i, 'grx_purchase_qty'] = re.search(r'\\d+(?=\\s+pen needles)', qty).group()\n",
    "    elif 'pens' in qty and 'suspension' not in qty:\n",
    "        grx_df.loc[i, 'grx_purchase_qty'] = re.search(r'\\d+(?=\\s+pens)', qty).group()\n",
    "    elif 'carton' in qty:\n",
    "        grx_df.loc[i, 'grx_purchase_qty'] = re.search(r'\\d+(?=\\s+carton)', qty).group()\n",
    "    elif 'kit' in qty:\n",
    "        grx_df.loc[i, 'grx_purchase_qty'] = re.search(r'\\d+(?=\\s+kit)', qty).group()        \n",
    "    elif 'diskus inhaler' in qty:\n",
    "        grx_df.loc[i, 'grx_purchase_qty'] = re.search(r'\\d+(?=\\s+diskus inhaler)', qty).group()\n",
    "    elif 'hfa inhaler' in qty:\n",
    "        grx_df.loc[i, 'grx_purchase_qty'] = re.search(r'\\d+(?=\\s+hfa inhaler)', qty).group()\n",
    "    elif 'respiclick inhaler' in qty:\n",
    "        grx_df.loc[i, 'grx_purchase_qty'] = re.search(r'\\d+(?=\\s+respiclick inhaler)', qty).group()\n",
    "    elif 'respimat inhaler' in qty:\n",
    "        grx_df.loc[i, 'grx_purchase_qty'] = re.search(r'\\d+(?=\\s+respimat inhaler)', qty).group()\n",
    "    elif 'inhaler' in qty:\n",
    "        grx_df.loc[i, 'grx_purchase_qty'] = re.search(r'\\d+(?=\\s+inhaler)', qty).group()\n",
    "    elif 'days' in qty:\n",
    "        grx_df.loc[i, 'grx_purchase_qty'] = re.search(r'\\d+(?=\\s+days)', qty).group()\n",
    "    elif 'dose pack' in qty:\n",
    "        grx_df.loc[i, 'grx_purchase_qty'] = re.search(r'\\d+(?=\\s+dose pack)', qty).group()\n",
    "    elif 'dose' in qty:\n",
    "        grx_df.loc[i, 'grx_purchase_qty'] = re.search(r'\\d+(?=\\s+dose)', qty).group()        \n",
    "    elif 'bottle' in qty:\n",
    "        grx_df.loc[i, 'grx_purchase_qty'] = re.search(r'\\d+(?=\\s+bottle)', qty).group()\n",
    "    elif 'tube' in qty:\n",
    "        grx_df.loc[i, 'grx_purchase_qty'] = re.search(r'\\d+(?=\\s+tube)', qty).group()\n",
    "    elif 'injections' in qty:\n",
    "        grx_df.loc[i, 'grx_purchase_qty'] = re.search(r'\\d+(?=\\s+injections)', qty).group()\n",
    "    elif 'jar' in qty:\n",
    "        grx_df.loc[i, 'grx_purchase_qty'] = re.search(r'\\d+(?=\\s+jar)', qty).group()\n",
    "    elif 'applicators' in qty:\n",
    "        grx_df.loc[i, 'grx_purchase_qty'] = re.search(r'\\d+(?=\\s+applicators)', qty).group()\n",
    "    elif 'orally disintegrating tabs' in qty:\n",
    "        grx_df.loc[i, 'grx_purchase_qty'] = re.search(r'\\d+(?=\\s+orally disintegrating tabs)', qty).group()\n",
    "    elif 'test strips' in qty:\n",
    "        grx_df.loc[i, 'grx_purchase_qty'] = re.search(r'\\d+(?=\\s+test strips)', qty).group()\n",
    "    elif 'buccal films' in qty:\n",
    "        grx_df.loc[i, 'grx_purchase_qty'] = re.search(r'\\d+(?=\\s+buccal films)', qty).group()\n",
    "    elif 'films' in qty:\n",
    "        grx_df.loc[i, 'grx_purchase_qty'] = re.search(r'\\d+(?=\\s+films)', qty).group()\n",
    "    elif 'insert' in qty:\n",
    "        grx_df.loc[i, 'grx_purchase_qty'] = re.search(r'\\d+(?=\\s+insert)', qty).group()\n",
    "    elif 'flexhaler' in qty:\n",
    "        grx_df.loc[i, 'grx_purchase_qty'] = re.search(r'\\d+(?=\\s+flexhaler)', qty).group()\n",
    "    elif 'applicator' in qty:\n",
    "        grx_df.loc[i, 'grx_purchase_qty'] = re.search(r'\\d+(?=\\s+applicator)', qty).group()\n",
    "    elif 'cream pump' in qty:\n",
    "        grx_df.loc[i, 'grx_purchase_qty'] = re.search(r'\\d+(?=\\s+cream pump)', qty).group()\n",
    "    elif 'package' in qty:\n",
    "        grx_df.loc[i, 'grx_purchase_qty'] = re.search(r'\\d+(?=\\s+package)', qty).group()\n",
    "    elif 'day flash' in qty:\n",
    "        grx_df.loc[i, 'grx_purchase_qty'] = re.search(r'\\d+(?=\\s+day flash)', qty).group()\n",
    "    elif 'ring' in qty:\n",
    "        grx_df.loc[i, 'grx_purchase_qty'] = re.search(r'\\d+(?=\\s+ring)', qty).group()\n",
    "    elif 'flexpro' in qty:\n",
    "        grx_df.loc[i, 'grx_purchase_qty'] = re.search(r'\\d+(?=\\s+flexpro)', qty).group()\n",
    "    elif 'iud' in qty:\n",
    "        grx_df.loc[i, 'grx_purchase_qty'] = re.search(r'\\d+(?=\\s+iud)', qty).group()\n",
    "    elif 'device' in qty:\n",
    "        grx_df.loc[i, 'grx_purchase_qty'] = re.search(r'\\d+(?=\\s+device)', qty).group()\n",
    "    elif 'lozenges' in qty:\n",
    "        grx_df.loc[i, 'grx_purchase_qty'] = re.search(r'\\d+(?=\\s+lozenges)', qty).group()\n",
    "    elif 'enemas' in qty:\n",
    "        grx_df.loc[i, 'grx_purchase_qty'] = re.search(r'\\d+(?=\\s+enemas)', qty).group()\n",
    "    elif 'lancets' in qty:\n",
    "        grx_df.loc[i, 'grx_purchase_qty'] = re.search(r'\\d+(?=\\s+lancets)', qty).group()\n",
    "    else:\n",
    "        grx_df.loc[i, 'grx_purchase_qty'] = 'Error'"
   ]
  },
  {
   "cell_type": "code",
   "execution_count": 24,
   "metadata": {},
   "outputs": [],
   "source": [
    "# manually determined grx_purchase_qty for rows where regex was more difficult.\n",
    "grx_df.loc[568, 'grx_purchase_qty'] = '60'\n",
    "grx_df.loc[630, 'grx_purchase_qty'] = '28'\n",
    "grx_df.loc[887, 'grx_purchase_qty'] = '360'\n",
    "grx_df.loc[1050, 'grx_purchase_qty'] = '30'\n",
    "grx_df.loc[2501, 'grx_purchase_qty'] = '120'\n",
    "grx_df.loc[3267, 'grx_purchase_qty'] = '10'\n",
    "grx_df.loc[3268, 'grx_purchase_qty'] = '10'\n",
    "grx_df.loc[3269, 'grx_purchase_qty'] = '10'\n",
    "grx_df.loc[3270, 'grx_purchase_qty'] = '10'"
   ]
  },
  {
   "cell_type": "code",
   "execution_count": 25,
   "metadata": {},
   "outputs": [],
   "source": [
    "# declared all remaining rows to be a unit of one.\n",
    "grx_df['grx_purchase_qty'] = deepcopy(([s.replace('Error', '1') for s in grx_df['grx_purchase_qty']]))"
   ]
  },
  {
   "cell_type": "code",
   "execution_count": 26,
   "metadata": {},
   "outputs": [],
   "source": [
    "# created a new column grx_qty_coeff to arbitrarily multiply grx_purchase_qty\n",
    "# by an estimated number of doses in a unit.\n",
    "# all drugs that were not droppers, tubes, sprays, inhalers, or cartridges were given a coefficient of 1.\n",
    "for i, qty in enumerate(grx_df['grx_purchase'].str.lower()):\n",
    "    if 'dropper' in qty:\n",
    "        grx_df.loc[i, 'grx_qty_coeff'] = 100\n",
    "    if 'tube' in qty:\n",
    "        grx_df.loc[i, 'grx_qty_coeff'] = 100\n",
    "    if 'spray' in qty:\n",
    "        grx_df.loc[i, 'grx_qty_coeff'] = 100\n",
    "    if 'inhaler' in qty:\n",
    "        grx_df.loc[i, 'grx_qty_coeff'] = 200\n",
    "    if 'cartridge' in qty:\n",
    "        grx_df.loc[i, 'grx_qty_coeff'] = 200\n",
    "    else:\n",
    "        grx_df.loc[i, 'grx_qty_coeff'] = 1"
   ]
  },
  {
   "cell_type": "code",
   "execution_count": 27,
   "metadata": {},
   "outputs": [],
   "source": [
    "# changed columns to datatypes for analysis.\n",
    "grx_df['grx_purchase_qty'] = deepcopy(grx_df['grx_purchase_qty'].astype(float))\n",
    "grx_df['grx_qty_coeff'] = deepcopy(grx_df['grx_qty_coeff'].astype(float))"
   ]
  },
  {
   "cell_type": "code",
   "execution_count": 28,
   "metadata": {},
   "outputs": [],
   "source": [
    "# created new column grx_purchase_qty_adj to be number of doses in a purchase.\n",
    "# created new column grx_lowest_price_adj to be lowest price per dose of a given drug.\n",
    "grx_df['grx_purchase_qty_adj'] = deepcopy((grx_df['grx_purchase_qty'] * grx_df['grx_qty_coeff']))\n",
    "grx_df['grx_lowest_price_adj'] = deepcopy((grx_df['grx_lowest_price']/grx_df['grx_purchase_qty_adj']))"
   ]
  },
  {
   "cell_type": "code",
   "execution_count": 29,
   "metadata": {},
   "outputs": [],
   "source": [
    "# changed columns to datatypes for analysis.\n",
    "grx_df['grx_purchase_qty_adj'] = deepcopy(grx_df['grx_purchase_qty_adj'].astype(float))\n",
    "grx_df['grx_lowest_price_adj'] = deepcopy(grx_df['grx_lowest_price_adj'].astype(float))"
   ]
  },
  {
   "cell_type": "code",
   "execution_count": 30,
   "metadata": {},
   "outputs": [],
   "source": [
    "# dropped column that were only created to generate other columns.\n",
    "grx_df.drop(['grx_purchase_qty', 'grx_purchase_qty_adj', 'grx_qty_coeff'], axis = 1, inplace = True)"
   ]
  },
  {
   "cell_type": "code",
   "execution_count": 31,
   "metadata": {},
   "outputs": [
    {
     "data": {
      "text/html": [
       "<div>\n",
       "<style scoped>\n",
       "    .dataframe tbody tr th:only-of-type {\n",
       "        vertical-align: middle;\n",
       "    }\n",
       "\n",
       "    .dataframe tbody tr th {\n",
       "        vertical-align: top;\n",
       "    }\n",
       "\n",
       "    .dataframe thead th {\n",
       "        text-align: right;\n",
       "    }\n",
       "</style>\n",
       "<table border=\"1\" class=\"dataframe\">\n",
       "  <thead>\n",
       "    <tr style=\"text-align: right;\">\n",
       "      <th></th>\n",
       "      <th>drug_name</th>\n",
       "      <th>generic_name</th>\n",
       "      <th>grx_lowest_price</th>\n",
       "      <th>grx_pharmacy</th>\n",
       "      <th>grx_purchase</th>\n",
       "      <th>grx_lowest_price_adj</th>\n",
       "    </tr>\n",
       "  </thead>\n",
       "  <tbody>\n",
       "    <tr>\n",
       "      <th>0</th>\n",
       "      <td>Ruconest</td>\n",
       "      <td>Non-Existant</td>\n",
       "      <td>144372.000</td>\n",
       "      <td>Costco</td>\n",
       "      <td>1 vial (25ml) of Ruconest 2100u</td>\n",
       "      <td>144372.000</td>\n",
       "    </tr>\n",
       "    <tr>\n",
       "      <th>1</th>\n",
       "      <td>Corticotropin</td>\n",
       "      <td>H.P. Acthar</td>\n",
       "      <td>77248.000</td>\n",
       "      <td>Costco</td>\n",
       "      <td>2 vials (5ml) of H.P.Acthar 80 units/ml</td>\n",
       "      <td>38624.000</td>\n",
       "    </tr>\n",
       "    <tr>\n",
       "      <th>2</th>\n",
       "      <td>Xuriden</td>\n",
       "      <td>Non-Existant</td>\n",
       "      <td>45531.000</td>\n",
       "      <td>Costco</td>\n",
       "      <td>30 packets of Xuriden 2g</td>\n",
       "      <td>1517.700</td>\n",
       "    </tr>\n",
       "    <tr>\n",
       "      <th>3</th>\n",
       "      <td>Chenodal</td>\n",
       "      <td>Non-Existant</td>\n",
       "      <td>42281.000</td>\n",
       "      <td>Costco</td>\n",
       "      <td>90 tablets of Chenodal 250mg</td>\n",
       "      <td>469.789</td>\n",
       "    </tr>\n",
       "    <tr>\n",
       "      <th>4</th>\n",
       "      <td>Tretten</td>\n",
       "      <td>Non-Existant</td>\n",
       "      <td>37859.000</td>\n",
       "      <td>Costco</td>\n",
       "      <td>1 kit of Tretten 2500iu</td>\n",
       "      <td>37859.000</td>\n",
       "    </tr>\n",
       "  </tbody>\n",
       "</table>\n",
       "</div>"
      ],
      "text/plain": [
       "       drug_name  generic_name  grx_lowest_price grx_pharmacy  \\\n",
       "0       Ruconest  Non-Existant        144372.000       Costco   \n",
       "1  Corticotropin   H.P. Acthar         77248.000       Costco   \n",
       "2        Xuriden  Non-Existant         45531.000       Costco   \n",
       "3       Chenodal  Non-Existant         42281.000       Costco   \n",
       "4        Tretten  Non-Existant         37859.000       Costco   \n",
       "\n",
       "                              grx_purchase  grx_lowest_price_adj  \n",
       "0          1 vial (25ml) of Ruconest 2100u            144372.000  \n",
       "1  2 vials (5ml) of H.P.Acthar 80 units/ml             38624.000  \n",
       "2                 30 packets of Xuriden 2g              1517.700  \n",
       "3             90 tablets of Chenodal 250mg               469.789  \n",
       "4                  1 kit of Tretten 2500iu             37859.000  "
      ]
     },
     "execution_count": 31,
     "metadata": {},
     "output_type": "execute_result"
    }
   ],
   "source": [
    "grx_df.head()"
   ]
  },
  {
   "cell_type": "code",
   "execution_count": 32,
   "metadata": {},
   "outputs": [],
   "source": [
    "grx_df.to_pickle('../Pickles/grx_df.pkl')"
   ]
  },
  {
   "cell_type": "code",
   "execution_count": 33,
   "metadata": {},
   "outputs": [
    {
     "name": "stdout",
     "output_type": "stream",
     "text": [
      "<class 'pandas.core.frame.DataFrame'>\n",
      "RangeIndex: 3442 entries, 0 to 3441\n",
      "Data columns (total 6 columns):\n",
      "drug_name               3442 non-null object\n",
      "generic_name            3442 non-null object\n",
      "grx_lowest_price        3442 non-null float64\n",
      "grx_pharmacy            3442 non-null object\n",
      "grx_purchase            3442 non-null object\n",
      "grx_lowest_price_adj    3442 non-null float64\n",
      "dtypes: float64(2), object(4)\n",
      "memory usage: 161.4+ KB\n"
     ]
    }
   ],
   "source": [
    "grx_df.info()"
   ]
  }
 ],
 "metadata": {
  "kernelspec": {
   "display_name": "Python 3",
   "language": "python",
   "name": "python3"
  },
  "language_info": {
   "codemirror_mode": {
    "name": "ipython",
    "version": 3
   },
   "file_extension": ".py",
   "mimetype": "text/x-python",
   "name": "python",
   "nbconvert_exporter": "python",
   "pygments_lexer": "ipython3",
   "version": "3.6.4"
  }
 },
 "nbformat": 4,
 "nbformat_minor": 2
}
