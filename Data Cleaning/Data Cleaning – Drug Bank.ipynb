{
 "cells": [
  {
   "cell_type": "code",
   "execution_count": 1,
   "metadata": {},
   "outputs": [],
   "source": [
    "import pickle\n",
    "from copy import deepcopy\n",
    "import pandas as pd\n",
    "import numpy as np\n",
    "import re"
   ]
  },
  {
   "cell_type": "code",
   "execution_count": 2,
   "metadata": {},
   "outputs": [],
   "source": [
    "pd.set_option('display.max_colwidth', 1000)\n",
    "pd.set_option('display.float_format', lambda x: '%.3f' % x)"
   ]
  },
  {
   "cell_type": "code",
   "execution_count": 3,
   "metadata": {},
   "outputs": [],
   "source": [
    "# creating new dataframe on the scraped dataset from drugbank.ca\n",
    "db_df = pd.read_csv('../Data Sources/drug_bank_scraped.csv')"
   ]
  },
  {
   "cell_type": "code",
   "execution_count": 4,
   "metadata": {
    "code_folding": []
   },
   "outputs": [],
   "source": [
    "# droppping absorbtion and and protein binding because many cells are paragraphs long with inconsistent formatting.\n",
    "# dropping synthesis reference. was going to use for synthesis year, but some cells are for synthesis and some are for first patent.\n",
    "# dropping cas_num because it will not enable any joining between tables.\n",
    "# dropping url fields because they were only needed for the scraping process.\n",
    "# accession number not needed because it won't help with joining other tables.\n",
    "db_df.drop(['db_absorbtion', 'db_protein_binding', 'db_synth_ref',\n",
    "            'db_cas_num', 'db_acc_num', 'db_brand_names_table_url',\n",
    "            'db_drug_interactions_url', 'db_generic_names_table_url'], axis = 1, inplace = True)"
   ]
  },
  {
   "cell_type": "code",
   "execution_count": 5,
   "metadata": {},
   "outputs": [],
   "source": [
    "# all cells that turned up empty for this field were over-the-counter only.\n",
    "# I am only looking at prescription medications.\n",
    "# db_df = deepcopy(db_df[db_df['db_brand_names'] != 'set()'])\n",
    "db_df = deepcopy(db_df.reset_index())\n",
    "db_df.drop('index', axis = 1, inplace = True)"
   ]
  },
  {
   "cell_type": "code",
   "execution_count": 6,
   "metadata": {},
   "outputs": [],
   "source": [
    "# renamed chemicals where no brands or generics exist accordingly.\n",
    "db_df.loc[db_df['db_brand_names'] == 'set()', 'db_brand_names'] = 'No Brands'\n",
    "db_df.loc[db_df['db_generic_names'] == 'set()', 'db_generic_names'] = 'No Generic Products'"
   ]
  },
  {
   "cell_type": "code",
   "execution_count": 7,
   "metadata": {},
   "outputs": [],
   "source": [
    "# all null values for chemical state were not available on DrugBank.\n",
    "db_df.loc[db_df['db_chem_state'].isnull(), 'db_chem_state'] = 'Not Available'\n",
    "# null values for these fields were either not yet classified, or not available.\n",
    "# decided to classify all as not available\n",
    "db_df.loc[db_df['db_kingdom'].isnull(), 'db_kingdom'] = 'Not Available'\n",
    "db_df.loc[db_df['db_class'].isnull(), 'db_class'] = 'Not Available'\n",
    "db_df.loc[db_df['db_super_class'].isnull(), 'db_super_class'] = 'Not Available'\n",
    "db_df.loc[db_df['db_sub_class'].isnull(), 'db_sub_class'] = 'Not Available'\n",
    "db_df.loc[db_df['db_num_targets'].isnull(), 'db_num_targets'] = np.nan\n",
    "db_df.loc[db_df['db_molecular_weight'].isnull(), 'db_molecular_weight'] = 'Not Available'"
   ]
  },
  {
   "cell_type": "code",
   "execution_count": 8,
   "metadata": {},
   "outputs": [],
   "source": [
    "# fixed formatting in db_brand_names column.\n",
    "db_df['db_brand_names'] = ([s.replace('{', '') for s in db_df['db_brand_names']])\n",
    "db_df['db_brand_names'] = ([s.replace('}', '') for s in db_df['db_brand_names']])\n",
    "db_df['db_brand_names'] = ([s.replace('[', '') for s in db_df['db_brand_names']])\n",
    "db_df['db_brand_names'] = ([s.replace(']', '') for s in db_df['db_brand_names']])\n",
    "db_df['db_brand_names'] = ([s.replace('\"', '') for s in db_df['db_brand_names']])\n",
    "db_df['db_brand_names'] = ([s.replace(\"'\", '') for s in db_df['db_brand_names']])"
   ]
  },
  {
   "cell_type": "code",
   "execution_count": 9,
   "metadata": {},
   "outputs": [],
   "source": [
    "# fixed formatting in db_class column.\n",
    "db_df['db_class'] = [s.replace('>Not', 'Not') for s in db_df['db_class']]\n",
    "db_df['db_class'] = [s.replace('Not', '>Not') for s in db_df['db_class']]\n",
    "db_df['db_class'] = [s.replace('Carboxylic Acids and Derivatives', '>Carboxylic Acids and Derivatives') for s in db_df['db_class']]\n",
    "db_df['db_class'] = [s.split('>')[1] for s in db_df['db_class']]\n",
    "db_df['db_class'] = [s.strip('</a') for s in db_df['db_class']]"
   ]
  },
  {
   "cell_type": "code",
   "execution_count": 10,
   "metadata": {},
   "outputs": [],
   "source": [
    "# fixed formatting in db_sub_class column.\n",
    "db_df['db_sub_class'] = [s.replace('>Not Available', 'Not Available') for s in db_df['db_sub_class']]\n",
    "db_df['db_sub_class'] = [s.replace('Not', '>Not') for s in db_df['db_sub_class']]\n",
    "db_df['db_sub_class'] = [s.replace('Amino Acids, Peptides, and Analogues', '>Amino Acids, Peptides, and Analogues') for s in db_df['db_sub_class']]\n",
    "db_df['db_sub_class'] = [s.split('>')[1] for s in db_df['db_sub_class']]\n",
    "db_df['db_sub_class'] = [s.strip('</a') for s in db_df['db_sub_class']]\n",
    "db_df.loc[db_df['db_sub_class'] == 'Not Available</span', 'db_sub_class'] = 'Not Available'\n",
    "db_df.loc[db_df['db_sub_class'] == '', 'db_sub_class'] = 'Not Available'"
   ]
  },
  {
   "cell_type": "code",
   "execution_count": 11,
   "metadata": {},
   "outputs": [],
   "source": [
    "# fixed formatting in db_super_class column.\n",
    "db_df['db_super_class'] = [s.replace('>Not Available', 'Not Available') for s in db_df['db_super_class']]\n",
    "db_df['db_super_class'] = [s.replace('Not', '>Not') for s in db_df['db_super_class']]\n",
    "db_df['db_super_class'] = [s.replace('Organic Acids', '>Organic Acids') for s in db_df['db_super_class']]\n",
    "db_df['db_super_class'] = [s.split('>')[1] for s in db_df['db_super_class']]\n",
    "db_df['db_super_class'] = [s.strip('</a') for s in db_df['db_super_class']]\n",
    "db_df.loc[db_df['db_super_class'] == 'Not Available</span', 'db_super_class'] = 'Not Available'\n",
    "db_df.loc[db_df['db_super_class'] == '', 'db_super_class'] = 'Not Available'"
   ]
  },
  {
   "cell_type": "code",
   "execution_count": 12,
   "metadata": {},
   "outputs": [],
   "source": [
    "# fixed formatting in db_affected_organisms column.\n",
    "db_df['db_affected_organisms'] = ([s.strip('<ul class=\"list-unstyled table-list\"><li>') for s in db_df['db_affected_organisms']])\n",
    "db_df['db_affected_organisms'] = ([s.strip('pan class=\"not-available\">') for s in db_df['db_affected_organisms']])\n",
    "db_df['db_affected_organisms'] = ([s.replace('</li>\\\\n<li>', ', ') for s in db_df['db_affected_organisms']])\n",
    "db_df['db_affected_organisms'] = ([s.replace('</li></', '') for s in db_df['db_affected_organisms']])\n",
    "db_df['db_affected_organisms'] = ([s.strip('</') for s in db_df['db_affected_organisms']])"
   ]
  },
  {
   "cell_type": "code",
   "execution_count": 13,
   "metadata": {},
   "outputs": [],
   "source": [
    "# fixed formatting in db_molecular_weight column.\n",
    "# removed Monoisotopic molecular weights but kept averages.\n",
    "# changed 'Not Available' to np.nan\n",
    "# fixed blank data rows that were not recorded as np.nan accordingly.\n",
    "db_df['db_molecular_weight'] = ([s.replace('Average: ', '') for s in db_df['db_molecular_weight']])\n",
    "db_df['db_molecular_weight'] = [re.sub(r' <br>\\w+\\:', '', s) for s in db_df['db_molecular_weight']]\n",
    "db_df['db_molecular_weight'] = ([s.strip('<span class=\"not-available\">') for s in db_df['db_molecular_weight']])\n",
    "db_df['db_molecular_weight'] = ([s.replace('</', ' ') for s in db_df['db_molecular_weight']])\n",
    "db_df['db_molecular_weight'] = ([s.split(' ')[0] for s in db_df['db_molecular_weight']])\n",
    "db_df.loc[db_df['db_molecular_weight'] == 'Not', 'db_molecular_weight'] = 'Not Available'\n",
    "db_df.loc[db_df['db_molecular_weight'] == 'Not Available', 'db_molecular_weight'] = np.nan\n",
    "db_df.loc[3765, 'db_molecular_weight'] = None\n",
    "db_df.loc[4605, 'db_molecular_weight'] = None\n",
    "db_df.loc[8979, 'db_molecular_weight'] = None\n",
    "db_df.rename({'db_molecular_weight': 'db_avg_molecular_weight'}, axis = 1, inplace = True)"
   ]
  },
  {
   "cell_type": "code",
   "execution_count": 14,
   "metadata": {},
   "outputs": [],
   "source": [
    "# fixed formatting for 'Not Available' in db_molecular_framework column.\n",
    "db_df.loc[db_df['db_molecular_framework'] == '<span class=\"not-available\">Not Available</span>', 'db_molecular_framework'] = 'Not Available'"
   ]
  },
  {
   "cell_type": "code",
   "execution_count": 15,
   "metadata": {},
   "outputs": [],
   "source": [
    "# renamed columns for appropriate names after future join.\n",
    "db_df.rename({'db_drug_name': 'chem_name', 'db_drug_type': 'drug_type',\n",
    "              'db_affected_organisms': 'affected_organisms',\n",
    "              'db_chem_state': 'chem_state', 'db_class': 'chem_class',\n",
    "              'db_drug_group': 'drug_group', 'db_kingdom': 'chem_kingdom',\n",
    "              'db_molecular_framework': 'molecular_framework',\n",
    "              'db_avg_molecular_weight': 'avg_molecular_weight',\n",
    "              'db_num_clin_trials': 'num_clinical_trials',\n",
    "              'db_num_dosage_forms': 'num_dosage_forms',\n",
    "              'db_num_drug_interactions': 'num_drug_interactions',\n",
    "              'db_num_food_interactions': 'num_food_interactions',\n",
    "              'db_num_manufacturers': 'num_manufacturers_for_chem',\n",
    "              'db_num_packagers': 'num_packagers_for_chem',\n",
    "              'db_num_patents': 'num_patents_on_chem',\n",
    "              'db_num_targets': 'num_targets', 'db_sub_class': 'chem_sub_class',\n",
    "              'db_super_class': 'chem_super_class', 'db_brand_names': 'brand_names',\n",
    "              'db_generic_names': 'generic_names'}, axis = 1, inplace = True)"
   ]
  },
  {
   "cell_type": "code",
   "execution_count": 16,
   "metadata": {},
   "outputs": [],
   "source": [
    "# gave columns appropriate data types.\n",
    "db_df['avg_molecular_weight'] = db_df['avg_molecular_weight'].astype(float)\n",
    "db_df['num_clinical_trials'] = db_df['num_clinical_trials'].astype(float)\n",
    "db_df['num_dosage_forms'] = db_df['num_dosage_forms'].astype(float)\n",
    "db_df['num_drug_interactions'] = db_df['num_drug_interactions'].astype(float)\n",
    "db_df['num_food_interactions'] = db_df['num_food_interactions'].astype(float)\n",
    "db_df['num_manufacturers_for_chem'] = db_df['num_manufacturers_for_chem'].astype(float)\n",
    "db_df['num_packagers_for_chem'] = db_df['num_packagers_for_chem'].astype(float)\n",
    "db_df['num_patents_on_chem'] = db_df['num_patents_on_chem'].astype(float)\n",
    "db_df['num_targets'] = db_df['num_targets'].astype(float)"
   ]
  },
  {
   "cell_type": "code",
   "execution_count": 17,
   "metadata": {},
   "outputs": [],
   "source": [
    "db_df.to_pickle('../Pickles/db_df.pkl')"
   ]
  },
  {
   "cell_type": "code",
   "execution_count": 18,
   "metadata": {},
   "outputs": [
    {
     "name": "stdout",
     "output_type": "stream",
     "text": [
      "<class 'pandas.core.frame.DataFrame'>\n",
      "RangeIndex: 11850 entries, 0 to 11849\n",
      "Data columns (total 22 columns):\n",
      "affected_organisms            11850 non-null object\n",
      "brand_names                   11850 non-null object\n",
      "chem_state                    11850 non-null object\n",
      "chem_class                    11850 non-null object\n",
      "drug_group                    11850 non-null object\n",
      "chem_name                     11850 non-null object\n",
      "drug_type                     11850 non-null object\n",
      "generic_names                 11850 non-null object\n",
      "chem_kingdom                  11850 non-null object\n",
      "molecular_framework           9453 non-null object\n",
      "avg_molecular_weight          9535 non-null float64\n",
      "num_clinical_trials           11850 non-null float64\n",
      "num_dosage_forms              11850 non-null float64\n",
      "num_drug_interactions         11850 non-null float64\n",
      "num_food_interactions         11850 non-null float64\n",
      "num_manufacturers_for_chem    11850 non-null float64\n",
      "num_packagers_for_chem        11850 non-null float64\n",
      "num_patents_on_chem           11850 non-null float64\n",
      "num_targets                   4334 non-null float64\n",
      "chem_sub_class                11850 non-null object\n",
      "chem_super_class              11850 non-null object\n",
      "page_url                      11850 non-null object\n",
      "dtypes: float64(9), object(13)\n",
      "memory usage: 2.0+ MB\n"
     ]
    }
   ],
   "source": [
    "db_df.info()"
   ]
  },
  {
   "cell_type": "code",
   "execution_count": null,
   "metadata": {},
   "outputs": [],
   "source": []
  }
 ],
 "metadata": {
  "kernelspec": {
   "display_name": "Python 3",
   "language": "python",
   "name": "python3"
  },
  "language_info": {
   "codemirror_mode": {
    "name": "ipython",
    "version": 3
   },
   "file_extension": ".py",
   "mimetype": "text/x-python",
   "name": "python",
   "nbconvert_exporter": "python",
   "pygments_lexer": "ipython3",
   "version": "3.6.4"
  }
 },
 "nbformat": 4,
 "nbformat_minor": 2
}
