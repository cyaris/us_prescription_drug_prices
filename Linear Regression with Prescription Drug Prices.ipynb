{
 "cells": [
  {
   "cell_type": "code",
   "execution_count": 1,
   "metadata": {},
   "outputs": [],
   "source": [
    "import warnings\n",
    "from copy import deepcopy\n",
    "import pandas as pd\n",
    "import numpy as np\n",
    "import matplotlib.pyplot as plt\n",
    "import seaborn as sns"
   ]
  },
  {
   "cell_type": "code",
   "execution_count": 2,
   "metadata": {},
   "outputs": [],
   "source": [
    "warnings.filterwarnings('ignore')"
   ]
  },
  {
   "cell_type": "code",
   "execution_count": 3,
   "metadata": {},
   "outputs": [],
   "source": [
    "pd.set_option('display.max_colwidth', 1000)"
   ]
  },
  {
   "cell_type": "code",
   "execution_count": 4,
   "metadata": {},
   "outputs": [],
   "source": [
    "pd.set_option('display.float_format', lambda x: '%.3f' % x)"
   ]
  },
  {
   "cell_type": "code",
   "execution_count": 5,
   "metadata": {},
   "outputs": [],
   "source": [
    "np.random.seed(42)"
   ]
  },
  {
   "cell_type": "code",
   "execution_count": 6,
   "metadata": {},
   "outputs": [],
   "source": [
    "df = pd.read_pickle('merged_df2.pkl')"
   ]
  },
  {
   "cell_type": "code",
   "execution_count": 7,
   "metadata": {},
   "outputs": [
    {
     "name": "stdout",
     "output_type": "stream",
     "text": [
      "<class 'pandas.core.frame.DataFrame'>\n",
      "Int64Index: 1664 entries, 0 to 1737\n",
      "Data columns (total 26 columns):\n",
      "drug_name                     1664 non-null object\n",
      "generic_name                  1664 non-null object\n",
      "grx_lowest_price              1664 non-null float64\n",
      "grx_pharmacy                  1664 non-null object\n",
      "grx_purchase                  1664 non-null object\n",
      "grx_lowest_price_adj          1664 non-null float64\n",
      "chem_name                     1664 non-null object\n",
      "affected_organisms            1664 non-null object\n",
      "chem_state                    1664 non-null object\n",
      "chem_class                    1664 non-null object\n",
      "drug_group                    1664 non-null object\n",
      "drug_type                     1664 non-null object\n",
      "chem_kingdom                  1664 non-null object\n",
      "molecular_framework           1605 non-null object\n",
      "avg_molecular_weight          1563 non-null float64\n",
      "num_clinical_trials           1664 non-null float64\n",
      "num_dosage_forms              1664 non-null float64\n",
      "num_drug_interactions         1664 non-null float64\n",
      "num_food_interactions         1664 non-null float64\n",
      "num_manufacturers_for_chem    1664 non-null float64\n",
      "num_packagers_for_chem        1664 non-null float64\n",
      "num_patents_on_chem           1664 non-null float64\n",
      "num_targets                   1660 non-null float64\n",
      "chem_sub_class                1664 non-null object\n",
      "chem_super_class              1664 non-null object\n",
      "nadac_cost_per_unit           1664 non-null float64\n",
      "dtypes: float64(12), object(14)\n",
      "memory usage: 351.0+ KB\n"
     ]
    }
   ],
   "source": [
    "df.info()"
   ]
  },
  {
   "cell_type": "code",
   "execution_count": 8,
   "metadata": {},
   "outputs": [
    {
     "data": {
      "text/html": [
       "<div>\n",
       "<style scoped>\n",
       "    .dataframe tbody tr th:only-of-type {\n",
       "        vertical-align: middle;\n",
       "    }\n",
       "\n",
       "    .dataframe tbody tr th {\n",
       "        vertical-align: top;\n",
       "    }\n",
       "\n",
       "    .dataframe thead th {\n",
       "        text-align: right;\n",
       "    }\n",
       "</style>\n",
       "<table border=\"1\" class=\"dataframe\">\n",
       "  <thead>\n",
       "    <tr style=\"text-align: right;\">\n",
       "      <th></th>\n",
       "      <th>grx_lowest_price</th>\n",
       "      <th>grx_lowest_price_adj</th>\n",
       "      <th>avg_molecular_weight</th>\n",
       "      <th>num_clinical_trials</th>\n",
       "      <th>num_dosage_forms</th>\n",
       "      <th>num_drug_interactions</th>\n",
       "      <th>num_food_interactions</th>\n",
       "      <th>num_manufacturers_for_chem</th>\n",
       "      <th>num_packagers_for_chem</th>\n",
       "      <th>num_patents_on_chem</th>\n",
       "      <th>num_targets</th>\n",
       "      <th>nadac_cost_per_unit</th>\n",
       "    </tr>\n",
       "  </thead>\n",
       "  <tbody>\n",
       "    <tr>\n",
       "      <th>count</th>\n",
       "      <td>1664.000</td>\n",
       "      <td>1664.000</td>\n",
       "      <td>1563.000</td>\n",
       "      <td>1664.000</td>\n",
       "      <td>1664.000</td>\n",
       "      <td>1664.000</td>\n",
       "      <td>1664.000</td>\n",
       "      <td>1664.000</td>\n",
       "      <td>1664.000</td>\n",
       "      <td>1664.000</td>\n",
       "      <td>1660.000</td>\n",
       "      <td>1664.000</td>\n",
       "    </tr>\n",
       "    <tr>\n",
       "      <th>mean</th>\n",
       "      <td>465.340</td>\n",
       "      <td>116.439</td>\n",
       "      <td>374.322</td>\n",
       "      <td>92.493</td>\n",
       "      <td>20.921</td>\n",
       "      <td>909.662</td>\n",
       "      <td>1.200</td>\n",
       "      <td>8.129</td>\n",
       "      <td>26.480</td>\n",
       "      <td>7.720</td>\n",
       "      <td>1.451</td>\n",
       "      <td>87.581</td>\n",
       "    </tr>\n",
       "    <tr>\n",
       "      <th>std</th>\n",
       "      <td>1921.493</td>\n",
       "      <td>660.313</td>\n",
       "      <td>255.318</td>\n",
       "      <td>147.040</td>\n",
       "      <td>28.019</td>\n",
       "      <td>551.098</td>\n",
       "      <td>1.363</td>\n",
       "      <td>11.586</td>\n",
       "      <td>26.965</td>\n",
       "      <td>12.126</td>\n",
       "      <td>3.558</td>\n",
       "      <td>688.608</td>\n",
       "    </tr>\n",
       "    <tr>\n",
       "      <th>min</th>\n",
       "      <td>0.000</td>\n",
       "      <td>0.000</td>\n",
       "      <td>18.002</td>\n",
       "      <td>0.000</td>\n",
       "      <td>0.000</td>\n",
       "      <td>0.000</td>\n",
       "      <td>0.000</td>\n",
       "      <td>0.000</td>\n",
       "      <td>0.000</td>\n",
       "      <td>0.000</td>\n",
       "      <td>0.000</td>\n",
       "      <td>0.001</td>\n",
       "    </tr>\n",
       "    <tr>\n",
       "      <th>25%</th>\n",
       "      <td>16.613</td>\n",
       "      <td>0.498</td>\n",
       "      <td>259.837</td>\n",
       "      <td>14.000</td>\n",
       "      <td>6.000</td>\n",
       "      <td>454.250</td>\n",
       "      <td>0.000</td>\n",
       "      <td>0.000</td>\n",
       "      <td>5.000</td>\n",
       "      <td>0.000</td>\n",
       "      <td>0.000</td>\n",
       "      <td>0.975</td>\n",
       "    </tr>\n",
       "    <tr>\n",
       "      <th>50%</th>\n",
       "      <td>44.870</td>\n",
       "      <td>3.172</td>\n",
       "      <td>334.165</td>\n",
       "      <td>46.000</td>\n",
       "      <td>13.000</td>\n",
       "      <td>905.000</td>\n",
       "      <td>1.000</td>\n",
       "      <td>2.000</td>\n",
       "      <td>17.500</td>\n",
       "      <td>4.000</td>\n",
       "      <td>0.000</td>\n",
       "      <td>5.328</td>\n",
       "    </tr>\n",
       "    <tr>\n",
       "      <th>75%</th>\n",
       "      <td>257.685</td>\n",
       "      <td>28.292</td>\n",
       "      <td>418.972</td>\n",
       "      <td>111.250</td>\n",
       "      <td>26.000</td>\n",
       "      <td>1314.500</td>\n",
       "      <td>2.000</td>\n",
       "      <td>13.000</td>\n",
       "      <td>43.000</td>\n",
       "      <td>9.000</td>\n",
       "      <td>1.000</td>\n",
       "      <td>15.830</td>\n",
       "    </tr>\n",
       "    <tr>\n",
       "      <th>max</th>\n",
       "      <td>31215.000</td>\n",
       "      <td>20386.000</td>\n",
       "      <td>4113.641</td>\n",
       "      <td>1635.000</td>\n",
       "      <td>431.000</td>\n",
       "      <td>2388.000</td>\n",
       "      <td>6.000</td>\n",
       "      <td>91.000</td>\n",
       "      <td>156.000</td>\n",
       "      <td>82.000</td>\n",
       "      <td>33.000</td>\n",
       "      <td>19885.465</td>\n",
       "    </tr>\n",
       "  </tbody>\n",
       "</table>\n",
       "</div>"
      ],
      "text/plain": [
       "       grx_lowest_price  grx_lowest_price_adj  avg_molecular_weight  \\\n",
       "count          1664.000              1664.000              1563.000   \n",
       "mean            465.340               116.439               374.322   \n",
       "std            1921.493               660.313               255.318   \n",
       "min               0.000                 0.000                18.002   \n",
       "25%              16.613                 0.498               259.837   \n",
       "50%              44.870                 3.172               334.165   \n",
       "75%             257.685                28.292               418.972   \n",
       "max           31215.000             20386.000              4113.641   \n",
       "\n",
       "       num_clinical_trials  num_dosage_forms  num_drug_interactions  \\\n",
       "count             1664.000          1664.000               1664.000   \n",
       "mean                92.493            20.921                909.662   \n",
       "std                147.040            28.019                551.098   \n",
       "min                  0.000             0.000                  0.000   \n",
       "25%                 14.000             6.000                454.250   \n",
       "50%                 46.000            13.000                905.000   \n",
       "75%                111.250            26.000               1314.500   \n",
       "max               1635.000           431.000               2388.000   \n",
       "\n",
       "       num_food_interactions  num_manufacturers_for_chem  \\\n",
       "count               1664.000                    1664.000   \n",
       "mean                   1.200                       8.129   \n",
       "std                    1.363                      11.586   \n",
       "min                    0.000                       0.000   \n",
       "25%                    0.000                       0.000   \n",
       "50%                    1.000                       2.000   \n",
       "75%                    2.000                      13.000   \n",
       "max                    6.000                      91.000   \n",
       "\n",
       "       num_packagers_for_chem  num_patents_on_chem  num_targets  \\\n",
       "count                1664.000             1664.000     1660.000   \n",
       "mean                   26.480                7.720        1.451   \n",
       "std                    26.965               12.126        3.558   \n",
       "min                     0.000                0.000        0.000   \n",
       "25%                     5.000                0.000        0.000   \n",
       "50%                    17.500                4.000        0.000   \n",
       "75%                    43.000                9.000        1.000   \n",
       "max                   156.000               82.000       33.000   \n",
       "\n",
       "       nadac_cost_per_unit  \n",
       "count             1664.000  \n",
       "mean                87.581  \n",
       "std                688.608  \n",
       "min                  0.001  \n",
       "25%                  0.975  \n",
       "50%                  5.328  \n",
       "75%                 15.830  \n",
       "max              19885.465  "
      ]
     },
     "execution_count": 8,
     "metadata": {},
     "output_type": "execute_result"
    }
   ],
   "source": [
    "df.describe()"
   ]
  },
  {
   "cell_type": "code",
   "execution_count": 9,
   "metadata": {},
   "outputs": [
    {
     "data": {
      "text/plain": [
       "Index(['drug_name', 'generic_name', 'grx_lowest_price', 'grx_pharmacy',\n",
       "       'grx_purchase', 'grx_lowest_price_adj', 'chem_name',\n",
       "       'affected_organisms', 'chem_state', 'chem_class', 'drug_group',\n",
       "       'drug_type', 'chem_kingdom', 'molecular_framework',\n",
       "       'avg_molecular_weight', 'num_clinical_trials', 'num_dosage_forms',\n",
       "       'num_drug_interactions', 'num_food_interactions',\n",
       "       'num_manufacturers_for_chem', 'num_packagers_for_chem',\n",
       "       'num_patents_on_chem', 'num_targets', 'chem_sub_class',\n",
       "       'chem_super_class', 'nadac_cost_per_unit'],\n",
       "      dtype='object')"
      ]
     },
     "execution_count": 9,
     "metadata": {},
     "output_type": "execute_result"
    }
   ],
   "source": [
    "df.columns"
   ]
  },
  {
   "cell_type": "code",
   "execution_count": 10,
   "metadata": {},
   "outputs": [],
   "source": [
    "# removed null values from the dataframe to enable linear regression with sklearn.\n",
    "df = deepcopy(df[((df['num_targets'].isnull() == False) \\\n",
    "                  & (df['avg_molecular_weight'].isnull() == False) \\\n",
    "                  & (df['molecular_framework'] != 'Not Available') \\\n",
    "                  & (df['chem_kingdom'] != 'Not Available') \\\n",
    "                  & (df['chem_state'] != 'Not Available'))])"
   ]
  },
  {
   "cell_type": "code",
   "execution_count": 11,
   "metadata": {},
   "outputs": [
    {
     "data": {
      "text/plain": [
       "1487"
      ]
     },
     "execution_count": 11,
     "metadata": {},
     "output_type": "execute_result"
    }
   ],
   "source": [
    "# checked for number of drugs remaining in dataframe after removing null values.\n",
    "len(df)"
   ]
  },
  {
   "cell_type": "code",
   "execution_count": 12,
   "metadata": {},
   "outputs": [],
   "source": [
    "# removed all rows where the nadac_cost_per_unit was lower than grx_lowest_price.\n",
    "df = deepcopy(df[df['nadac_cost_per_unit'] < df['grx_lowest_price']])"
   ]
  },
  {
   "cell_type": "code",
   "execution_count": 13,
   "metadata": {},
   "outputs": [
    {
     "data": {
      "text/plain": [
       "1383"
      ]
     },
     "execution_count": 13,
     "metadata": {},
     "output_type": "execute_result"
    }
   ],
   "source": [
    "# checked for number of drugs remaining in dataframe\n",
    "# after removing all rows where the nadac_cost_per_unit was lower than grx_lowest_price.\n",
    "len(df)"
   ]
  },
  {
   "cell_type": "code",
   "execution_count": 14,
   "metadata": {},
   "outputs": [],
   "source": [
    "# removed all drugs from the dataframe\n",
    "# that did not come in the format of tablet, capsule, ampule, caplet or pill.\n",
    "df = deepcopy(df[([('tablet' in s) or ('capsule' in s) or ('ampule' in s) or ('caplet' in s) or ('pill' in s) for s in df['grx_purchase'].str.lower()])])"
   ]
  },
  {
   "cell_type": "code",
   "execution_count": 15,
   "metadata": {},
   "outputs": [
    {
     "data": {
      "text/plain": [
       "1027"
      ]
     },
     "execution_count": 15,
     "metadata": {},
     "output_type": "execute_result"
    }
   ],
   "source": [
    "# checked for number of drugs remaining in dataframe\n",
    "# after removing all drugs that did not come in the format of tablet, capsule, ampule, caplet or pill.\n",
    "len(df)"
   ]
  },
  {
   "cell_type": "code",
   "execution_count": 16,
   "metadata": {},
   "outputs": [
    {
     "data": {
      "text/html": [
       "<div>\n",
       "<style scoped>\n",
       "    .dataframe tbody tr th:only-of-type {\n",
       "        vertical-align: middle;\n",
       "    }\n",
       "\n",
       "    .dataframe tbody tr th {\n",
       "        vertical-align: top;\n",
       "    }\n",
       "\n",
       "    .dataframe thead th {\n",
       "        text-align: right;\n",
       "    }\n",
       "</style>\n",
       "<table border=\"1\" class=\"dataframe\">\n",
       "  <thead>\n",
       "    <tr style=\"text-align: right;\">\n",
       "      <th></th>\n",
       "      <th>drug_name</th>\n",
       "      <th>generic_name</th>\n",
       "      <th>grx_lowest_price</th>\n",
       "      <th>grx_pharmacy</th>\n",
       "      <th>grx_purchase</th>\n",
       "      <th>grx_lowest_price_adj</th>\n",
       "      <th>chem_name</th>\n",
       "      <th>affected_organisms</th>\n",
       "      <th>chem_state</th>\n",
       "      <th>chem_class</th>\n",
       "      <th>...</th>\n",
       "      <th>num_dosage_forms</th>\n",
       "      <th>num_drug_interactions</th>\n",
       "      <th>num_food_interactions</th>\n",
       "      <th>num_manufacturers_for_chem</th>\n",
       "      <th>num_packagers_for_chem</th>\n",
       "      <th>num_patents_on_chem</th>\n",
       "      <th>num_targets</th>\n",
       "      <th>chem_sub_class</th>\n",
       "      <th>chem_super_class</th>\n",
       "      <th>nadac_cost_per_unit</th>\n",
       "    </tr>\n",
       "  </thead>\n",
       "  <tbody>\n",
       "    <tr>\n",
       "      <th>1</th>\n",
       "      <td>Sovaldi</td>\n",
       "      <td>Sofosbuvir</td>\n",
       "      <td>27813.000</td>\n",
       "      <td>Costco</td>\n",
       "      <td>28 tablets of Sovaldi 400mg</td>\n",
       "      <td>993.321</td>\n",
       "      <td>Sofosbuvir</td>\n",
       "      <td>Hepatitis C Virus</td>\n",
       "      <td>Solid</td>\n",
       "      <td>Pyrimidine nucleosides</td>\n",
       "      <td>...</td>\n",
       "      <td>5.000</td>\n",
       "      <td>346.000</td>\n",
       "      <td>1.000</td>\n",
       "      <td>0.000</td>\n",
       "      <td>0.000</td>\n",
       "      <td>23.000</td>\n",
       "      <td>0.000</td>\n",
       "      <td>Pyrimidine 2\\'-deoxyribonucleosides</td>\n",
       "      <td>Nucleosides, nucleotides, and analogues</td>\n",
       "      <td>975.300</td>\n",
       "    </tr>\n",
       "    <tr>\n",
       "      <th>2</th>\n",
       "      <td>Sofosbuvir</td>\n",
       "      <td>Sovaldi</td>\n",
       "      <td>27728.000</td>\n",
       "      <td>Hy Vee</td>\n",
       "      <td>28 tablets of Sovaldi 400mg</td>\n",
       "      <td>990.286</td>\n",
       "      <td>Sofosbuvir</td>\n",
       "      <td>Hepatitis C Virus</td>\n",
       "      <td>Solid</td>\n",
       "      <td>Pyrimidine nucleosides</td>\n",
       "      <td>...</td>\n",
       "      <td>5.000</td>\n",
       "      <td>346.000</td>\n",
       "      <td>1.000</td>\n",
       "      <td>0.000</td>\n",
       "      <td>0.000</td>\n",
       "      <td>23.000</td>\n",
       "      <td>0.000</td>\n",
       "      <td>Pyrimidine 2\\'-deoxyribonucleosides</td>\n",
       "      <td>Nucleosides, nucleotides, and analogues</td>\n",
       "      <td>975.300</td>\n",
       "    </tr>\n",
       "    <tr>\n",
       "      <th>6</th>\n",
       "      <td>Daclatasvir</td>\n",
       "      <td>Daklinza</td>\n",
       "      <td>22351.000</td>\n",
       "      <td>Costco</td>\n",
       "      <td>30 tablets of Daklinza 30mg</td>\n",
       "      <td>745.033</td>\n",
       "      <td>Daclatasvir</td>\n",
       "      <td>Hepatitis C Virus</td>\n",
       "      <td>Solid</td>\n",
       "      <td>Carboxylic acids and derivatives</td>\n",
       "      <td>...</td>\n",
       "      <td>5.000</td>\n",
       "      <td>374.000</td>\n",
       "      <td>0.000</td>\n",
       "      <td>0.000</td>\n",
       "      <td>0.000</td>\n",
       "      <td>5.000</td>\n",
       "      <td>0.000</td>\n",
       "      <td>Amino acids, peptides, and analogues</td>\n",
       "      <td>Organic acids and derivatives</td>\n",
       "      <td>732.038</td>\n",
       "    </tr>\n",
       "    <tr>\n",
       "      <th>7</th>\n",
       "      <td>Daklinza</td>\n",
       "      <td>Daclatasvir</td>\n",
       "      <td>22351.000</td>\n",
       "      <td>Hy Vee</td>\n",
       "      <td>30 tablets of Daklinza 30mg</td>\n",
       "      <td>745.033</td>\n",
       "      <td>Daclatasvir</td>\n",
       "      <td>Hepatitis C Virus</td>\n",
       "      <td>Solid</td>\n",
       "      <td>Carboxylic acids and derivatives</td>\n",
       "      <td>...</td>\n",
       "      <td>5.000</td>\n",
       "      <td>374.000</td>\n",
       "      <td>0.000</td>\n",
       "      <td>0.000</td>\n",
       "      <td>0.000</td>\n",
       "      <td>5.000</td>\n",
       "      <td>0.000</td>\n",
       "      <td>Amino acids, peptides, and analogues</td>\n",
       "      <td>Organic acids and derivatives</td>\n",
       "      <td>732.038</td>\n",
       "    </tr>\n",
       "    <tr>\n",
       "      <th>9</th>\n",
       "      <td>Everolimus</td>\n",
       "      <td>Afinitor</td>\n",
       "      <td>15482.000</td>\n",
       "      <td>Costco</td>\n",
       "      <td>30 tablets of Afinitor 10mg</td>\n",
       "      <td>516.067</td>\n",
       "      <td>Everolimus</td>\n",
       "      <td>Humans and other mammals</td>\n",
       "      <td>Solid</td>\n",
       "      <td>Macrolide lactams</td>\n",
       "      <td>...</td>\n",
       "      <td>21.000</td>\n",
       "      <td>840.000</td>\n",
       "      <td>0.000</td>\n",
       "      <td>0.000</td>\n",
       "      <td>3.000</td>\n",
       "      <td>14.000</td>\n",
       "      <td>0.000</td>\n",
       "      <td>Not Available</td>\n",
       "      <td>Phenylpropanoids and polyketides</td>\n",
       "      <td>462.039</td>\n",
       "    </tr>\n",
       "    <tr>\n",
       "      <th>11</th>\n",
       "      <td>Sutent</td>\n",
       "      <td>Sunitinib</td>\n",
       "      <td>14570.000</td>\n",
       "      <td>Costco</td>\n",
       "      <td>28 capsules of Sutent 37.5mg</td>\n",
       "      <td>520.357</td>\n",
       "      <td>Sunitinib</td>\n",
       "      <td>Humans and other mammals</td>\n",
       "      <td>Solid</td>\n",
       "      <td>Indoles and derivatives</td>\n",
       "      <td>...</td>\n",
       "      <td>8.000</td>\n",
       "      <td>799.000</td>\n",
       "      <td>0.000</td>\n",
       "      <td>0.000</td>\n",
       "      <td>1.000</td>\n",
       "      <td>5.000</td>\n",
       "      <td>0.000</td>\n",
       "      <td>Indolines</td>\n",
       "      <td>Organoheterocyclic compounds</td>\n",
       "      <td>254.185</td>\n",
       "    </tr>\n",
       "    <tr>\n",
       "      <th>12</th>\n",
       "      <td>Sunitinib</td>\n",
       "      <td>Sutent</td>\n",
       "      <td>14526.000</td>\n",
       "      <td>Hy Vee</td>\n",
       "      <td>28 capsules of Sutent 37.5mg</td>\n",
       "      <td>518.786</td>\n",
       "      <td>Sunitinib</td>\n",
       "      <td>Humans and other mammals</td>\n",
       "      <td>Solid</td>\n",
       "      <td>Indoles and derivatives</td>\n",
       "      <td>...</td>\n",
       "      <td>8.000</td>\n",
       "      <td>799.000</td>\n",
       "      <td>0.000</td>\n",
       "      <td>0.000</td>\n",
       "      <td>1.000</td>\n",
       "      <td>5.000</td>\n",
       "      <td>0.000</td>\n",
       "      <td>Indolines</td>\n",
       "      <td>Organoheterocyclic compounds</td>\n",
       "      <td>254.185</td>\n",
       "    </tr>\n",
       "    <tr>\n",
       "      <th>41</th>\n",
       "      <td>Daraprim</td>\n",
       "      <td>Pyrimethamine</td>\n",
       "      <td>4477.000</td>\n",
       "      <td>Costco</td>\n",
       "      <td>6 tablets of Daraprim 25mg</td>\n",
       "      <td>746.167</td>\n",
       "      <td>Pyrimethamine</td>\n",
       "      <td>Plasmodium</td>\n",
       "      <td>Solid</td>\n",
       "      <td>Diazines</td>\n",
       "      <td>...</td>\n",
       "      <td>4.000</td>\n",
       "      <td>152.000</td>\n",
       "      <td>2.000</td>\n",
       "      <td>1.000</td>\n",
       "      <td>5.000</td>\n",
       "      <td>0.000</td>\n",
       "      <td>0.000</td>\n",
       "      <td>Pyrimidines and pyrimidine derivatives</td>\n",
       "      <td>Organoheterocyclic compounds</td>\n",
       "      <td>13.031</td>\n",
       "    </tr>\n",
       "    <tr>\n",
       "      <th>42</th>\n",
       "      <td>Pyrimethamine</td>\n",
       "      <td>Daraprim</td>\n",
       "      <td>4477.000</td>\n",
       "      <td>Hy Vee</td>\n",
       "      <td>6 tablets of Daraprim 25mg</td>\n",
       "      <td>746.167</td>\n",
       "      <td>Pyrimethamine</td>\n",
       "      <td>Plasmodium</td>\n",
       "      <td>Solid</td>\n",
       "      <td>Diazines</td>\n",
       "      <td>...</td>\n",
       "      <td>4.000</td>\n",
       "      <td>152.000</td>\n",
       "      <td>2.000</td>\n",
       "      <td>1.000</td>\n",
       "      <td>5.000</td>\n",
       "      <td>0.000</td>\n",
       "      <td>0.000</td>\n",
       "      <td>Pyrimidines and pyrimidine derivatives</td>\n",
       "      <td>Organoheterocyclic compounds</td>\n",
       "      <td>13.031</td>\n",
       "    </tr>\n",
       "  </tbody>\n",
       "</table>\n",
       "<p>9 rows × 26 columns</p>\n",
       "</div>"
      ],
      "text/plain": [
       "        drug_name   generic_name  grx_lowest_price grx_pharmacy  \\\n",
       "1         Sovaldi     Sofosbuvir         27813.000       Costco   \n",
       "2      Sofosbuvir        Sovaldi         27728.000       Hy Vee   \n",
       "6     Daclatasvir       Daklinza         22351.000       Costco   \n",
       "7        Daklinza    Daclatasvir         22351.000       Hy Vee   \n",
       "9      Everolimus       Afinitor         15482.000       Costco   \n",
       "11         Sutent      Sunitinib         14570.000       Costco   \n",
       "12      Sunitinib         Sutent         14526.000       Hy Vee   \n",
       "41       Daraprim  Pyrimethamine          4477.000       Costco   \n",
       "42  Pyrimethamine       Daraprim          4477.000       Hy Vee   \n",
       "\n",
       "                    grx_purchase  grx_lowest_price_adj      chem_name  \\\n",
       "1    28 tablets of Sovaldi 400mg               993.321     Sofosbuvir   \n",
       "2    28 tablets of Sovaldi 400mg               990.286     Sofosbuvir   \n",
       "6    30 tablets of Daklinza 30mg               745.033    Daclatasvir   \n",
       "7    30 tablets of Daklinza 30mg               745.033    Daclatasvir   \n",
       "9    30 tablets of Afinitor 10mg               516.067     Everolimus   \n",
       "11  28 capsules of Sutent 37.5mg               520.357      Sunitinib   \n",
       "12  28 capsules of Sutent 37.5mg               518.786      Sunitinib   \n",
       "41    6 tablets of Daraprim 25mg               746.167  Pyrimethamine   \n",
       "42    6 tablets of Daraprim 25mg               746.167  Pyrimethamine   \n",
       "\n",
       "          affected_organisms chem_state                        chem_class  \\\n",
       "1          Hepatitis C Virus      Solid            Pyrimidine nucleosides   \n",
       "2          Hepatitis C Virus      Solid            Pyrimidine nucleosides   \n",
       "6          Hepatitis C Virus      Solid  Carboxylic acids and derivatives   \n",
       "7          Hepatitis C Virus      Solid  Carboxylic acids and derivatives   \n",
       "9   Humans and other mammals      Solid                 Macrolide lactams   \n",
       "11  Humans and other mammals      Solid           Indoles and derivatives   \n",
       "12  Humans and other mammals      Solid           Indoles and derivatives   \n",
       "41                Plasmodium      Solid                          Diazines   \n",
       "42                Plasmodium      Solid                          Diazines   \n",
       "\n",
       "           ...          num_dosage_forms num_drug_interactions  \\\n",
       "1          ...                     5.000               346.000   \n",
       "2          ...                     5.000               346.000   \n",
       "6          ...                     5.000               374.000   \n",
       "7          ...                     5.000               374.000   \n",
       "9          ...                    21.000               840.000   \n",
       "11         ...                     8.000               799.000   \n",
       "12         ...                     8.000               799.000   \n",
       "41         ...                     4.000               152.000   \n",
       "42         ...                     4.000               152.000   \n",
       "\n",
       "   num_food_interactions num_manufacturers_for_chem  num_packagers_for_chem  \\\n",
       "1                  1.000                      0.000                   0.000   \n",
       "2                  1.000                      0.000                   0.000   \n",
       "6                  0.000                      0.000                   0.000   \n",
       "7                  0.000                      0.000                   0.000   \n",
       "9                  0.000                      0.000                   3.000   \n",
       "11                 0.000                      0.000                   1.000   \n",
       "12                 0.000                      0.000                   1.000   \n",
       "41                 2.000                      1.000                   5.000   \n",
       "42                 2.000                      1.000                   5.000   \n",
       "\n",
       "    num_patents_on_chem  num_targets                          chem_sub_class  \\\n",
       "1                23.000        0.000     Pyrimidine 2\\'-deoxyribonucleosides   \n",
       "2                23.000        0.000     Pyrimidine 2\\'-deoxyribonucleosides   \n",
       "6                 5.000        0.000    Amino acids, peptides, and analogues   \n",
       "7                 5.000        0.000    Amino acids, peptides, and analogues   \n",
       "9                14.000        0.000                           Not Available   \n",
       "11                5.000        0.000                               Indolines   \n",
       "12                5.000        0.000                               Indolines   \n",
       "41                0.000        0.000  Pyrimidines and pyrimidine derivatives   \n",
       "42                0.000        0.000  Pyrimidines and pyrimidine derivatives   \n",
       "\n",
       "                           chem_super_class  nadac_cost_per_unit  \n",
       "1   Nucleosides, nucleotides, and analogues              975.300  \n",
       "2   Nucleosides, nucleotides, and analogues              975.300  \n",
       "6             Organic acids and derivatives              732.038  \n",
       "7             Organic acids and derivatives              732.038  \n",
       "9          Phenylpropanoids and polyketides              462.039  \n",
       "11             Organoheterocyclic compounds              254.185  \n",
       "12             Organoheterocyclic compounds              254.185  \n",
       "41             Organoheterocyclic compounds               13.031  \n",
       "42             Organoheterocyclic compounds               13.031  \n",
       "\n",
       "[9 rows x 26 columns]"
      ]
     },
     "execution_count": 16,
     "metadata": {},
     "output_type": "execute_result"
    }
   ],
   "source": [
    "df[df['grx_lowest_price_adj'] >= 500]"
   ]
  },
  {
   "cell_type": "code",
   "execution_count": 17,
   "metadata": {},
   "outputs": [],
   "source": [
    "# created dataframes for dummy variables for chem_kingdom and chem_state.\n",
    "# joined dummy variable dataframes with main dataframe.\n",
    "chem_kingdom = pd.get_dummies(df['chem_kingdom'])\n",
    "chem_state = pd.get_dummies(df['chem_state'])\n",
    "df = deepcopy(pd.concat([df, chem_state, chem_kingdom], axis = 1, join = 'outer')).reset_index()"
   ]
  },
  {
   "cell_type": "code",
   "execution_count": 18,
   "metadata": {},
   "outputs": [
    {
     "data": {
      "text/html": [
       "<div>\n",
       "<style scoped>\n",
       "    .dataframe tbody tr th:only-of-type {\n",
       "        vertical-align: middle;\n",
       "    }\n",
       "\n",
       "    .dataframe tbody tr th {\n",
       "        vertical-align: top;\n",
       "    }\n",
       "\n",
       "    .dataframe thead th {\n",
       "        text-align: right;\n",
       "    }\n",
       "</style>\n",
       "<table border=\"1\" class=\"dataframe\">\n",
       "  <thead>\n",
       "    <tr style=\"text-align: right;\">\n",
       "      <th></th>\n",
       "      <th>index</th>\n",
       "      <th>grx_lowest_price</th>\n",
       "      <th>grx_lowest_price_adj</th>\n",
       "      <th>avg_molecular_weight</th>\n",
       "      <th>num_clinical_trials</th>\n",
       "      <th>num_dosage_forms</th>\n",
       "      <th>num_drug_interactions</th>\n",
       "      <th>num_food_interactions</th>\n",
       "      <th>num_manufacturers_for_chem</th>\n",
       "      <th>num_packagers_for_chem</th>\n",
       "      <th>num_patents_on_chem</th>\n",
       "      <th>num_targets</th>\n",
       "      <th>nadac_cost_per_unit</th>\n",
       "      <th>Liquid</th>\n",
       "      <th>Solid</th>\n",
       "      <th>Organic compounds</th>\n",
       "    </tr>\n",
       "  </thead>\n",
       "  <tbody>\n",
       "    <tr>\n",
       "      <th>count</th>\n",
       "      <td>1027.000</td>\n",
       "      <td>1027.000</td>\n",
       "      <td>1027.000</td>\n",
       "      <td>1027.000</td>\n",
       "      <td>1027.000</td>\n",
       "      <td>1027.000</td>\n",
       "      <td>1027.000</td>\n",
       "      <td>1027.000</td>\n",
       "      <td>1027.000</td>\n",
       "      <td>1027.000</td>\n",
       "      <td>1027.000</td>\n",
       "      <td>1027.000</td>\n",
       "      <td>1027.000</td>\n",
       "      <td>1027.000</td>\n",
       "      <td>1027.000</td>\n",
       "      <td>1027.000</td>\n",
       "    </tr>\n",
       "    <tr>\n",
       "      <th>mean</th>\n",
       "      <td>927.140</td>\n",
       "      <td>455.781</td>\n",
       "      <td>15.550</td>\n",
       "      <td>362.132</td>\n",
       "      <td>90.950</td>\n",
       "      <td>18.014</td>\n",
       "      <td>1014.587</td>\n",
       "      <td>1.564</td>\n",
       "      <td>7.782</td>\n",
       "      <td>28.192</td>\n",
       "      <td>6.880</td>\n",
       "      <td>1.489</td>\n",
       "      <td>16.566</td>\n",
       "      <td>0.020</td>\n",
       "      <td>0.980</td>\n",
       "      <td>1.000</td>\n",
       "    </tr>\n",
       "    <tr>\n",
       "      <th>std</th>\n",
       "      <td>495.890</td>\n",
       "      <td>2200.487</td>\n",
       "      <td>77.412</td>\n",
       "      <td>178.481</td>\n",
       "      <td>136.967</td>\n",
       "      <td>19.573</td>\n",
       "      <td>521.039</td>\n",
       "      <td>1.394</td>\n",
       "      <td>10.180</td>\n",
       "      <td>25.725</td>\n",
       "      <td>11.214</td>\n",
       "      <td>3.758</td>\n",
       "      <td>66.249</td>\n",
       "      <td>0.142</td>\n",
       "      <td>0.142</td>\n",
       "      <td>0.000</td>\n",
       "    </tr>\n",
       "    <tr>\n",
       "      <th>min</th>\n",
       "      <td>0.000</td>\n",
       "      <td>2.000</td>\n",
       "      <td>0.067</td>\n",
       "      <td>76.055</td>\n",
       "      <td>0.000</td>\n",
       "      <td>1.000</td>\n",
       "      <td>0.000</td>\n",
       "      <td>0.000</td>\n",
       "      <td>0.000</td>\n",
       "      <td>0.000</td>\n",
       "      <td>0.000</td>\n",
       "      <td>0.000</td>\n",
       "      <td>0.016</td>\n",
       "      <td>0.000</td>\n",
       "      <td>0.000</td>\n",
       "      <td>1.000</td>\n",
       "    </tr>\n",
       "    <tr>\n",
       "      <th>25%</th>\n",
       "      <td>505.500</td>\n",
       "      <td>15.985</td>\n",
       "      <td>0.375</td>\n",
       "      <td>259.343</td>\n",
       "      <td>17.000</td>\n",
       "      <td>6.000</td>\n",
       "      <td>651.500</td>\n",
       "      <td>0.000</td>\n",
       "      <td>0.000</td>\n",
       "      <td>7.000</td>\n",
       "      <td>0.000</td>\n",
       "      <td>0.000</td>\n",
       "      <td>0.649</td>\n",
       "      <td>0.000</td>\n",
       "      <td>1.000</td>\n",
       "      <td>1.000</td>\n",
       "    </tr>\n",
       "    <tr>\n",
       "      <th>50%</th>\n",
       "      <td>977.000</td>\n",
       "      <td>37.830</td>\n",
       "      <td>0.934</td>\n",
       "      <td>326.429</td>\n",
       "      <td>47.000</td>\n",
       "      <td>12.000</td>\n",
       "      <td>986.000</td>\n",
       "      <td>1.000</td>\n",
       "      <td>3.000</td>\n",
       "      <td>22.000</td>\n",
       "      <td>4.000</td>\n",
       "      <td>0.000</td>\n",
       "      <td>3.144</td>\n",
       "      <td>0.000</td>\n",
       "      <td>1.000</td>\n",
       "      <td>1.000</td>\n",
       "    </tr>\n",
       "    <tr>\n",
       "      <th>75%</th>\n",
       "      <td>1352.000</td>\n",
       "      <td>184.375</td>\n",
       "      <td>4.885</td>\n",
       "      <td>414.518</td>\n",
       "      <td>111.000</td>\n",
       "      <td>22.000</td>\n",
       "      <td>1387.000</td>\n",
       "      <td>2.000</td>\n",
       "      <td>12.000</td>\n",
       "      <td>45.000</td>\n",
       "      <td>8.000</td>\n",
       "      <td>1.000</td>\n",
       "      <td>10.409</td>\n",
       "      <td>0.000</td>\n",
       "      <td>1.000</td>\n",
       "      <td>1.000</td>\n",
       "    </tr>\n",
       "    <tr>\n",
       "      <th>max</th>\n",
       "      <td>1737.000</td>\n",
       "      <td>31215.000</td>\n",
       "      <td>993.321</td>\n",
       "      <td>1681.890</td>\n",
       "      <td>1635.000</td>\n",
       "      <td>169.000</td>\n",
       "      <td>2388.000</td>\n",
       "      <td>6.000</td>\n",
       "      <td>51.000</td>\n",
       "      <td>113.000</td>\n",
       "      <td>82.000</td>\n",
       "      <td>33.000</td>\n",
       "      <td>975.300</td>\n",
       "      <td>1.000</td>\n",
       "      <td>1.000</td>\n",
       "      <td>1.000</td>\n",
       "    </tr>\n",
       "  </tbody>\n",
       "</table>\n",
       "</div>"
      ],
      "text/plain": [
       "         index  grx_lowest_price  grx_lowest_price_adj  avg_molecular_weight  \\\n",
       "count 1027.000          1027.000              1027.000              1027.000   \n",
       "mean   927.140           455.781                15.550               362.132   \n",
       "std    495.890          2200.487                77.412               178.481   \n",
       "min      0.000             2.000                 0.067                76.055   \n",
       "25%    505.500            15.985                 0.375               259.343   \n",
       "50%    977.000            37.830                 0.934               326.429   \n",
       "75%   1352.000           184.375                 4.885               414.518   \n",
       "max   1737.000         31215.000               993.321              1681.890   \n",
       "\n",
       "       num_clinical_trials  num_dosage_forms  num_drug_interactions  \\\n",
       "count             1027.000          1027.000               1027.000   \n",
       "mean                90.950            18.014               1014.587   \n",
       "std                136.967            19.573                521.039   \n",
       "min                  0.000             1.000                  0.000   \n",
       "25%                 17.000             6.000                651.500   \n",
       "50%                 47.000            12.000                986.000   \n",
       "75%                111.000            22.000               1387.000   \n",
       "max               1635.000           169.000               2388.000   \n",
       "\n",
       "       num_food_interactions  num_manufacturers_for_chem  \\\n",
       "count               1027.000                    1027.000   \n",
       "mean                   1.564                       7.782   \n",
       "std                    1.394                      10.180   \n",
       "min                    0.000                       0.000   \n",
       "25%                    0.000                       0.000   \n",
       "50%                    1.000                       3.000   \n",
       "75%                    2.000                      12.000   \n",
       "max                    6.000                      51.000   \n",
       "\n",
       "       num_packagers_for_chem  num_patents_on_chem  num_targets  \\\n",
       "count                1027.000             1027.000     1027.000   \n",
       "mean                   28.192                6.880        1.489   \n",
       "std                    25.725               11.214        3.758   \n",
       "min                     0.000                0.000        0.000   \n",
       "25%                     7.000                0.000        0.000   \n",
       "50%                    22.000                4.000        0.000   \n",
       "75%                    45.000                8.000        1.000   \n",
       "max                   113.000               82.000       33.000   \n",
       "\n",
       "       nadac_cost_per_unit   Liquid    Solid  Organic compounds  \n",
       "count             1027.000 1027.000 1027.000           1027.000  \n",
       "mean                16.566    0.020    0.980              1.000  \n",
       "std                 66.249    0.142    0.142              0.000  \n",
       "min                  0.016    0.000    0.000              1.000  \n",
       "25%                  0.649    0.000    1.000              1.000  \n",
       "50%                  3.144    0.000    1.000              1.000  \n",
       "75%                 10.409    0.000    1.000              1.000  \n",
       "max                975.300    1.000    1.000              1.000  "
      ]
     },
     "execution_count": 18,
     "metadata": {},
     "output_type": "execute_result"
    }
   ],
   "source": [
    "df.describe()"
   ]
  },
  {
   "cell_type": "code",
   "execution_count": 19,
   "metadata": {},
   "outputs": [],
   "source": [
    "# created new column for whether affected_organisms was 'Humans and other mammals' or not.\n",
    "for i, row in enumerate(df['affected_organisms']):\n",
    "    if df.loc[i, 'affected_organisms'] == 'Humans and other mammals':\n",
    "        df.loc[i, 'affected_humans_other_mammals'] = 1\n",
    "    else:\n",
    "        df.loc[i, 'affected_humans_other_mammals'] = 0"
   ]
  },
  {
   "cell_type": "code",
   "execution_count": 20,
   "metadata": {},
   "outputs": [],
   "source": [
    "# created new column for whether the drug was ever an investigational drug.\n",
    "for i, row in enumerate(df['drug_group']):\n",
    "    if 'Investigational' in row:\n",
    "        df.loc[i, 'investigational_drug'] = 1\n",
    "    else:\n",
    "        df.loc[i, 'investigational_drug'] = 0"
   ]
  },
  {
   "cell_type": "code",
   "execution_count": 21,
   "metadata": {},
   "outputs": [],
   "source": [
    "# created new column for whether the drug was ever an illicit drug.\n",
    "for i, row in enumerate(df['drug_group']):\n",
    "    if 'Illicit' in row:\n",
    "        df.loc[i, 'illicit_drug'] = 1\n",
    "    else:\n",
    "        df.loc[i, 'illicit_drug'] = 0"
   ]
  },
  {
   "cell_type": "code",
   "execution_count": 22,
   "metadata": {},
   "outputs": [],
   "source": [
    "# created new column for whether the drug was ever a veterinarian approved drug.\n",
    "for i, row in enumerate(df['drug_group']):\n",
    "    if 'Vet approved' in row:\n",
    "        df.loc[i, 'vet_approved_drug'] = 1\n",
    "    else:\n",
    "        df.loc[i, 'vet_approved_drug'] = 0"
   ]
  },
  {
   "cell_type": "code",
   "execution_count": 23,
   "metadata": {},
   "outputs": [],
   "source": [
    "# created new column for whether the drug was a nutraceutical drug.\n",
    "for i, row in enumerate(df['drug_group']):\n",
    "    if 'Nutraceutical' in row:\n",
    "        df.loc[i, 'nutraceutical_drug'] = 1\n",
    "    else:\n",
    "        df.loc[i, 'nutraceutical_drug'] = 0"
   ]
  },
  {
   "cell_type": "code",
   "execution_count": 24,
   "metadata": {},
   "outputs": [],
   "source": [
    "# created new column for whether the drug was ever withdrawn FDA approval.\n",
    "for i, row in enumerate(df['drug_group']):\n",
    "    if 'Withdrawn' in row:\n",
    "        df.loc[i, 'withdrawn_drug'] = 1\n",
    "    else:\n",
    "        df.loc[i, 'withdrawn_drug'] = 0"
   ]
  },
  {
   "cell_type": "code",
   "execution_count": 25,
   "metadata": {},
   "outputs": [],
   "source": [
    "# created new column for whether a generic version of the drug exists.\n",
    "for i, row in enumerate(df['generic_name']):\n",
    "    if row == 'Non-Existant':\n",
    "        df.loc[i, 'generic_drug'] = 0\n",
    "    else:\n",
    "        df.loc[i, 'generic_drug'] = 1"
   ]
  },
  {
   "cell_type": "code",
   "execution_count": 26,
   "metadata": {},
   "outputs": [],
   "source": [
    "# created new column for whether the molecular framework of the drug was of an aromatic type.\n",
    "for i, row in enumerate(df['molecular_framework']):\n",
    "    if 'Aromatic' in row:\n",
    "        df.loc[i, 'aromatic_molecular_framework'] = 1\n",
    "    else:\n",
    "        df.loc[i, 'aromatic_molecular_framework'] = 0"
   ]
  },
  {
   "cell_type": "code",
   "execution_count": 27,
   "metadata": {},
   "outputs": [
    {
     "data": {
      "text/plain": [
       "Index(['index', 'drug_name', 'generic_name', 'grx_lowest_price',\n",
       "       'grx_pharmacy', 'grx_purchase', 'grx_lowest_price_adj', 'chem_name',\n",
       "       'affected_organisms', 'chem_state', 'chem_class', 'drug_group',\n",
       "       'drug_type', 'chem_kingdom', 'molecular_framework',\n",
       "       'avg_molecular_weight', 'num_clinical_trials', 'num_dosage_forms',\n",
       "       'num_drug_interactions', 'num_food_interactions',\n",
       "       'num_manufacturers_for_chem', 'num_packagers_for_chem',\n",
       "       'num_patents_on_chem', 'num_targets', 'chem_sub_class',\n",
       "       'chem_super_class', 'nadac_cost_per_unit', 'Liquid', 'Solid',\n",
       "       'Organic compounds', 'affected_humans_other_mammals',\n",
       "       'investigational_drug', 'illicit_drug', 'vet_approved_drug',\n",
       "       'nutraceutical_drug', 'withdrawn_drug', 'generic_drug',\n",
       "       'aromatic_molecular_framework'],\n",
       "      dtype='object')"
      ]
     },
     "execution_count": 27,
     "metadata": {},
     "output_type": "execute_result"
    }
   ],
   "source": [
    "df.columns"
   ]
  },
  {
   "cell_type": "code",
   "execution_count": 28,
   "metadata": {},
   "outputs": [],
   "source": [
    "from sklearn.model_selection import train_test_split"
   ]
  },
  {
   "cell_type": "code",
   "execution_count": 29,
   "metadata": {},
   "outputs": [],
   "source": [
    "from copy import deepcopy\n",
    "import pandas as pd\n",
    "import numpy as np\n",
    "import matplotlib.pyplot as plt\n",
    "import matplotlib.ticker as mtick\n",
    "import seaborn as sns\n",
    "import re"
   ]
  },
  {
   "cell_type": "code",
   "execution_count": 40,
   "metadata": {},
   "outputs": [
    {
     "data": {
      "image/png": "[encoded data removed]",
      "text/plain": [
       "<Figure size 864x432 with 1 Axes>"
      ]
     },
     "metadata": {},
     "output_type": "display_data"
    }
   ],
   "source": [
    "# created visualization for price distribution of all remaining drugs in the dataframe.\n",
    "plt.style.use('seaborn')\n",
    "sns.set_style('whitegrid')\n",
    "plt.figure(figsize = (12, 6))\n",
    "\n",
    "x = pd.Series(df['grx_lowest_price_adj'], name = 'grx_lowest_price_adj')\n",
    "ax = sns.distplot(x)\n",
    "ax.set_title(\"Distribution of the Lowest Price per Pill for Each Drug\")\n",
    "fmt = '${x:,.0f}'\n",
    "tick = mtick.StrMethodFormatter(fmt)\n",
    "ax.xaxis.set_major_formatter(tick) \n",
    "ax.set_ylabel('Probability Density')\n",
    "ax.set_xlabel('Price Per Pill');\n",
    "plt.xlim(0)\n",
    "\n",
    "plt.tight_layout()\n",
    "plt.savefig('lowest_pill_price_distribution.png')"
   ]
  },
  {
   "cell_type": "code",
   "execution_count": 32,
   "metadata": {},
   "outputs": [
    {
     "data": {
      "text/html": [
       "<div>\n",
       "<style scoped>\n",
       "    .dataframe tbody tr th:only-of-type {\n",
       "        vertical-align: middle;\n",
       "    }\n",
       "\n",
       "    .dataframe tbody tr th {\n",
       "        vertical-align: top;\n",
       "    }\n",
       "\n",
       "    .dataframe thead th {\n",
       "        text-align: right;\n",
       "    }\n",
       "</style>\n",
       "<table border=\"1\" class=\"dataframe\">\n",
       "  <thead>\n",
       "    <tr style=\"text-align: right;\">\n",
       "      <th></th>\n",
       "      <th>index</th>\n",
       "      <th>grx_lowest_price</th>\n",
       "      <th>grx_lowest_price_adj</th>\n",
       "      <th>avg_molecular_weight</th>\n",
       "      <th>num_clinical_trials</th>\n",
       "      <th>num_dosage_forms</th>\n",
       "      <th>num_drug_interactions</th>\n",
       "      <th>num_food_interactions</th>\n",
       "      <th>num_manufacturers_for_chem</th>\n",
       "      <th>num_packagers_for_chem</th>\n",
       "      <th>...</th>\n",
       "      <th>Solid</th>\n",
       "      <th>Organic compounds</th>\n",
       "      <th>affected_humans_other_mammals</th>\n",
       "      <th>investigational_drug</th>\n",
       "      <th>illicit_drug</th>\n",
       "      <th>vet_approved_drug</th>\n",
       "      <th>nutraceutical_drug</th>\n",
       "      <th>withdrawn_drug</th>\n",
       "      <th>generic_drug</th>\n",
       "      <th>aromatic_molecular_framework</th>\n",
       "    </tr>\n",
       "  </thead>\n",
       "  <tbody>\n",
       "    <tr>\n",
       "      <th>index</th>\n",
       "      <td>1.000</td>\n",
       "      <td>-0.320</td>\n",
       "      <td>-0.306</td>\n",
       "      <td>-0.102</td>\n",
       "      <td>-0.138</td>\n",
       "      <td>-0.050</td>\n",
       "      <td>0.082</td>\n",
       "      <td>0.166</td>\n",
       "      <td>0.176</td>\n",
       "      <td>0.242</td>\n",
       "      <td>...</td>\n",
       "      <td>-0.036</td>\n",
       "      <td>nan</td>\n",
       "      <td>0.169</td>\n",
       "      <td>-0.135</td>\n",
       "      <td>-0.033</td>\n",
       "      <td>0.038</td>\n",
       "      <td>0.007</td>\n",
       "      <td>-0.027</td>\n",
       "      <td>0.251</td>\n",
       "      <td>0.071</td>\n",
       "    </tr>\n",
       "    <tr>\n",
       "      <th>grx_lowest_price</th>\n",
       "      <td>-0.320</td>\n",
       "      <td>1.000</td>\n",
       "      <td>0.832</td>\n",
       "      <td>0.112</td>\n",
       "      <td>0.062</td>\n",
       "      <td>-0.085</td>\n",
       "      <td>-0.129</td>\n",
       "      <td>-0.119</td>\n",
       "      <td>-0.128</td>\n",
       "      <td>-0.175</td>\n",
       "      <td>...</td>\n",
       "      <td>0.028</td>\n",
       "      <td>nan</td>\n",
       "      <td>-0.106</td>\n",
       "      <td>0.024</td>\n",
       "      <td>-0.031</td>\n",
       "      <td>-0.039</td>\n",
       "      <td>-0.015</td>\n",
       "      <td>0.024</td>\n",
       "      <td>-0.084</td>\n",
       "      <td>-0.002</td>\n",
       "    </tr>\n",
       "    <tr>\n",
       "      <th>grx_lowest_price_adj</th>\n",
       "      <td>-0.306</td>\n",
       "      <td>0.832</td>\n",
       "      <td>1.000</td>\n",
       "      <td>0.105</td>\n",
       "      <td>0.062</td>\n",
       "      <td>-0.092</td>\n",
       "      <td>-0.140</td>\n",
       "      <td>-0.113</td>\n",
       "      <td>-0.130</td>\n",
       "      <td>-0.178</td>\n",
       "      <td>...</td>\n",
       "      <td>0.028</td>\n",
       "      <td>nan</td>\n",
       "      <td>-0.145</td>\n",
       "      <td>0.039</td>\n",
       "      <td>-0.037</td>\n",
       "      <td>0.026</td>\n",
       "      <td>-0.017</td>\n",
       "      <td>-0.008</td>\n",
       "      <td>-0.016</td>\n",
       "      <td>0.042</td>\n",
       "    </tr>\n",
       "    <tr>\n",
       "      <th>avg_molecular_weight</th>\n",
       "      <td>-0.102</td>\n",
       "      <td>0.112</td>\n",
       "      <td>0.105</td>\n",
       "      <td>1.000</td>\n",
       "      <td>0.092</td>\n",
       "      <td>-0.046</td>\n",
       "      <td>-0.079</td>\n",
       "      <td>0.020</td>\n",
       "      <td>-0.137</td>\n",
       "      <td>-0.118</td>\n",
       "      <td>...</td>\n",
       "      <td>-0.161</td>\n",
       "      <td>nan</td>\n",
       "      <td>-0.167</td>\n",
       "      <td>0.018</td>\n",
       "      <td>-0.135</td>\n",
       "      <td>0.040</td>\n",
       "      <td>-0.019</td>\n",
       "      <td>-0.016</td>\n",
       "      <td>0.012</td>\n",
       "      <td>-0.093</td>\n",
       "    </tr>\n",
       "    <tr>\n",
       "      <th>num_clinical_trials</th>\n",
       "      <td>-0.138</td>\n",
       "      <td>0.062</td>\n",
       "      <td>0.062</td>\n",
       "      <td>0.092</td>\n",
       "      <td>1.000</td>\n",
       "      <td>0.381</td>\n",
       "      <td>0.157</td>\n",
       "      <td>0.106</td>\n",
       "      <td>0.163</td>\n",
       "      <td>0.175</td>\n",
       "      <td>...</td>\n",
       "      <td>-0.049</td>\n",
       "      <td>nan</td>\n",
       "      <td>0.020</td>\n",
       "      <td>0.087</td>\n",
       "      <td>-0.037</td>\n",
       "      <td>0.110</td>\n",
       "      <td>0.004</td>\n",
       "      <td>-0.065</td>\n",
       "      <td>-0.028</td>\n",
       "      <td>-0.234</td>\n",
       "    </tr>\n",
       "    <tr>\n",
       "      <th>num_dosage_forms</th>\n",
       "      <td>-0.050</td>\n",
       "      <td>-0.085</td>\n",
       "      <td>-0.092</td>\n",
       "      <td>-0.046</td>\n",
       "      <td>0.381</td>\n",
       "      <td>1.000</td>\n",
       "      <td>0.286</td>\n",
       "      <td>0.267</td>\n",
       "      <td>0.388</td>\n",
       "      <td>0.525</td>\n",
       "      <td>...</td>\n",
       "      <td>-0.060</td>\n",
       "      <td>nan</td>\n",
       "      <td>0.057</td>\n",
       "      <td>0.129</td>\n",
       "      <td>0.061</td>\n",
       "      <td>0.135</td>\n",
       "      <td>0.054</td>\n",
       "      <td>-0.057</td>\n",
       "      <td>-0.081</td>\n",
       "      <td>-0.012</td>\n",
       "    </tr>\n",
       "    <tr>\n",
       "      <th>num_drug_interactions</th>\n",
       "      <td>0.082</td>\n",
       "      <td>-0.129</td>\n",
       "      <td>-0.140</td>\n",
       "      <td>-0.079</td>\n",
       "      <td>0.157</td>\n",
       "      <td>0.286</td>\n",
       "      <td>1.000</td>\n",
       "      <td>0.357</td>\n",
       "      <td>0.383</td>\n",
       "      <td>0.341</td>\n",
       "      <td>...</td>\n",
       "      <td>-0.102</td>\n",
       "      <td>nan</td>\n",
       "      <td>0.177</td>\n",
       "      <td>0.083</td>\n",
       "      <td>0.075</td>\n",
       "      <td>0.102</td>\n",
       "      <td>-0.074</td>\n",
       "      <td>-0.010</td>\n",
       "      <td>0.006</td>\n",
       "      <td>0.081</td>\n",
       "    </tr>\n",
       "    <tr>\n",
       "      <th>num_food_interactions</th>\n",
       "      <td>0.166</td>\n",
       "      <td>-0.119</td>\n",
       "      <td>-0.113</td>\n",
       "      <td>0.020</td>\n",
       "      <td>0.106</td>\n",
       "      <td>0.267</td>\n",
       "      <td>0.357</td>\n",
       "      <td>1.000</td>\n",
       "      <td>0.363</td>\n",
       "      <td>0.478</td>\n",
       "      <td>...</td>\n",
       "      <td>-0.129</td>\n",
       "      <td>nan</td>\n",
       "      <td>0.011</td>\n",
       "      <td>-0.034</td>\n",
       "      <td>-0.048</td>\n",
       "      <td>0.130</td>\n",
       "      <td>-0.083</td>\n",
       "      <td>-0.040</td>\n",
       "      <td>-0.011</td>\n",
       "      <td>-0.027</td>\n",
       "    </tr>\n",
       "    <tr>\n",
       "      <th>num_manufacturers_for_chem</th>\n",
       "      <td>0.176</td>\n",
       "      <td>-0.128</td>\n",
       "      <td>-0.130</td>\n",
       "      <td>-0.137</td>\n",
       "      <td>0.163</td>\n",
       "      <td>0.388</td>\n",
       "      <td>0.383</td>\n",
       "      <td>0.363</td>\n",
       "      <td>1.000</td>\n",
       "      <td>0.655</td>\n",
       "      <td>...</td>\n",
       "      <td>-0.063</td>\n",
       "      <td>nan</td>\n",
       "      <td>0.010</td>\n",
       "      <td>-0.036</td>\n",
       "      <td>0.007</td>\n",
       "      <td>0.345</td>\n",
       "      <td>0.074</td>\n",
       "      <td>-0.052</td>\n",
       "      <td>0.008</td>\n",
       "      <td>-0.042</td>\n",
       "    </tr>\n",
       "    <tr>\n",
       "      <th>num_packagers_for_chem</th>\n",
       "      <td>0.242</td>\n",
       "      <td>-0.175</td>\n",
       "      <td>-0.178</td>\n",
       "      <td>-0.118</td>\n",
       "      <td>0.175</td>\n",
       "      <td>0.525</td>\n",
       "      <td>0.341</td>\n",
       "      <td>0.478</td>\n",
       "      <td>0.655</td>\n",
       "      <td>1.000</td>\n",
       "      <td>...</td>\n",
       "      <td>-0.028</td>\n",
       "      <td>nan</td>\n",
       "      <td>0.026</td>\n",
       "      <td>-0.029</td>\n",
       "      <td>0.081</td>\n",
       "      <td>0.292</td>\n",
       "      <td>0.007</td>\n",
       "      <td>-0.059</td>\n",
       "      <td>-0.036</td>\n",
       "      <td>-0.022</td>\n",
       "    </tr>\n",
       "    <tr>\n",
       "      <th>num_patents_on_chem</th>\n",
       "      <td>-0.363</td>\n",
       "      <td>0.042</td>\n",
       "      <td>0.029</td>\n",
       "      <td>-0.003</td>\n",
       "      <td>0.400</td>\n",
       "      <td>0.388</td>\n",
       "      <td>0.033</td>\n",
       "      <td>0.021</td>\n",
       "      <td>0.080</td>\n",
       "      <td>0.185</td>\n",
       "      <td>...</td>\n",
       "      <td>0.032</td>\n",
       "      <td>nan</td>\n",
       "      <td>-0.028</td>\n",
       "      <td>0.157</td>\n",
       "      <td>0.188</td>\n",
       "      <td>-0.010</td>\n",
       "      <td>0.000</td>\n",
       "      <td>-0.060</td>\n",
       "      <td>-0.102</td>\n",
       "      <td>-0.048</td>\n",
       "    </tr>\n",
       "    <tr>\n",
       "      <th>num_targets</th>\n",
       "      <td>0.079</td>\n",
       "      <td>-0.065</td>\n",
       "      <td>-0.063</td>\n",
       "      <td>-0.061</td>\n",
       "      <td>0.059</td>\n",
       "      <td>0.229</td>\n",
       "      <td>0.200</td>\n",
       "      <td>0.130</td>\n",
       "      <td>0.235</td>\n",
       "      <td>0.244</td>\n",
       "      <td>...</td>\n",
       "      <td>-0.086</td>\n",
       "      <td>nan</td>\n",
       "      <td>0.016</td>\n",
       "      <td>-0.029</td>\n",
       "      <td>0.047</td>\n",
       "      <td>0.014</td>\n",
       "      <td>-0.041</td>\n",
       "      <td>-0.045</td>\n",
       "      <td>0.020</td>\n",
       "      <td>0.051</td>\n",
       "    </tr>\n",
       "    <tr>\n",
       "      <th>nadac_cost_per_unit</th>\n",
       "      <td>-0.314</td>\n",
       "      <td>0.843</td>\n",
       "      <td>0.851</td>\n",
       "      <td>0.126</td>\n",
       "      <td>0.082</td>\n",
       "      <td>-0.082</td>\n",
       "      <td>-0.103</td>\n",
       "      <td>-0.137</td>\n",
       "      <td>-0.134</td>\n",
       "      <td>-0.190</td>\n",
       "      <td>...</td>\n",
       "      <td>0.028</td>\n",
       "      <td>nan</td>\n",
       "      <td>-0.118</td>\n",
       "      <td>0.032</td>\n",
       "      <td>-0.034</td>\n",
       "      <td>-0.036</td>\n",
       "      <td>-0.020</td>\n",
       "      <td>0.016</td>\n",
       "      <td>-0.015</td>\n",
       "      <td>0.044</td>\n",
       "    </tr>\n",
       "    <tr>\n",
       "      <th>Liquid</th>\n",
       "      <td>0.036</td>\n",
       "      <td>-0.028</td>\n",
       "      <td>-0.028</td>\n",
       "      <td>0.161</td>\n",
       "      <td>0.049</td>\n",
       "      <td>0.060</td>\n",
       "      <td>0.102</td>\n",
       "      <td>0.129</td>\n",
       "      <td>0.063</td>\n",
       "      <td>0.028</td>\n",
       "      <td>...</td>\n",
       "      <td>-1.000</td>\n",
       "      <td>nan</td>\n",
       "      <td>0.068</td>\n",
       "      <td>-0.024</td>\n",
       "      <td>-0.032</td>\n",
       "      <td>0.082</td>\n",
       "      <td>-0.016</td>\n",
       "      <td>-0.016</td>\n",
       "      <td>0.038</td>\n",
       "      <td>-0.066</td>\n",
       "    </tr>\n",
       "    <tr>\n",
       "      <th>Solid</th>\n",
       "      <td>-0.036</td>\n",
       "      <td>0.028</td>\n",
       "      <td>0.028</td>\n",
       "      <td>-0.161</td>\n",
       "      <td>-0.049</td>\n",
       "      <td>-0.060</td>\n",
       "      <td>-0.102</td>\n",
       "      <td>-0.129</td>\n",
       "      <td>-0.063</td>\n",
       "      <td>-0.028</td>\n",
       "      <td>...</td>\n",
       "      <td>1.000</td>\n",
       "      <td>nan</td>\n",
       "      <td>-0.068</td>\n",
       "      <td>0.024</td>\n",
       "      <td>0.032</td>\n",
       "      <td>-0.082</td>\n",
       "      <td>0.016</td>\n",
       "      <td>0.016</td>\n",
       "      <td>-0.038</td>\n",
       "      <td>0.066</td>\n",
       "    </tr>\n",
       "    <tr>\n",
       "      <th>Organic compounds</th>\n",
       "      <td>nan</td>\n",
       "      <td>nan</td>\n",
       "      <td>nan</td>\n",
       "      <td>nan</td>\n",
       "      <td>nan</td>\n",
       "      <td>nan</td>\n",
       "      <td>nan</td>\n",
       "      <td>nan</td>\n",
       "      <td>nan</td>\n",
       "      <td>nan</td>\n",
       "      <td>...</td>\n",
       "      <td>nan</td>\n",
       "      <td>nan</td>\n",
       "      <td>nan</td>\n",
       "      <td>nan</td>\n",
       "      <td>nan</td>\n",
       "      <td>nan</td>\n",
       "      <td>nan</td>\n",
       "      <td>nan</td>\n",
       "      <td>nan</td>\n",
       "      <td>nan</td>\n",
       "    </tr>\n",
       "    <tr>\n",
       "      <th>affected_humans_other_mammals</th>\n",
       "      <td>0.169</td>\n",
       "      <td>-0.106</td>\n",
       "      <td>-0.145</td>\n",
       "      <td>-0.167</td>\n",
       "      <td>0.020</td>\n",
       "      <td>0.057</td>\n",
       "      <td>0.177</td>\n",
       "      <td>0.011</td>\n",
       "      <td>0.010</td>\n",
       "      <td>0.026</td>\n",
       "      <td>...</td>\n",
       "      <td>-0.068</td>\n",
       "      <td>nan</td>\n",
       "      <td>1.000</td>\n",
       "      <td>-0.083</td>\n",
       "      <td>0.105</td>\n",
       "      <td>-0.218</td>\n",
       "      <td>0.051</td>\n",
       "      <td>0.008</td>\n",
       "      <td>-0.040</td>\n",
       "      <td>-0.070</td>\n",
       "    </tr>\n",
       "    <tr>\n",
       "      <th>investigational_drug</th>\n",
       "      <td>-0.135</td>\n",
       "      <td>0.024</td>\n",
       "      <td>0.039</td>\n",
       "      <td>0.018</td>\n",
       "      <td>0.087</td>\n",
       "      <td>0.129</td>\n",
       "      <td>0.083</td>\n",
       "      <td>-0.034</td>\n",
       "      <td>-0.036</td>\n",
       "      <td>-0.029</td>\n",
       "      <td>...</td>\n",
       "      <td>0.024</td>\n",
       "      <td>nan</td>\n",
       "      <td>-0.083</td>\n",
       "      <td>1.000</td>\n",
       "      <td>-0.034</td>\n",
       "      <td>-0.006</td>\n",
       "      <td>-0.010</td>\n",
       "      <td>-0.070</td>\n",
       "      <td>0.005</td>\n",
       "      <td>0.036</td>\n",
       "    </tr>\n",
       "    <tr>\n",
       "      <th>illicit_drug</th>\n",
       "      <td>-0.033</td>\n",
       "      <td>-0.031</td>\n",
       "      <td>-0.037</td>\n",
       "      <td>-0.135</td>\n",
       "      <td>-0.037</td>\n",
       "      <td>0.061</td>\n",
       "      <td>0.075</td>\n",
       "      <td>-0.048</td>\n",
       "      <td>0.007</td>\n",
       "      <td>0.081</td>\n",
       "      <td>...</td>\n",
       "      <td>0.032</td>\n",
       "      <td>nan</td>\n",
       "      <td>0.105</td>\n",
       "      <td>-0.034</td>\n",
       "      <td>1.000</td>\n",
       "      <td>-0.049</td>\n",
       "      <td>-0.024</td>\n",
       "      <td>-0.025</td>\n",
       "      <td>0.003</td>\n",
       "      <td>0.050</td>\n",
       "    </tr>\n",
       "    <tr>\n",
       "      <th>vet_approved_drug</th>\n",
       "      <td>0.038</td>\n",
       "      <td>-0.039</td>\n",
       "      <td>0.026</td>\n",
       "      <td>0.040</td>\n",
       "      <td>0.110</td>\n",
       "      <td>0.135</td>\n",
       "      <td>0.102</td>\n",
       "      <td>0.130</td>\n",
       "      <td>0.345</td>\n",
       "      <td>0.292</td>\n",
       "      <td>...</td>\n",
       "      <td>-0.082</td>\n",
       "      <td>nan</td>\n",
       "      <td>-0.218</td>\n",
       "      <td>-0.006</td>\n",
       "      <td>-0.049</td>\n",
       "      <td>1.000</td>\n",
       "      <td>0.049</td>\n",
       "      <td>0.016</td>\n",
       "      <td>0.015</td>\n",
       "      <td>-0.006</td>\n",
       "    </tr>\n",
       "    <tr>\n",
       "      <th>nutraceutical_drug</th>\n",
       "      <td>0.007</td>\n",
       "      <td>-0.015</td>\n",
       "      <td>-0.017</td>\n",
       "      <td>-0.019</td>\n",
       "      <td>0.004</td>\n",
       "      <td>0.054</td>\n",
       "      <td>-0.074</td>\n",
       "      <td>-0.083</td>\n",
       "      <td>0.074</td>\n",
       "      <td>0.007</td>\n",
       "      <td>...</td>\n",
       "      <td>0.016</td>\n",
       "      <td>nan</td>\n",
       "      <td>0.051</td>\n",
       "      <td>-0.010</td>\n",
       "      <td>-0.024</td>\n",
       "      <td>0.049</td>\n",
       "      <td>1.000</td>\n",
       "      <td>-0.012</td>\n",
       "      <td>-0.045</td>\n",
       "      <td>-0.099</td>\n",
       "    </tr>\n",
       "    <tr>\n",
       "      <th>withdrawn_drug</th>\n",
       "      <td>-0.027</td>\n",
       "      <td>0.024</td>\n",
       "      <td>-0.008</td>\n",
       "      <td>-0.016</td>\n",
       "      <td>-0.065</td>\n",
       "      <td>-0.057</td>\n",
       "      <td>-0.010</td>\n",
       "      <td>-0.040</td>\n",
       "      <td>-0.052</td>\n",
       "      <td>-0.059</td>\n",
       "      <td>...</td>\n",
       "      <td>0.016</td>\n",
       "      <td>nan</td>\n",
       "      <td>0.008</td>\n",
       "      <td>-0.070</td>\n",
       "      <td>-0.025</td>\n",
       "      <td>0.016</td>\n",
       "      <td>-0.012</td>\n",
       "      <td>1.000</td>\n",
       "      <td>-0.006</td>\n",
       "      <td>0.050</td>\n",
       "    </tr>\n",
       "    <tr>\n",
       "      <th>generic_drug</th>\n",
       "      <td>0.251</td>\n",
       "      <td>-0.084</td>\n",
       "      <td>-0.016</td>\n",
       "      <td>0.012</td>\n",
       "      <td>-0.028</td>\n",
       "      <td>-0.081</td>\n",
       "      <td>0.006</td>\n",
       "      <td>-0.011</td>\n",
       "      <td>0.008</td>\n",
       "      <td>-0.036</td>\n",
       "      <td>...</td>\n",
       "      <td>-0.038</td>\n",
       "      <td>nan</td>\n",
       "      <td>-0.040</td>\n",
       "      <td>0.005</td>\n",
       "      <td>0.003</td>\n",
       "      <td>0.015</td>\n",
       "      <td>-0.045</td>\n",
       "      <td>-0.006</td>\n",
       "      <td>1.000</td>\n",
       "      <td>0.024</td>\n",
       "    </tr>\n",
       "    <tr>\n",
       "      <th>aromatic_molecular_framework</th>\n",
       "      <td>0.071</td>\n",
       "      <td>-0.002</td>\n",
       "      <td>0.042</td>\n",
       "      <td>-0.093</td>\n",
       "      <td>-0.234</td>\n",
       "      <td>-0.012</td>\n",
       "      <td>0.081</td>\n",
       "      <td>-0.027</td>\n",
       "      <td>-0.042</td>\n",
       "      <td>-0.022</td>\n",
       "      <td>...</td>\n",
       "      <td>0.066</td>\n",
       "      <td>nan</td>\n",
       "      <td>-0.070</td>\n",
       "      <td>0.036</td>\n",
       "      <td>0.050</td>\n",
       "      <td>-0.006</td>\n",
       "      <td>-0.099</td>\n",
       "      <td>0.050</td>\n",
       "      <td>0.024</td>\n",
       "      <td>1.000</td>\n",
       "    </tr>\n",
       "  </tbody>\n",
       "</table>\n",
       "<p>24 rows × 24 columns</p>\n",
       "</div>"
      ],
      "text/plain": [
       "                               index  grx_lowest_price  grx_lowest_price_adj  \\\n",
       "index                          1.000            -0.320                -0.306   \n",
       "grx_lowest_price              -0.320             1.000                 0.832   \n",
       "grx_lowest_price_adj          -0.306             0.832                 1.000   \n",
       "avg_molecular_weight          -0.102             0.112                 0.105   \n",
       "num_clinical_trials           -0.138             0.062                 0.062   \n",
       "num_dosage_forms              -0.050            -0.085                -0.092   \n",
       "num_drug_interactions          0.082            -0.129                -0.140   \n",
       "num_food_interactions          0.166            -0.119                -0.113   \n",
       "num_manufacturers_for_chem     0.176            -0.128                -0.130   \n",
       "num_packagers_for_chem         0.242            -0.175                -0.178   \n",
       "num_patents_on_chem           -0.363             0.042                 0.029   \n",
       "num_targets                    0.079            -0.065                -0.063   \n",
       "nadac_cost_per_unit           -0.314             0.843                 0.851   \n",
       "Liquid                         0.036            -0.028                -0.028   \n",
       "Solid                         -0.036             0.028                 0.028   \n",
       "Organic compounds                nan               nan                   nan   \n",
       "affected_humans_other_mammals  0.169            -0.106                -0.145   \n",
       "investigational_drug          -0.135             0.024                 0.039   \n",
       "illicit_drug                  -0.033            -0.031                -0.037   \n",
       "vet_approved_drug              0.038            -0.039                 0.026   \n",
       "nutraceutical_drug             0.007            -0.015                -0.017   \n",
       "withdrawn_drug                -0.027             0.024                -0.008   \n",
       "generic_drug                   0.251            -0.084                -0.016   \n",
       "aromatic_molecular_framework   0.071            -0.002                 0.042   \n",
       "\n",
       "                               avg_molecular_weight  num_clinical_trials  \\\n",
       "index                                        -0.102               -0.138   \n",
       "grx_lowest_price                              0.112                0.062   \n",
       "grx_lowest_price_adj                          0.105                0.062   \n",
       "avg_molecular_weight                          1.000                0.092   \n",
       "num_clinical_trials                           0.092                1.000   \n",
       "num_dosage_forms                             -0.046                0.381   \n",
       "num_drug_interactions                        -0.079                0.157   \n",
       "num_food_interactions                         0.020                0.106   \n",
       "num_manufacturers_for_chem                   -0.137                0.163   \n",
       "num_packagers_for_chem                       -0.118                0.175   \n",
       "num_patents_on_chem                          -0.003                0.400   \n",
       "num_targets                                  -0.061                0.059   \n",
       "nadac_cost_per_unit                           0.126                0.082   \n",
       "Liquid                                        0.161                0.049   \n",
       "Solid                                        -0.161               -0.049   \n",
       "Organic compounds                               nan                  nan   \n",
       "affected_humans_other_mammals                -0.167                0.020   \n",
       "investigational_drug                          0.018                0.087   \n",
       "illicit_drug                                 -0.135               -0.037   \n",
       "vet_approved_drug                             0.040                0.110   \n",
       "nutraceutical_drug                           -0.019                0.004   \n",
       "withdrawn_drug                               -0.016               -0.065   \n",
       "generic_drug                                  0.012               -0.028   \n",
       "aromatic_molecular_framework                 -0.093               -0.234   \n",
       "\n",
       "                               num_dosage_forms  num_drug_interactions  \\\n",
       "index                                    -0.050                  0.082   \n",
       "grx_lowest_price                         -0.085                 -0.129   \n",
       "grx_lowest_price_adj                     -0.092                 -0.140   \n",
       "avg_molecular_weight                     -0.046                 -0.079   \n",
       "num_clinical_trials                       0.381                  0.157   \n",
       "num_dosage_forms                          1.000                  0.286   \n",
       "num_drug_interactions                     0.286                  1.000   \n",
       "num_food_interactions                     0.267                  0.357   \n",
       "num_manufacturers_for_chem                0.388                  0.383   \n",
       "num_packagers_for_chem                    0.525                  0.341   \n",
       "num_patents_on_chem                       0.388                  0.033   \n",
       "num_targets                               0.229                  0.200   \n",
       "nadac_cost_per_unit                      -0.082                 -0.103   \n",
       "Liquid                                    0.060                  0.102   \n",
       "Solid                                    -0.060                 -0.102   \n",
       "Organic compounds                           nan                    nan   \n",
       "affected_humans_other_mammals             0.057                  0.177   \n",
       "investigational_drug                      0.129                  0.083   \n",
       "illicit_drug                              0.061                  0.075   \n",
       "vet_approved_drug                         0.135                  0.102   \n",
       "nutraceutical_drug                        0.054                 -0.074   \n",
       "withdrawn_drug                           -0.057                 -0.010   \n",
       "generic_drug                             -0.081                  0.006   \n",
       "aromatic_molecular_framework             -0.012                  0.081   \n",
       "\n",
       "                               num_food_interactions  \\\n",
       "index                                          0.166   \n",
       "grx_lowest_price                              -0.119   \n",
       "grx_lowest_price_adj                          -0.113   \n",
       "avg_molecular_weight                           0.020   \n",
       "num_clinical_trials                            0.106   \n",
       "num_dosage_forms                               0.267   \n",
       "num_drug_interactions                          0.357   \n",
       "num_food_interactions                          1.000   \n",
       "num_manufacturers_for_chem                     0.363   \n",
       "num_packagers_for_chem                         0.478   \n",
       "num_patents_on_chem                            0.021   \n",
       "num_targets                                    0.130   \n",
       "nadac_cost_per_unit                           -0.137   \n",
       "Liquid                                         0.129   \n",
       "Solid                                         -0.129   \n",
       "Organic compounds                                nan   \n",
       "affected_humans_other_mammals                  0.011   \n",
       "investigational_drug                          -0.034   \n",
       "illicit_drug                                  -0.048   \n",
       "vet_approved_drug                              0.130   \n",
       "nutraceutical_drug                            -0.083   \n",
       "withdrawn_drug                                -0.040   \n",
       "generic_drug                                  -0.011   \n",
       "aromatic_molecular_framework                  -0.027   \n",
       "\n",
       "                               num_manufacturers_for_chem  \\\n",
       "index                                               0.176   \n",
       "grx_lowest_price                                   -0.128   \n",
       "grx_lowest_price_adj                               -0.130   \n",
       "avg_molecular_weight                               -0.137   \n",
       "num_clinical_trials                                 0.163   \n",
       "num_dosage_forms                                    0.388   \n",
       "num_drug_interactions                               0.383   \n",
       "num_food_interactions                               0.363   \n",
       "num_manufacturers_for_chem                          1.000   \n",
       "num_packagers_for_chem                              0.655   \n",
       "num_patents_on_chem                                 0.080   \n",
       "num_targets                                         0.235   \n",
       "nadac_cost_per_unit                                -0.134   \n",
       "Liquid                                              0.063   \n",
       "Solid                                              -0.063   \n",
       "Organic compounds                                     nan   \n",
       "affected_humans_other_mammals                       0.010   \n",
       "investigational_drug                               -0.036   \n",
       "illicit_drug                                        0.007   \n",
       "vet_approved_drug                                   0.345   \n",
       "nutraceutical_drug                                  0.074   \n",
       "withdrawn_drug                                     -0.052   \n",
       "generic_drug                                        0.008   \n",
       "aromatic_molecular_framework                       -0.042   \n",
       "\n",
       "                               num_packagers_for_chem  \\\n",
       "index                                           0.242   \n",
       "grx_lowest_price                               -0.175   \n",
       "grx_lowest_price_adj                           -0.178   \n",
       "avg_molecular_weight                           -0.118   \n",
       "num_clinical_trials                             0.175   \n",
       "num_dosage_forms                                0.525   \n",
       "num_drug_interactions                           0.341   \n",
       "num_food_interactions                           0.478   \n",
       "num_manufacturers_for_chem                      0.655   \n",
       "num_packagers_for_chem                          1.000   \n",
       "num_patents_on_chem                             0.185   \n",
       "num_targets                                     0.244   \n",
       "nadac_cost_per_unit                            -0.190   \n",
       "Liquid                                          0.028   \n",
       "Solid                                          -0.028   \n",
       "Organic compounds                                 nan   \n",
       "affected_humans_other_mammals                   0.026   \n",
       "investigational_drug                           -0.029   \n",
       "illicit_drug                                    0.081   \n",
       "vet_approved_drug                               0.292   \n",
       "nutraceutical_drug                              0.007   \n",
       "withdrawn_drug                                 -0.059   \n",
       "generic_drug                                   -0.036   \n",
       "aromatic_molecular_framework                   -0.022   \n",
       "\n",
       "                                           ...               Solid  \\\n",
       "index                                      ...              -0.036   \n",
       "grx_lowest_price                           ...               0.028   \n",
       "grx_lowest_price_adj                       ...               0.028   \n",
       "avg_molecular_weight                       ...              -0.161   \n",
       "num_clinical_trials                        ...              -0.049   \n",
       "num_dosage_forms                           ...              -0.060   \n",
       "num_drug_interactions                      ...              -0.102   \n",
       "num_food_interactions                      ...              -0.129   \n",
       "num_manufacturers_for_chem                 ...              -0.063   \n",
       "num_packagers_for_chem                     ...              -0.028   \n",
       "num_patents_on_chem                        ...               0.032   \n",
       "num_targets                                ...              -0.086   \n",
       "nadac_cost_per_unit                        ...               0.028   \n",
       "Liquid                                     ...              -1.000   \n",
       "Solid                                      ...               1.000   \n",
       "Organic compounds                          ...                 nan   \n",
       "affected_humans_other_mammals              ...              -0.068   \n",
       "investigational_drug                       ...               0.024   \n",
       "illicit_drug                               ...               0.032   \n",
       "vet_approved_drug                          ...              -0.082   \n",
       "nutraceutical_drug                         ...               0.016   \n",
       "withdrawn_drug                             ...               0.016   \n",
       "generic_drug                               ...              -0.038   \n",
       "aromatic_molecular_framework               ...               0.066   \n",
       "\n",
       "                               Organic compounds  \\\n",
       "index                                        nan   \n",
       "grx_lowest_price                             nan   \n",
       "grx_lowest_price_adj                         nan   \n",
       "avg_molecular_weight                         nan   \n",
       "num_clinical_trials                          nan   \n",
       "num_dosage_forms                             nan   \n",
       "num_drug_interactions                        nan   \n",
       "num_food_interactions                        nan   \n",
       "num_manufacturers_for_chem                   nan   \n",
       "num_packagers_for_chem                       nan   \n",
       "num_patents_on_chem                          nan   \n",
       "num_targets                                  nan   \n",
       "nadac_cost_per_unit                          nan   \n",
       "Liquid                                       nan   \n",
       "Solid                                        nan   \n",
       "Organic compounds                            nan   \n",
       "affected_humans_other_mammals                nan   \n",
       "investigational_drug                         nan   \n",
       "illicit_drug                                 nan   \n",
       "vet_approved_drug                            nan   \n",
       "nutraceutical_drug                           nan   \n",
       "withdrawn_drug                               nan   \n",
       "generic_drug                                 nan   \n",
       "aromatic_molecular_framework                 nan   \n",
       "\n",
       "                               affected_humans_other_mammals  \\\n",
       "index                                                  0.169   \n",
       "grx_lowest_price                                      -0.106   \n",
       "grx_lowest_price_adj                                  -0.145   \n",
       "avg_molecular_weight                                  -0.167   \n",
       "num_clinical_trials                                    0.020   \n",
       "num_dosage_forms                                       0.057   \n",
       "num_drug_interactions                                  0.177   \n",
       "num_food_interactions                                  0.011   \n",
       "num_manufacturers_for_chem                             0.010   \n",
       "num_packagers_for_chem                                 0.026   \n",
       "num_patents_on_chem                                   -0.028   \n",
       "num_targets                                            0.016   \n",
       "nadac_cost_per_unit                                   -0.118   \n",
       "Liquid                                                 0.068   \n",
       "Solid                                                 -0.068   \n",
       "Organic compounds                                        nan   \n",
       "affected_humans_other_mammals                          1.000   \n",
       "investigational_drug                                  -0.083   \n",
       "illicit_drug                                           0.105   \n",
       "vet_approved_drug                                     -0.218   \n",
       "nutraceutical_drug                                     0.051   \n",
       "withdrawn_drug                                         0.008   \n",
       "generic_drug                                          -0.040   \n",
       "aromatic_molecular_framework                          -0.070   \n",
       "\n",
       "                               investigational_drug  illicit_drug  \\\n",
       "index                                        -0.135        -0.033   \n",
       "grx_lowest_price                              0.024        -0.031   \n",
       "grx_lowest_price_adj                          0.039        -0.037   \n",
       "avg_molecular_weight                          0.018        -0.135   \n",
       "num_clinical_trials                           0.087        -0.037   \n",
       "num_dosage_forms                              0.129         0.061   \n",
       "num_drug_interactions                         0.083         0.075   \n",
       "num_food_interactions                        -0.034        -0.048   \n",
       "num_manufacturers_for_chem                   -0.036         0.007   \n",
       "num_packagers_for_chem                       -0.029         0.081   \n",
       "num_patents_on_chem                           0.157         0.188   \n",
       "num_targets                                  -0.029         0.047   \n",
       "nadac_cost_per_unit                           0.032        -0.034   \n",
       "Liquid                                       -0.024        -0.032   \n",
       "Solid                                         0.024         0.032   \n",
       "Organic compounds                               nan           nan   \n",
       "affected_humans_other_mammals                -0.083         0.105   \n",
       "investigational_drug                          1.000        -0.034   \n",
       "illicit_drug                                 -0.034         1.000   \n",
       "vet_approved_drug                            -0.006        -0.049   \n",
       "nutraceutical_drug                           -0.010        -0.024   \n",
       "withdrawn_drug                               -0.070        -0.025   \n",
       "generic_drug                                  0.005         0.003   \n",
       "aromatic_molecular_framework                  0.036         0.050   \n",
       "\n",
       "                               vet_approved_drug  nutraceutical_drug  \\\n",
       "index                                      0.038               0.007   \n",
       "grx_lowest_price                          -0.039              -0.015   \n",
       "grx_lowest_price_adj                       0.026              -0.017   \n",
       "avg_molecular_weight                       0.040              -0.019   \n",
       "num_clinical_trials                        0.110               0.004   \n",
       "num_dosage_forms                           0.135               0.054   \n",
       "num_drug_interactions                      0.102              -0.074   \n",
       "num_food_interactions                      0.130              -0.083   \n",
       "num_manufacturers_for_chem                 0.345               0.074   \n",
       "num_packagers_for_chem                     0.292               0.007   \n",
       "num_patents_on_chem                       -0.010               0.000   \n",
       "num_targets                                0.014              -0.041   \n",
       "nadac_cost_per_unit                       -0.036              -0.020   \n",
       "Liquid                                     0.082              -0.016   \n",
       "Solid                                     -0.082               0.016   \n",
       "Organic compounds                            nan                 nan   \n",
       "affected_humans_other_mammals             -0.218               0.051   \n",
       "investigational_drug                      -0.006              -0.010   \n",
       "illicit_drug                              -0.049              -0.024   \n",
       "vet_approved_drug                          1.000               0.049   \n",
       "nutraceutical_drug                         0.049               1.000   \n",
       "withdrawn_drug                             0.016              -0.012   \n",
       "generic_drug                               0.015              -0.045   \n",
       "aromatic_molecular_framework              -0.006              -0.099   \n",
       "\n",
       "                               withdrawn_drug  generic_drug  \\\n",
       "index                                  -0.027         0.251   \n",
       "grx_lowest_price                        0.024        -0.084   \n",
       "grx_lowest_price_adj                   -0.008        -0.016   \n",
       "avg_molecular_weight                   -0.016         0.012   \n",
       "num_clinical_trials                    -0.065        -0.028   \n",
       "num_dosage_forms                       -0.057        -0.081   \n",
       "num_drug_interactions                  -0.010         0.006   \n",
       "num_food_interactions                  -0.040        -0.011   \n",
       "num_manufacturers_for_chem             -0.052         0.008   \n",
       "num_packagers_for_chem                 -0.059        -0.036   \n",
       "num_patents_on_chem                    -0.060        -0.102   \n",
       "num_targets                            -0.045         0.020   \n",
       "nadac_cost_per_unit                     0.016        -0.015   \n",
       "Liquid                                 -0.016         0.038   \n",
       "Solid                                   0.016        -0.038   \n",
       "Organic compounds                         nan           nan   \n",
       "affected_humans_other_mammals           0.008        -0.040   \n",
       "investigational_drug                   -0.070         0.005   \n",
       "illicit_drug                           -0.025         0.003   \n",
       "vet_approved_drug                       0.016         0.015   \n",
       "nutraceutical_drug                     -0.012        -0.045   \n",
       "withdrawn_drug                          1.000        -0.006   \n",
       "generic_drug                           -0.006         1.000   \n",
       "aromatic_molecular_framework            0.050         0.024   \n",
       "\n",
       "                               aromatic_molecular_framework  \n",
       "index                                                 0.071  \n",
       "grx_lowest_price                                     -0.002  \n",
       "grx_lowest_price_adj                                  0.042  \n",
       "avg_molecular_weight                                 -0.093  \n",
       "num_clinical_trials                                  -0.234  \n",
       "num_dosage_forms                                     -0.012  \n",
       "num_drug_interactions                                 0.081  \n",
       "num_food_interactions                                -0.027  \n",
       "num_manufacturers_for_chem                           -0.042  \n",
       "num_packagers_for_chem                               -0.022  \n",
       "num_patents_on_chem                                  -0.048  \n",
       "num_targets                                           0.051  \n",
       "nadac_cost_per_unit                                   0.044  \n",
       "Liquid                                               -0.066  \n",
       "Solid                                                 0.066  \n",
       "Organic compounds                                       nan  \n",
       "affected_humans_other_mammals                        -0.070  \n",
       "investigational_drug                                  0.036  \n",
       "illicit_drug                                          0.050  \n",
       "vet_approved_drug                                    -0.006  \n",
       "nutraceutical_drug                                   -0.099  \n",
       "withdrawn_drug                                        0.050  \n",
       "generic_drug                                          0.024  \n",
       "aromatic_molecular_framework                          1.000  \n",
       "\n",
       "[24 rows x 24 columns]"
      ]
     },
     "execution_count": 32,
     "metadata": {},
     "output_type": "execute_result"
    }
   ],
   "source": [
    "df.corr()"
   ]
  },
  {
   "cell_type": "markdown",
   "metadata": {},
   "source": [
    "### **Train Test Split**"
   ]
  },
  {
   "cell_type": "code",
   "execution_count": 32,
   "metadata": {},
   "outputs": [],
   "source": [
    "feature_names = ['avg_molecular_weight', 'num_clinical_trials',\n",
    "                 'num_dosage_forms', 'num_drug_interactions',\n",
    "                 'num_food_interactions', 'num_manufacturers_for_chem',\n",
    "                 'num_packagers_for_chem', 'num_patents_on_chem',\n",
    "                 'num_targets', 'nadac_cost_per_unit', 'Solid',\n",
    "                 'affected_humans_other_mammals', 'investigational_drug',\n",
    "                 'vet_approved_drug', 'illicit_drug', 'nutraceutical_drug',\n",
    "                 'generic_drug', 'aromatic_molecular_framework']\n",
    "\n",
    "X = df[feature_names]\n",
    "y = df['grx_lowest_price_adj']\n",
    "\n",
    "X_train, X_test, y_train, y_test = train_test_split(X, y, test_size = 0.4)"
   ]
  },
  {
   "cell_type": "markdown",
   "metadata": {},
   "source": [
    "### **Standard Scaler**"
   ]
  },
  {
   "cell_type": "markdown",
   "metadata": {},
   "source": [
    "First use a standard scaler to level all features in the model."
   ]
  },
  {
   "cell_type": "code",
   "execution_count": 33,
   "metadata": {},
   "outputs": [],
   "source": [
    "from sklearn.preprocessing import StandardScaler"
   ]
  },
  {
   "cell_type": "code",
   "execution_count": 34,
   "metadata": {},
   "outputs": [],
   "source": [
    "scaler = StandardScaler()\n",
    "X_train_scaled = scaler.fit_transform(X_train)\n",
    "X_test_scaled = scaler.transform(X_test)"
   ]
  },
  {
   "cell_type": "markdown",
   "metadata": {},
   "source": [
    "Create a dataframe to see scaled features."
   ]
  },
  {
   "cell_type": "code",
   "execution_count": 35,
   "metadata": {},
   "outputs": [
    {
     "data": {
      "text/html": [
       "<div>\n",
       "<style scoped>\n",
       "    .dataframe tbody tr th:only-of-type {\n",
       "        vertical-align: middle;\n",
       "    }\n",
       "\n",
       "    .dataframe tbody tr th {\n",
       "        vertical-align: top;\n",
       "    }\n",
       "\n",
       "    .dataframe thead th {\n",
       "        text-align: right;\n",
       "    }\n",
       "</style>\n",
       "<table border=\"1\" class=\"dataframe\">\n",
       "  <thead>\n",
       "    <tr style=\"text-align: right;\">\n",
       "      <th></th>\n",
       "      <th>avg_molecular_weight</th>\n",
       "      <th>num_clinical_trials</th>\n",
       "      <th>num_dosage_forms</th>\n",
       "      <th>num_drug_interactions</th>\n",
       "      <th>num_food_interactions</th>\n",
       "      <th>num_manufacturers_for_chem</th>\n",
       "      <th>num_packagers_for_chem</th>\n",
       "      <th>num_patents_on_chem</th>\n",
       "      <th>num_targets</th>\n",
       "      <th>nadac_cost_per_unit</th>\n",
       "      <th>Solid</th>\n",
       "      <th>affected_humans_other_mammals</th>\n",
       "      <th>investigational_drug</th>\n",
       "      <th>vet_approved_drug</th>\n",
       "      <th>illicit_drug</th>\n",
       "      <th>nutraceutical_drug</th>\n",
       "      <th>generic_drug</th>\n",
       "      <th>aromatic_molecular_framework</th>\n",
       "    </tr>\n",
       "  </thead>\n",
       "  <tbody>\n",
       "    <tr>\n",
       "      <th>0</th>\n",
       "      <td>0.034</td>\n",
       "      <td>-0.603</td>\n",
       "      <td>-0.673</td>\n",
       "      <td>1.581</td>\n",
       "      <td>-1.116</td>\n",
       "      <td>-0.361</td>\n",
       "      <td>-0.643</td>\n",
       "      <td>-0.607</td>\n",
       "      <td>-0.382</td>\n",
       "      <td>-0.247</td>\n",
       "      <td>0.152</td>\n",
       "      <td>0.448</td>\n",
       "      <td>1.016</td>\n",
       "      <td>-0.361</td>\n",
       "      <td>-0.218</td>\n",
       "      <td>-0.099</td>\n",
       "      <td>0.253</td>\n",
       "      <td>0.435</td>\n",
       "    </tr>\n",
       "    <tr>\n",
       "      <th>1</th>\n",
       "      <td>0.124</td>\n",
       "      <td>-0.641</td>\n",
       "      <td>-0.476</td>\n",
       "      <td>-1.911</td>\n",
       "      <td>-1.116</td>\n",
       "      <td>0.049</td>\n",
       "      <td>0.371</td>\n",
       "      <td>-0.607</td>\n",
       "      <td>-0.382</td>\n",
       "      <td>-0.249</td>\n",
       "      <td>0.152</td>\n",
       "      <td>0.448</td>\n",
       "      <td>1.016</td>\n",
       "      <td>-0.361</td>\n",
       "      <td>-0.218</td>\n",
       "      <td>-0.099</td>\n",
       "      <td>0.253</td>\n",
       "      <td>0.435</td>\n",
       "    </tr>\n",
       "    <tr>\n",
       "      <th>2</th>\n",
       "      <td>-0.973</td>\n",
       "      <td>-0.473</td>\n",
       "      <td>-0.476</td>\n",
       "      <td>-0.131</td>\n",
       "      <td>-0.400</td>\n",
       "      <td>-0.053</td>\n",
       "      <td>-0.562</td>\n",
       "      <td>-0.607</td>\n",
       "      <td>-0.382</td>\n",
       "      <td>-0.053</td>\n",
       "      <td>0.152</td>\n",
       "      <td>0.448</td>\n",
       "      <td>1.016</td>\n",
       "      <td>-0.361</td>\n",
       "      <td>-0.218</td>\n",
       "      <td>-0.099</td>\n",
       "      <td>0.253</td>\n",
       "      <td>0.435</td>\n",
       "    </tr>\n",
       "    <tr>\n",
       "      <th>3</th>\n",
       "      <td>0.787</td>\n",
       "      <td>0.036</td>\n",
       "      <td>-0.427</td>\n",
       "      <td>-1.380</td>\n",
       "      <td>-1.116</td>\n",
       "      <td>-0.771</td>\n",
       "      <td>-0.927</td>\n",
       "      <td>-0.041</td>\n",
       "      <td>-0.382</td>\n",
       "      <td>0.145</td>\n",
       "      <td>0.152</td>\n",
       "      <td>-2.232</td>\n",
       "      <td>1.016</td>\n",
       "      <td>-0.361</td>\n",
       "      <td>-0.218</td>\n",
       "      <td>-0.099</td>\n",
       "      <td>0.253</td>\n",
       "      <td>0.435</td>\n",
       "    </tr>\n",
       "    <tr>\n",
       "      <th>4</th>\n",
       "      <td>-0.358</td>\n",
       "      <td>0.743</td>\n",
       "      <td>-0.230</td>\n",
       "      <td>2.126</td>\n",
       "      <td>1.032</td>\n",
       "      <td>-0.668</td>\n",
       "      <td>-0.318</td>\n",
       "      <td>-0.230</td>\n",
       "      <td>-0.382</td>\n",
       "      <td>-0.251</td>\n",
       "      <td>0.152</td>\n",
       "      <td>0.448</td>\n",
       "      <td>-0.984</td>\n",
       "      <td>-0.361</td>\n",
       "      <td>-0.218</td>\n",
       "      <td>-0.099</td>\n",
       "      <td>0.253</td>\n",
       "      <td>0.435</td>\n",
       "    </tr>\n",
       "  </tbody>\n",
       "</table>\n",
       "</div>"
      ],
      "text/plain": [
       "   avg_molecular_weight  num_clinical_trials  num_dosage_forms  \\\n",
       "0                 0.034               -0.603            -0.673   \n",
       "1                 0.124               -0.641            -0.476   \n",
       "2                -0.973               -0.473            -0.476   \n",
       "3                 0.787                0.036            -0.427   \n",
       "4                -0.358                0.743            -0.230   \n",
       "\n",
       "   num_drug_interactions  num_food_interactions  num_manufacturers_for_chem  \\\n",
       "0                  1.581                 -1.116                      -0.361   \n",
       "1                 -1.911                 -1.116                       0.049   \n",
       "2                 -0.131                 -0.400                      -0.053   \n",
       "3                 -1.380                 -1.116                      -0.771   \n",
       "4                  2.126                  1.032                      -0.668   \n",
       "\n",
       "   num_packagers_for_chem  num_patents_on_chem  num_targets  \\\n",
       "0                  -0.643               -0.607       -0.382   \n",
       "1                   0.371               -0.607       -0.382   \n",
       "2                  -0.562               -0.607       -0.382   \n",
       "3                  -0.927               -0.041       -0.382   \n",
       "4                  -0.318               -0.230       -0.382   \n",
       "\n",
       "   nadac_cost_per_unit  Solid  affected_humans_other_mammals  \\\n",
       "0               -0.247  0.152                          0.448   \n",
       "1               -0.249  0.152                          0.448   \n",
       "2               -0.053  0.152                          0.448   \n",
       "3                0.145  0.152                         -2.232   \n",
       "4               -0.251  0.152                          0.448   \n",
       "\n",
       "   investigational_drug  vet_approved_drug  illicit_drug  nutraceutical_drug  \\\n",
       "0                 1.016             -0.361        -0.218              -0.099   \n",
       "1                 1.016             -0.361        -0.218              -0.099   \n",
       "2                 1.016             -0.361        -0.218              -0.099   \n",
       "3                 1.016             -0.361        -0.218              -0.099   \n",
       "4                -0.984             -0.361        -0.218              -0.099   \n",
       "\n",
       "   generic_drug  aromatic_molecular_framework  \n",
       "0         0.253                         0.435  \n",
       "1         0.253                         0.435  \n",
       "2         0.253                         0.435  \n",
       "3         0.253                         0.435  \n",
       "4         0.253                         0.435  "
      ]
     },
     "execution_count": 35,
     "metadata": {},
     "output_type": "execute_result"
    }
   ],
   "source": [
    "df_scaled = pd.DataFrame(X_train_scaled, columns = feature_names)\n",
    "df_scaled.head()"
   ]
  },
  {
   "cell_type": "markdown",
   "metadata": {},
   "source": [
    "### **Linear Regression**"
   ]
  },
  {
   "cell_type": "markdown",
   "metadata": {},
   "source": [
    "***Will multiple linear regression allow for an accurate model to predict the price per pill of prescription drugs?***"
   ]
  },
  {
   "cell_type": "code",
   "execution_count": 36,
   "metadata": {},
   "outputs": [],
   "source": [
    "from sklearn.linear_model import LinearRegression"
   ]
  },
  {
   "cell_type": "markdown",
   "metadata": {},
   "source": [
    "Instantiate LinearRegression() and fit our data to a new model."
   ]
  },
  {
   "cell_type": "code",
   "execution_count": 37,
   "metadata": {},
   "outputs": [],
   "source": [
    "linreg = LinearRegression()\n",
    "linreg.fit(X_train_scaled, y_train)\n",
    "y_pred_train = linreg.predict(X_train_scaled)"
   ]
  },
  {
   "cell_type": "markdown",
   "metadata": {},
   "source": [
    "*Is there a linear relationship between our training values and our predicted values?*"
   ]
  },
  {
   "cell_type": "code",
   "execution_count": 38,
   "metadata": {},
   "outputs": [
    {
     "data": {
      "image/png": "[encoded data removed]",
      "text/plain": [
       "<Figure size 432x432 with 3 Axes>"
      ]
     },
     "metadata": {},
     "output_type": "display_data"
    }
   ],
   "source": [
    "sns.set_style('darkgrid')\n",
    "\n",
    "ax = sns.jointplot(x = y_train, y = y_pred_train, \n",
    "                   kind = 'reg', height = 6, ratio = 6);\n",
    "ax.set_axis_labels('Y Train', 'Predicted Y')\n",
    "regline = ax.ax_joint.get_lines()[0]\n",
    "regline.set_color('red')"
   ]
  },
  {
   "cell_type": "code",
   "execution_count": 39,
   "metadata": {
    "scrolled": true
   },
   "outputs": [
    {
     "name": "stderr",
     "output_type": "stream",
     "text": [
      "/Users/charlieyaris/.venvs/lpthw/lib/python3.6/site-packages/sklearn/cross_validation.py:41: DeprecationWarning: This module was deprecated in version 0.18 in favor of the model_selection module into which all the refactored classes and functions are moved. Also note that the interface of the new CV iterators are different from that of this module. This module will be removed in 0.20.\n",
      "  \"This module will be removed in 0.20.\", DeprecationWarning)\n"
     ]
    }
   ],
   "source": [
    "from sklearn.cross_validation import cross_val_score"
   ]
  },
  {
   "cell_type": "markdown",
   "metadata": {},
   "source": [
    "Perform cross-validation to check for over-fitting/under-fitting."
   ]
  },
  {
   "cell_type": "code",
   "execution_count": 40,
   "metadata": {},
   "outputs": [
    {
     "name": "stdout",
     "output_type": "stream",
     "text": [
      "Avg RMSE for 10 folds Cross-Val:         38.52\n",
      "Std Dev of RMSE for 10 folds Cross-Val:  33.9\n"
     ]
    }
   ],
   "source": [
    "scores = cross_val_score(linreg, X_train, y_train, cv = 10, scoring = 'neg_mean_squared_error')\n",
    "print('Avg RMSE for 10 folds Cross-Val:        ', np.sqrt(-scores).mean().round(2))\n",
    "print('Std Dev of RMSE for 10 folds Cross-Val: ', np.sqrt(-scores).std().round(2))"
   ]
  },
  {
   "cell_type": "code",
   "execution_count": 41,
   "metadata": {},
   "outputs": [],
   "source": [
    "from sklearn.utils import resample"
   ]
  },
  {
   "cell_type": "markdown",
   "metadata": {},
   "source": [
    "Create a dataframe to print the effect/error of the current model."
   ]
  },
  {
   "cell_type": "code",
   "execution_count": 42,
   "metadata": {
    "scrolled": true
   },
   "outputs": [
    {
     "name": "stdout",
     "output_type": "stream",
     "text": [
      "Multiple Linear Regression Coefficients\n",
      "Simple Linear Regression, Polynomial Degree 1\n",
      "Alpha = 0\n",
      "Intercept: 15.87\n",
      "Total Non-Zero Coefficients: 18\n",
      "\n",
      "                               effect  error  abs_effect\n",
      "nadac_cost_per_unit            58.410  7.000      58.410\n",
      "vet_approved_drug               4.950  5.000       4.950\n",
      "num_drug_interactions          -2.300  3.000       2.300\n",
      "num_food_interactions           1.640  3.000       1.640\n",
      "num_clinical_trials            -1.450  3.000       1.450\n",
      "affected_humans_other_mammals  -1.320  2.000       1.320\n",
      "num_packagers_for_chem         -1.160  3.000       1.160\n",
      "num_manufacturers_for_chem     -1.110  1.000       1.110\n",
      "avg_molecular_weight            1.010  3.000       1.010\n",
      "aromatic_molecular_framework   -0.870  1.000       0.870\n",
      "Solid                           0.850  1.000       0.850\n",
      "generic_drug                   -0.680  1.000       0.680\n",
      "investigational_drug           -0.550  2.000       0.550\n",
      "num_dosage_forms               -0.540  1.000       0.540\n",
      "illicit_drug                    0.540  1.000       0.540\n",
      "num_targets                     0.270  1.000       0.270\n",
      "num_patents_on_chem            -0.260  2.000       0.260\n",
      "nutraceutical_drug             -0.110  1.000       0.110\n"
     ]
    }
   ],
   "source": [
    "print('Multiple Linear Regression Coefficients\\nSimple Linear Regression, Polynomial Degree 1\\nAlpha = 0')\n",
    "print('Intercept:', linreg.intercept_.round(2))\n",
    "err = np.std([linreg.fit(*resample(X_train_scaled, y_train)).coef_\n",
    "              for i in range(1000)], 0)\n",
    "cdf = pd.DataFrame({'effect': linreg.coef_.round(2),\n",
    "                    'error': err.round(0)}, feature_names)\n",
    "print('Total Non-Zero Coefficients: {}\\n'.format(len(linreg.coef_.round(2))))\n",
    "cdf['abs_effect'] = abs(cdf['effect'])\n",
    "print(cdf.sort_values(by = 'abs_effect', ascending = False))"
   ]
  },
  {
   "cell_type": "code",
   "execution_count": 43,
   "metadata": {},
   "outputs": [],
   "source": [
    "from sklearn import metrics"
   ]
  },
  {
   "cell_type": "code",
   "execution_count": 44,
   "metadata": {
    "scrolled": true
   },
   "outputs": [
    {
     "name": "stdout",
     "output_type": "stream",
     "text": [
      "Train R^2:   0.61\n",
      "Train MAE:  14.55\n",
      "Train MSE:  2267.08\n",
      "Train RMSE: 47.61\n"
     ]
    }
   ],
   "source": [
    "print('Train R^2:  ', linreg.score(X_train_scaled, y_train).round(2))\n",
    "print('Train MAE: ', metrics.mean_absolute_error(y_train, y_pred_train).round(2))\n",
    "print('Train MSE: ', metrics.mean_squared_error(y_train, y_pred_train).round(2))\n",
    "print('Train RMSE:', np.sqrt(metrics.mean_squared_error(y_train, y_pred_train)).round(2))"
   ]
  },
  {
   "cell_type": "markdown",
   "metadata": {},
   "source": [
    "### **Lasso Regression**"
   ]
  },
  {
   "cell_type": "markdown",
   "metadata": {},
   "source": [
    "***Will multiple lasso regression allow for an accurate model to predict the price per pill of prescription drugs?***"
   ]
  },
  {
   "cell_type": "code",
   "execution_count": 45,
   "metadata": {},
   "outputs": [],
   "source": [
    "from sklearn.linear_model import Lasso"
   ]
  },
  {
   "cell_type": "code",
   "execution_count": 46,
   "metadata": {},
   "outputs": [],
   "source": [
    "linlasso = Lasso()\n",
    "linlasso.fit(X_train_scaled, y_train)\n",
    "y_pred_train = linlasso.predict(X_train_scaled)"
   ]
  },
  {
   "cell_type": "code",
   "execution_count": 47,
   "metadata": {},
   "outputs": [],
   "source": [
    "from sklearn.model_selection import GridSearchCV"
   ]
  },
  {
   "cell_type": "markdown",
   "metadata": {},
   "source": [
    "Perform cross-validation to optimize alpha for lasso model."
   ]
  },
  {
   "cell_type": "code",
   "execution_count": 48,
   "metadata": {},
   "outputs": [
    {
     "data": {
      "text/plain": [
       "GridSearchCV(cv=15, error_score='raise',\n",
       "       estimator=Lasso(alpha=1.0, copy_X=True, fit_intercept=True, max_iter=1000,\n",
       "   normalize=False, positive=False, precompute=False, random_state=None,\n",
       "   selection='cyclic', tol=0.0001, warm_start=False),\n",
       "       fit_params=None, iid=True, n_jobs=1,\n",
       "       param_grid={'alpha': [1e-05, 0.001, 0.1, 0.9, 1, 1.1, 1.2, 1.3, 1.4, 1.5, 1.6, 2, 3, 4, 5, 6, 7, 8, 9, 10, 11, 12, 13, 14, 15, 16, 17, 18, 19, 20, 21, 22, 23, 24, 25, 26, 27, 28, 29, 30, 31, 32, 33, 34, 35, 36, 37, 38, 39, 40, 50, 60, 70, 80, 90, 100.0, 125, 130, 135, 140, 145, 150, 155, 165, 170, 175, 200, 1000.0, 10000.0]},\n",
       "       pre_dispatch='2*n_jobs', refit=True, return_train_score='warn',\n",
       "       scoring='neg_mean_squared_error', verbose=0)"
      ]
     },
     "execution_count": 48,
     "metadata": {},
     "output_type": "execute_result"
    }
   ],
   "source": [
    "param_grid = {'alpha': [1e-5, 1e-3, 1e-1, 0.9, 1, 1.1, 1.2, 1.3, 1.4, 1.5, 1.6, 2, 3, 4, 5, 6, 7, 8, 9,\n",
    "                        10, 11, 12, 13, 14, 15, 16, 17, 18, 19, 20, 21, 22, 23, 24, 25, 26, 27, 28, 29, \n",
    "                        30, 31, 32, 33, 34, 35, 36, 37, 38, 39, 40, 50, 60, 70, 80, 90, 1e2, 125, 130, 135, 140,\n",
    "                        145, 150, 155, 165, 170, 175, 200, 1e3, 1e4]}\n",
    "grid = GridSearchCV(linlasso, param_grid, cv = 15, scoring = 'neg_mean_squared_error', n_jobs = 1)\n",
    "grid.fit(X_train_scaled, y_train)"
   ]
  },
  {
   "cell_type": "code",
   "execution_count": 49,
   "metadata": {
    "scrolled": false
   },
   "outputs": [
    {
     "name": "stdout",
     "output_type": "stream",
     "text": [
      "{'alpha': 1.3} \n",
      "\n",
      " RMSE: 49.3722962491771\n"
     ]
    }
   ],
   "source": [
    "print(grid.best_params_, '\\n\\n', 'RMSE:', np.sqrt(-grid.best_score_))"
   ]
  },
  {
   "cell_type": "markdown",
   "metadata": {},
   "source": [
    "Create new lasso model at the optimized value of alpha."
   ]
  },
  {
   "cell_type": "code",
   "execution_count": 50,
   "metadata": {},
   "outputs": [],
   "source": [
    "linlasso = Lasso(alpha = 1.3)\n",
    "linlasso.fit(X_train_scaled, y_train)\n",
    "y_pred_train = linlasso.predict(X_train_scaled)\n",
    "y_pred_test = linlasso.predict(X_test_scaled)"
   ]
  },
  {
   "cell_type": "markdown",
   "metadata": {},
   "source": [
    "*Is there a linear relationship between our training values and our predicted values?*"
   ]
  },
  {
   "cell_type": "code",
   "execution_count": 51,
   "metadata": {},
   "outputs": [
    {
     "data": {
      "image/png": "[encoded data removed]",
      "text/plain": [
       "<Figure size 432x432 with 3 Axes>"
      ]
     },
     "metadata": {},
     "output_type": "display_data"
    }
   ],
   "source": [
    "sns.set_style('darkgrid')\n",
    "\n",
    "ax = sns.jointplot(x = y_train, y = y_pred_train, \n",
    "                   kind = 'reg', height = 6, ratio = 6);\n",
    "ax.set_axis_labels('Y Train', 'Predicted Y')\n",
    "regline = ax.ax_joint.get_lines()[0]\n",
    "regline.set_color('red')"
   ]
  },
  {
   "cell_type": "markdown",
   "metadata": {},
   "source": [
    "Create a dataframe to print the effect/error of the current model."
   ]
  },
  {
   "cell_type": "code",
   "execution_count": 52,
   "metadata": {},
   "outputs": [
    {
     "name": "stdout",
     "output_type": "stream",
     "text": [
      "Multiple Linear Regression Coefficients\n",
      "Lasso Regression, Polynomial Degree 1\n",
      "Alpha = 1.4\n",
      "Intercept: 15.87\n",
      "Total Non-Zero Coefficients: 17\n",
      "Total Zero Coefficients: 1\n",
      "\n",
      "                               effect  error  abs_effect\n",
      "nadac_cost_per_unit            54.760  6.400      54.760\n",
      "vet_approved_drug              19.250  4.970      19.250\n",
      "num_packagers_for_chem        -10.270  2.240      10.270\n",
      "num_drug_interactions          -9.560  2.650       9.560\n",
      "num_food_interactions           6.580  1.720       6.580\n",
      "avg_molecular_weight           -5.990  1.590       5.990\n",
      "affected_humans_other_mammals  -5.930  1.920       5.930\n",
      "investigational_drug            5.610  1.390       5.610\n",
      "num_manufacturers_for_chem     -2.970  0.920       2.970\n",
      "generic_drug                    2.250  0.240       2.250\n",
      "num_patents_on_chem            -1.460  0.460       1.460\n",
      "num_targets                     0.800  0.280       0.800\n",
      "illicit_drug                    0.660  0.190       0.660\n",
      "num_clinical_trials            -0.640  0.930       0.640\n",
      "nutraceutical_drug             -0.560  0.080       0.560\n",
      "num_dosage_forms               -0.180  0.310       0.180\n",
      "aromatic_molecular_framework    0.140  0.170       0.140\n"
     ]
    }
   ],
   "source": [
    "print('Multiple Linear Regression Coefficients\\nLasso Regression, Polynomial Degree 1\\nAlpha = 1.4')\n",
    "print('Intercept:', linlasso.intercept_.round(2))\n",
    "err = np.std([linlasso.fit(*resample(X_train_scaled, y_train)).coef_\n",
    "              for i in range(1000)], 0)\n",
    "cdf = pd.DataFrame({'effect': linlasso.coef_.round(2),\n",
    "                    'error': err.round(2)}, feature_names)\n",
    "print('Total Non-Zero Coefficients: {}'.format(len(cdf[cdf['effect'] != 0]['effect'].round(2))))\n",
    "print('Total Zero Coefficients: {}\\n'.format(len(cdf[cdf['effect'] == 0]['effect'].round(2))))\n",
    "cdf['abs_effect'] = abs(cdf['effect'])\n",
    "print(cdf[cdf['effect'] != 0].sort_values(by = 'abs_effect', ascending = False))"
   ]
  },
  {
   "cell_type": "code",
   "execution_count": 53,
   "metadata": {
    "scrolled": false
   },
   "outputs": [
    {
     "name": "stdout",
     "output_type": "stream",
     "text": [
      "Train R^2:   0.57\n",
      "Train MAE:  12.69\n",
      "Train MSE:  2289.48\n",
      "Train RMSE: 47.85\n"
     ]
    }
   ],
   "source": [
    "print('Train R^2:  ', linlasso.score(X_train_scaled, y_train).round(2))\n",
    "print('Train MAE: ', metrics.mean_absolute_error(y_train, y_pred_train).round(2))\n",
    "print('Train MSE: ', metrics.mean_squared_error(y_train, y_pred_train).round(2))\n",
    "print('Train RMSE:', np.sqrt(metrics.mean_squared_error(y_train, y_pred_train)).round(2))"
   ]
  },
  {
   "cell_type": "markdown",
   "metadata": {},
   "source": [
    "### **Ridge Regression**"
   ]
  },
  {
   "cell_type": "markdown",
   "metadata": {},
   "source": [
    "***Will multiple ridge regression allow for an accurate model to predict the price per pill of prescription drugs?***"
   ]
  },
  {
   "cell_type": "code",
   "execution_count": 54,
   "metadata": {},
   "outputs": [],
   "source": [
    "from sklearn.linear_model import Ridge"
   ]
  },
  {
   "cell_type": "code",
   "execution_count": 55,
   "metadata": {},
   "outputs": [],
   "source": [
    "linridge = Ridge()\n",
    "linridge.fit(X_train_scaled, y_train)\n",
    "y_pred_train = linridge.predict(X_train_scaled)\n",
    "y_pred_test = linridge.predict(X_test_scaled)"
   ]
  },
  {
   "cell_type": "code",
   "execution_count": 56,
   "metadata": {},
   "outputs": [],
   "source": [
    "from sklearn.model_selection import GridSearchCV"
   ]
  },
  {
   "cell_type": "markdown",
   "metadata": {},
   "source": [
    "Perform cross-validation to optimize alpha for ridge model."
   ]
  },
  {
   "cell_type": "code",
   "execution_count": 57,
   "metadata": {},
   "outputs": [
    {
     "data": {
      "text/plain": [
       "GridSearchCV(cv=15, error_score='raise',\n",
       "       estimator=Ridge(alpha=1.0, copy_X=True, fit_intercept=True, max_iter=None,\n",
       "   normalize=False, random_state=None, solver='auto', tol=0.001),\n",
       "       fit_params=None, iid=True, n_jobs=1,\n",
       "       param_grid={'alpha': [0.0001, 1e-05, 0.001, 0.1, 1, 5, 6, 7, 8, 9, 10, 11, 12, 13, 14, 15, 16, 17, 18, 19, 20, 21, 30, 40, 50, 60, 70, 80, 90, 100.0, 125, 130, 135, 140, 145, 150, 155, 165, 170, 175, 200, 600, 690, 691, 692, 693, 694, 695, 696, 697, 698, 699, 700, 705, 710, 800, 825, 850, 874, 875, 876, 877, 888, 889, 890, 891, 892, 893, 894, 895, 896, 897, 898, 899, 900, 1000.0, 1100, 10000.0]},\n",
       "       pre_dispatch='2*n_jobs', refit=True, return_train_score='warn',\n",
       "       scoring='neg_mean_squared_error', verbose=0)"
      ]
     },
     "execution_count": 57,
     "metadata": {},
     "output_type": "execute_result"
    }
   ],
   "source": [
    "param_grid = {'alpha': [1e-4, 1e-5, 1e-3, 1e-1, 1, 5, 6, 7, 8, 9, 10,\n",
    "                        11, 12, 13, 14, 15, 16, 17, 18, 19, 20,\n",
    "                        21, 30, 40, 50, 60, 70, 80, 90, 1e2, 125,\n",
    "                        130, 135, 140, 145, 150, 155, 165, 170, 175,\n",
    "                        200, 600, 690, 691, 692, 693, 694, 695, 696,\n",
    "                        697, 698, 699,700, 705, 710, 800, 825, 850,\n",
    "                        874, 875, 876, 877, 888, 889, 890, 891, 892,\n",
    "                        893, 894, 895, 896, 897, 898, 899, 900, 1e3, 1100, 1e4]}\n",
    "grid = GridSearchCV(linridge, param_grid, cv = 15, scoring = 'neg_mean_squared_error', n_jobs = 1)\n",
    "grid.fit(X_train_scaled, y_train)"
   ]
  },
  {
   "cell_type": "code",
   "execution_count": 58,
   "metadata": {
    "scrolled": false
   },
   "outputs": [
    {
     "name": "stdout",
     "output_type": "stream",
     "text": [
      "{'alpha': 7} \n",
      "\n",
      " RMSE: 49.55719262436383\n"
     ]
    }
   ],
   "source": [
    "print(grid.best_params_, '\\n\\n', 'RMSE:', np.sqrt(-grid.best_score_))"
   ]
  },
  {
   "cell_type": "markdown",
   "metadata": {},
   "source": [
    "Create new ridge model at the optimized value of alpha."
   ]
  },
  {
   "cell_type": "code",
   "execution_count": 59,
   "metadata": {},
   "outputs": [],
   "source": [
    "linridge = Ridge(alpha = 7)\n",
    "linridge.fit(X_train_scaled, y_train)\n",
    "y_pred_train = linridge.predict(X_train_scaled)\n",
    "y_pred_test = linridge.predict(X_test_scaled)"
   ]
  },
  {
   "cell_type": "markdown",
   "metadata": {},
   "source": [
    "*Is there a linear relationship between our training values and our predicted values?*"
   ]
  },
  {
   "cell_type": "code",
   "execution_count": 60,
   "metadata": {
    "scrolled": true
   },
   "outputs": [
    {
     "data": {
      "image/png": "[encoded data removed]",
      "text/plain": [
       "<Figure size 432x432 with 3 Axes>"
      ]
     },
     "metadata": {},
     "output_type": "display_data"
    }
   ],
   "source": [
    "sns.set_style('darkgrid')\n",
    "\n",
    "ax = sns.jointplot(x = y_test, y = y_pred_test, \n",
    "                   kind = 'reg', height = 6, ratio = 6);\n",
    "ax.set_axis_labels('Y Test', 'Predicted Y')\n",
    "regline = ax.ax_joint.get_lines()[0]\n",
    "regline.set_color('red')"
   ]
  },
  {
   "cell_type": "markdown",
   "metadata": {},
   "source": [
    "Create a dataframe to print the effect/error of the current model."
   ]
  },
  {
   "cell_type": "code",
   "execution_count": 61,
   "metadata": {},
   "outputs": [
    {
     "name": "stdout",
     "output_type": "stream",
     "text": [
      "Multiple Linear Regression Coefficients\n",
      "RIdge Regression, Polynomial Degree 1\n",
      "Alpha = 7\n",
      "Intercept: 15.87\n",
      "Total Non-Zero Coefficients: 18\n",
      "Total Zero Coefficients: 0\n",
      "\n",
      "                               effect  error  abs_effect\n",
      "nadac_cost_per_unit            52.290  6.210      52.290\n",
      "vet_approved_drug               8.500  5.340       8.500\n",
      "num_drug_interactions          -6.680  2.880       6.680\n",
      "affected_humans_other_mammals  -3.470  2.040       3.470\n",
      "num_food_interactions           3.330  2.510       3.330\n",
      "num_packagers_for_chem         -2.800  2.930       2.800\n",
      "num_manufacturers_for_chem     -2.750  1.340       2.750\n",
      "avg_molecular_weight           -1.900  2.410       1.900\n",
      "investigational_drug           -1.260  2.170       1.260\n",
      "num_targets                     1.040  1.020       1.040\n",
      "illicit_drug                    0.830  0.710       0.830\n",
      "num_clinical_trials             0.660  2.600       0.660\n",
      "aromatic_molecular_framework   -0.620  0.880       0.620\n",
      "nutraceutical_drug             -0.570  0.410       0.570\n",
      "num_dosage_forms                0.530  1.040       0.530\n",
      "Solid                           0.360  0.520       0.360\n",
      "num_patents_on_chem            -0.100  1.430       0.100\n",
      "generic_drug                   -0.030  0.860       0.030\n"
     ]
    }
   ],
   "source": [
    "print('Multiple Linear Regression Coefficients\\nRIdge Regression, Polynomial Degree 1\\nAlpha = 7')\n",
    "print('Intercept:', linridge.intercept_.round(2))\n",
    "err = np.std([linridge.fit(*resample(X_train_scaled, y_train)).coef_\n",
    "              for i in range(1000)], 0)\n",
    "cdf = pd.DataFrame({'effect': linridge.coef_.round(2),\n",
    "                    'error': err.round(2)}, feature_names)\n",
    "print('Total Non-Zero Coefficients: {}'.format(len(cdf[cdf['effect'] != 0]['effect'].round(2))))\n",
    "print('Total Zero Coefficients: {}\\n'.format(len(cdf[cdf['effect'] == 0]['effect'].round(2))))\n",
    "cdf['abs_effect'] = abs(cdf['effect'])\n",
    "print(cdf[cdf['effect'] != 0].sort_values(by = 'abs_effect', ascending = False))"
   ]
  },
  {
   "cell_type": "code",
   "execution_count": 62,
   "metadata": {
    "scrolled": true
   },
   "outputs": [
    {
     "name": "stdout",
     "output_type": "stream",
     "text": [
      "Train R^2:   0.6\n",
      "Train MAE:  14.5\n",
      "Train MSE:  2267.58\n",
      "Train RMSE: 47.62\n"
     ]
    }
   ],
   "source": [
    "print('Train R^2:  ', linridge.score(X_train_scaled, y_train).round(2))\n",
    "print('Train MAE: ', metrics.mean_absolute_error(y_train, y_pred_train).round(2))\n",
    "print('Train MSE: ', metrics.mean_squared_error(y_train, y_pred_train).round(2))\n",
    "print('Train RMSE:', np.sqrt(metrics.mean_squared_error(y_train, y_pred_train)).round(2))"
   ]
  },
  {
   "cell_type": "markdown",
   "metadata": {},
   "source": [
    "Chosen model for testing is multiple linear regression"
   ]
  },
  {
   "cell_type": "markdown",
   "metadata": {},
   "source": [
    "*Lowest RMSE across all models.*"
   ]
  },
  {
   "cell_type": "code",
   "execution_count": 63,
   "metadata": {},
   "outputs": [],
   "source": [
    "linreg = LinearRegression()\n",
    "linreg.fit(X_train_scaled, y_train)\n",
    "y_pred_test = linreg.predict(X_test_scaled)"
   ]
  },
  {
   "cell_type": "code",
   "execution_count": 64,
   "metadata": {},
   "outputs": [
    {
     "name": "stdout",
     "output_type": "stream",
     "text": [
      "Avg RMSE for 10 folds Cross-Val:         30.96\n",
      "Std Dev of RMSE for 10 folds Cross-Val:  48.66\n"
     ]
    }
   ],
   "source": [
    "scores = cross_val_score(linreg, X, y, cv = 10, scoring = 'neg_mean_squared_error')\n",
    "print('Avg RMSE for 10 folds Cross-Val:        ', np.sqrt(-scores).mean().round(2))\n",
    "print('Std Dev of RMSE for 10 folds Cross-Val: ', np.sqrt(-scores).std().round(2))"
   ]
  },
  {
   "cell_type": "markdown",
   "metadata": {},
   "source": [
    "Create a dataframe to print the effect/error of the current model."
   ]
  },
  {
   "cell_type": "code",
   "execution_count": 65,
   "metadata": {
    "scrolled": true
   },
   "outputs": [
    {
     "name": "stdout",
     "output_type": "stream",
     "text": [
      "Multiple Linear Regression Coefficients\n",
      "Simple Linear Regression, Polynomial Degree 1\n",
      "Alpha = 0\n",
      "Intercept: 15.87\n",
      "Total Non-Zero Coefficients: 18\n",
      "\n",
      "                               effect  error  abs_effect\n",
      "nadac_cost_per_unit            58.240  6.000      58.240\n",
      "vet_approved_drug              10.910  5.000      10.910\n",
      "num_drug_interactions          -7.860  3.000       7.860\n",
      "num_food_interactions           5.620  3.000       5.620\n",
      "avg_molecular_weight           -4.230  2.000       4.230\n",
      "investigational_drug            3.820  2.000       3.820\n",
      "num_packagers_for_chem         -3.470  3.000       3.470\n",
      "num_manufacturers_for_chem     -3.420  1.000       3.420\n",
      "affected_humans_other_mammals  -3.260  2.000       3.260\n",
      "num_clinical_trials             2.750  3.000       2.750\n",
      "num_patents_on_chem            -2.010  2.000       2.010\n",
      "num_targets                     1.750  1.000       1.750\n",
      "nutraceutical_drug              1.670  1.000       1.670\n",
      "aromatic_molecular_framework    1.570  1.000       1.570\n",
      "illicit_drug                    1.190  1.000       1.190\n",
      "num_dosage_forms               -1.160  1.000       1.160\n",
      "generic_drug                   -0.750  1.000       0.750\n",
      "Solid                           0.360  1.000       0.360\n"
     ]
    }
   ],
   "source": [
    "print('Multiple Linear Regression Coefficients\\nSimple Linear Regression, Polynomial Degree 1\\nAlpha = 0')\n",
    "print('Intercept:', linreg.intercept_.round(2))\n",
    "err = np.std([linreg.fit(*resample(X_train_scaled, y_train)).coef_\n",
    "              for i in range(1000)], 0)\n",
    "cdf = pd.DataFrame({'effect': linreg.coef_.round(2),\n",
    "                    'error': err.round(0)}, feature_names)\n",
    "print('Total Non-Zero Coefficients: {}\\n'.format(len(linreg.coef_.round(2))))\n",
    "cdf['abs_effect'] = abs(cdf['effect'])\n",
    "print(cdf.sort_values(by = 'abs_effect', ascending = False))"
   ]
  },
  {
   "cell_type": "code",
   "execution_count": 66,
   "metadata": {},
   "outputs": [
    {
     "name": "stdout",
     "output_type": "stream",
     "text": [
      "Train R^2:   0.61\n",
      "Test  R^2:   0.88\n",
      "Test  MAE:  11.95\n",
      "Test  MSE:  645.74\n",
      "Test  RMSE: 25.41\n"
     ]
    }
   ],
   "source": [
    "print('Train R^2:  ', linreg.score(X_train_scaled, y_train).round(2))\n",
    "print('Test  R^2:  ', linreg.score(X_test_scaled, y_test).round(2))\n",
    "print('Test  MAE: ', metrics.mean_absolute_error(y_test, y_pred_test).round(2))\n",
    "print('Test  MSE: ', metrics.mean_squared_error(y_test, y_pred_test).round(2))\n",
    "print('Test  RMSE:', np.sqrt(metrics.mean_squared_error(y_test, y_pred_test)).round(2))"
   ]
  },
  {
   "cell_type": "code",
   "execution_count": 67,
   "metadata": {},
   "outputs": [],
   "source": [
    "# feature_names = ['avg_molecular_weight', 'num_clinical_trials',\n",
    "#                  'num_dosage_forms', 'num_drug_interactions',\n",
    "#                  'num_food_interactions', 'num_manufacturers_for_chem',\n",
    "#                  'num_packagers_for_chem', 'num_patents_on_chem',\n",
    "#                  'num_targets', 'nadac_cost_per_unit', 'Solid',\n",
    "#                  'affected_humans_other_mammals', 'investigational_drug',\n",
    "#                  'vet_approved_drug', 'illicit_drug', 'nutraceutical_drug',\n",
    "#                  'generic_drug', 'aromatic_molecular_framework']\n",
    "\n",
    "# X = df[feature_names]\n",
    "# y = df['grx_lowest_price_adj']"
   ]
  },
  {
   "cell_type": "code",
   "execution_count": 68,
   "metadata": {},
   "outputs": [],
   "source": [
    "# scaler = StandardScaler()\n",
    "# X_scaled = scaler.fit_transform(X)"
   ]
  },
  {
   "cell_type": "code",
   "execution_count": 69,
   "metadata": {},
   "outputs": [],
   "source": [
    "# linreg_full = LinearRegression()\n",
    "# linreg_full.fit(X_scaled, y)"
   ]
  },
  {
   "cell_type": "code",
   "execution_count": 70,
   "metadata": {},
   "outputs": [],
   "source": [
    "# feature_names2 = ['Avg Molecular Weight', 'Num Clinical Trials',\n",
    "#                  'Num Dosage Forms', 'Num Drug Interactions',\n",
    "#                  'Num Food Interactions', 'Num Manufacturers for Chem',\n",
    "#                  'Num Packagers for Chem', 'Num Patents on Chemical',\n",
    "#                  'Num Targets', 'NADAC Per Unit', 'Chemical State',\n",
    "#                  'Affected Humans/Other Mammals', 'Investigational Drug',\n",
    "#                  'Vet Approved Drug', 'Illicit Drug', 'Nutraceutical Drug',\n",
    "#                  'Generic Exists', 'Aromatic Molecular Framework']"
   ]
  },
  {
   "cell_type": "code",
   "execution_count": 71,
   "metadata": {},
   "outputs": [],
   "source": [
    "# vif = pd.DataFrame()\n",
    "# vif['VIF Factor'] = [variance_inflation_factor(X_scaled, i) for i in range(X_scaled.shape[1])]\n",
    "# vif['features'] = feature_names2"
   ]
  },
  {
   "cell_type": "code",
   "execution_count": 72,
   "metadata": {},
   "outputs": [],
   "source": [
    "# vif.sort_values(by = 'VIF Factor', ascending = False)"
   ]
  },
  {
   "cell_type": "code",
   "execution_count": 73,
   "metadata": {},
   "outputs": [],
   "source": [
    "# print('Train R^2:  ', linreg_full.score(X_scaled, y))"
   ]
  },
  {
   "cell_type": "code",
   "execution_count": 74,
   "metadata": {},
   "outputs": [],
   "source": [
    "# feature_names = ['nadac_cost_per_unit']\n",
    "\n",
    "# X = df[feature_names]\n",
    "# y = df['grx_lowest_price_adj']"
   ]
  },
  {
   "cell_type": "code",
   "execution_count": 75,
   "metadata": {},
   "outputs": [],
   "source": [
    "# scaler = StandardScaler()\n",
    "# X_scaled = scaler.fit_transform(X)"
   ]
  },
  {
   "cell_type": "code",
   "execution_count": 76,
   "metadata": {},
   "outputs": [],
   "source": [
    "# linreg_nadac = LinearRegression()\n",
    "# linreg_nadac.fit(X_scaled, y)"
   ]
  },
  {
   "cell_type": "code",
   "execution_count": 77,
   "metadata": {},
   "outputs": [],
   "source": [
    "# from statsmodels.stats.outliers_influence import variance_inflation_factor"
   ]
  },
  {
   "cell_type": "code",
   "execution_count": 78,
   "metadata": {},
   "outputs": [],
   "source": [
    "# feature_names2 = ['NADAC Per Unit']"
   ]
  },
  {
   "cell_type": "code",
   "execution_count": 79,
   "metadata": {},
   "outputs": [],
   "source": [
    "# vif = pd.DataFrame()\n",
    "# vif['VIF Factor'] = [variance_inflation_factor(X_scaled, i) for i in range(X_scaled.shape[1])]\n",
    "# vif['features'] = feature_names2"
   ]
  },
  {
   "cell_type": "code",
   "execution_count": 80,
   "metadata": {},
   "outputs": [],
   "source": [
    "# vif.sort_values(by = 'VIF Factor', ascending = False)"
   ]
  },
  {
   "cell_type": "code",
   "execution_count": 81,
   "metadata": {},
   "outputs": [],
   "source": [
    "# print('Train R^2:  ', linreg_nadac.score(X_scaled, y))"
   ]
  },
  {
   "cell_type": "markdown",
   "metadata": {},
   "source": [
    "### **Obtaining Beta Values from Model of Choice**"
   ]
  },
  {
   "cell_type": "markdown",
   "metadata": {},
   "source": [
    "Rescaled data for all x's (without train, test, split)."
   ]
  },
  {
   "cell_type": "code",
   "execution_count": 82,
   "metadata": {},
   "outputs": [],
   "source": [
    "X_scaled = scaler.transform(X)"
   ]
  },
  {
   "cell_type": "code",
   "execution_count": 83,
   "metadata": {},
   "outputs": [],
   "source": [
    "linreg = LinearRegression()\n",
    "linreg.fit(X_scaled, y)\n",
    "y_pred = linreg.predict(X_scaled)"
   ]
  },
  {
   "cell_type": "code",
   "execution_count": 84,
   "metadata": {},
   "outputs": [
    {
     "name": "stdout",
     "output_type": "stream",
     "text": [
      "Avg RMSE for 10 folds Cross-Val:         30.96\n",
      "Std Dev of RMSE for 10 folds Cross-Val:  48.66\n"
     ]
    }
   ],
   "source": [
    "scores = cross_val_score(linreg, X, y, cv = 10, scoring = 'neg_mean_squared_error')\n",
    "print('Avg RMSE for 10 folds Cross-Val:        ', np.sqrt(-scores).mean().round(2))\n",
    "print('Std Dev of RMSE for 10 folds Cross-Val: ', np.sqrt(-scores).std().round(2))"
   ]
  },
  {
   "cell_type": "code",
   "execution_count": 85,
   "metadata": {},
   "outputs": [],
   "source": [
    "from statsmodels.stats.outliers_influence import variance_inflation_factor"
   ]
  },
  {
   "cell_type": "code",
   "execution_count": 86,
   "metadata": {},
   "outputs": [],
   "source": [
    "feature_names2 = ['Avg Molecular Weight', 'Num Clinical Trials',\n",
    "                 'Num Dosage Forms', 'Num Drug Interactions',\n",
    "                 'Num Food Interactions', 'Num Manufacturers for Chem',\n",
    "                 'Num Packagers for Chem', 'Num Patents on Chemical',\n",
    "                 'Num Targets', 'NADAC Per Unit', 'Chemical State',\n",
    "                 'Affected Humans/Other Mammals', 'Investigational Drug',\n",
    "                 'Vet Approved Drug', 'Illicit Drug', 'Nutraceutical Drug',\n",
    "                 'Generic Exists', 'Aromatic Molecular Framework']"
   ]
  },
  {
   "cell_type": "code",
   "execution_count": 87,
   "metadata": {},
   "outputs": [],
   "source": [
    "vif = pd.DataFrame()\n",
    "vif['VIF Factor'] = [variance_inflation_factor(X_scaled, i) for i in range(X_scaled.shape[1])]\n",
    "vif['features'] = feature_names2"
   ]
  },
  {
   "cell_type": "code",
   "execution_count": 88,
   "metadata": {},
   "outputs": [
    {
     "data": {
      "text/html": [
       "<div>\n",
       "<style scoped>\n",
       "    .dataframe tbody tr th:only-of-type {\n",
       "        vertical-align: middle;\n",
       "    }\n",
       "\n",
       "    .dataframe tbody tr th {\n",
       "        vertical-align: top;\n",
       "    }\n",
       "\n",
       "    .dataframe thead th {\n",
       "        text-align: right;\n",
       "    }\n",
       "</style>\n",
       "<table border=\"1\" class=\"dataframe\">\n",
       "  <thead>\n",
       "    <tr style=\"text-align: right;\">\n",
       "      <th></th>\n",
       "      <th>VIF Factor</th>\n",
       "      <th>features</th>\n",
       "    </tr>\n",
       "  </thead>\n",
       "  <tbody>\n",
       "    <tr>\n",
       "      <th>6</th>\n",
       "      <td>2.433</td>\n",
       "      <td>Num Packagers for Chem</td>\n",
       "    </tr>\n",
       "    <tr>\n",
       "      <th>5</th>\n",
       "      <td>2.029</td>\n",
       "      <td>Num Manufacturers for Chem</td>\n",
       "    </tr>\n",
       "    <tr>\n",
       "      <th>2</th>\n",
       "      <td>1.783</td>\n",
       "      <td>Num Dosage Forms</td>\n",
       "    </tr>\n",
       "    <tr>\n",
       "      <th>1</th>\n",
       "      <td>1.451</td>\n",
       "      <td>Num Clinical Trials</td>\n",
       "    </tr>\n",
       "    <tr>\n",
       "      <th>4</th>\n",
       "      <td>1.444</td>\n",
       "      <td>Num Food Interactions</td>\n",
       "    </tr>\n",
       "    <tr>\n",
       "      <th>7</th>\n",
       "      <td>1.431</td>\n",
       "      <td>Num Patents on Chemical</td>\n",
       "    </tr>\n",
       "    <tr>\n",
       "      <th>3</th>\n",
       "      <td>1.413</td>\n",
       "      <td>Num Drug Interactions</td>\n",
       "    </tr>\n",
       "    <tr>\n",
       "      <th>13</th>\n",
       "      <td>1.256</td>\n",
       "      <td>Vet Approved Drug</td>\n",
       "    </tr>\n",
       "    <tr>\n",
       "      <th>11</th>\n",
       "      <td>1.186</td>\n",
       "      <td>Affected Humans/Other Mammals</td>\n",
       "    </tr>\n",
       "    <tr>\n",
       "      <th>0</th>\n",
       "      <td>1.138</td>\n",
       "      <td>Avg Molecular Weight</td>\n",
       "    </tr>\n",
       "    <tr>\n",
       "      <th>17</th>\n",
       "      <td>1.126</td>\n",
       "      <td>Aromatic Molecular Framework</td>\n",
       "    </tr>\n",
       "    <tr>\n",
       "      <th>8</th>\n",
       "      <td>1.125</td>\n",
       "      <td>Num Targets</td>\n",
       "    </tr>\n",
       "    <tr>\n",
       "      <th>14</th>\n",
       "      <td>1.106</td>\n",
       "      <td>Illicit Drug</td>\n",
       "    </tr>\n",
       "    <tr>\n",
       "      <th>9</th>\n",
       "      <td>1.087</td>\n",
       "      <td>NADAC Per Unit</td>\n",
       "    </tr>\n",
       "    <tr>\n",
       "      <th>10</th>\n",
       "      <td>1.083</td>\n",
       "      <td>Chemical State</td>\n",
       "    </tr>\n",
       "    <tr>\n",
       "      <th>12</th>\n",
       "      <td>1.076</td>\n",
       "      <td>Investigational Drug</td>\n",
       "    </tr>\n",
       "    <tr>\n",
       "      <th>15</th>\n",
       "      <td>1.053</td>\n",
       "      <td>Nutraceutical Drug</td>\n",
       "    </tr>\n",
       "    <tr>\n",
       "      <th>16</th>\n",
       "      <td>1.024</td>\n",
       "      <td>Generic Exists</td>\n",
       "    </tr>\n",
       "  </tbody>\n",
       "</table>\n",
       "</div>"
      ],
      "text/plain": [
       "    VIF Factor                       features\n",
       "6        2.433         Num Packagers for Chem\n",
       "5        2.029     Num Manufacturers for Chem\n",
       "2        1.783               Num Dosage Forms\n",
       "1        1.451            Num Clinical Trials\n",
       "4        1.444          Num Food Interactions\n",
       "7        1.431        Num Patents on Chemical\n",
       "3        1.413          Num Drug Interactions\n",
       "13       1.256              Vet Approved Drug\n",
       "11       1.186  Affected Humans/Other Mammals\n",
       "0        1.138           Avg Molecular Weight\n",
       "17       1.126   Aromatic Molecular Framework\n",
       "8        1.125                    Num Targets\n",
       "14       1.106                   Illicit Drug\n",
       "9        1.087                 NADAC Per Unit\n",
       "10       1.083                 Chemical State\n",
       "12       1.076           Investigational Drug\n",
       "15       1.053             Nutraceutical Drug\n",
       "16       1.024                 Generic Exists"
      ]
     },
     "execution_count": 88,
     "metadata": {},
     "output_type": "execute_result"
    }
   ],
   "source": [
    "vif.sort_values(by = 'VIF Factor', ascending = False)"
   ]
  },
  {
   "cell_type": "markdown",
   "metadata": {},
   "source": [
    "Create a dataframe to print the effect/error of the current model."
   ]
  },
  {
   "cell_type": "code",
   "execution_count": 89,
   "metadata": {
    "scrolled": true
   },
   "outputs": [
    {
     "name": "stdout",
     "output_type": "stream",
     "text": [
      "Multiple Linear Regression Coefficients\n",
      "Simple Linear Regression, Polynomial Degree 1\n",
      "Alpha = 0\n",
      "Intercept: 14.75\n",
      "Total Non-Zero Coefficients: 18\n",
      "\n",
      "                               effect  error  abs_effect\n",
      "nadac_cost_per_unit            59.270  3.000      59.270\n",
      "num_drug_interactions          -3.070  2.000       3.070\n",
      "vet_approved_drug               2.660  3.000       2.660\n",
      "num_dosage_forms               -1.300  1.000       1.300\n",
      "num_food_interactions           1.270  2.000       1.270\n",
      "investigational_drug            1.170  1.000       1.170\n",
      "affected_humans_other_mammals  -0.800  1.000       0.800\n",
      "num_patents_on_chem            -0.640  1.000       0.640\n",
      "avg_molecular_weight           -0.490  2.000       0.490\n",
      "num_packagers_for_chem         -0.430  2.000       0.430\n",
      "num_clinical_trials            -0.320  2.000       0.320\n",
      "generic_drug                   -0.260  1.000       0.260\n",
      "num_targets                    -0.140  1.000       0.140\n",
      "Solid                          -0.120  0.000       0.120\n",
      "illicit_drug                    0.050  0.000       0.050\n",
      "nutraceutical_drug             -0.050  0.000       0.050\n",
      "num_manufacturers_for_chem     -0.030  1.000       0.030\n",
      "aromatic_molecular_framework    0.010  1.000       0.010\n"
     ]
    }
   ],
   "source": [
    "print('Multiple Linear Regression Coefficients\\nSimple Linear Regression, Polynomial Degree 1\\nAlpha = 0')\n",
    "print('Intercept:', linreg.intercept_.round(2))\n",
    "err = np.std([linreg.fit(*resample(X_scaled, y)).coef_\n",
    "              for i in range(1000)], 0)\n",
    "cdf = pd.DataFrame({'effect': linreg.coef_.round(2),\n",
    "                    'error': err.round(0)}, feature_names)\n",
    "print('Total Non-Zero Coefficients: {}\\n'.format(len(linreg.coef_.round(2))))\n",
    "cdf['abs_effect'] = abs(cdf['effect'])\n",
    "print(cdf.sort_values(by = 'abs_effect', ascending = False))"
   ]
  },
  {
   "cell_type": "code",
   "execution_count": 90,
   "metadata": {},
   "outputs": [
    {
     "name": "stdout",
     "output_type": "stream",
     "text": [
      "Train R^2:   0.6\n",
      "Test  R^2:   0.91\n",
      "Test  MAE:  11.95\n",
      "Test  MSE:  645.74\n",
      "Test  RMSE: 25.41\n"
     ]
    }
   ],
   "source": [
    "print('Train R^2:  ', linreg.score(X_train_scaled, y_train).round(2))\n",
    "print('Test  R^2:  ', linreg.score(X_test_scaled, y_test).round(2))\n",
    "print('Test  MAE: ', metrics.mean_absolute_error(y_test, y_pred_test).round(2))\n",
    "print('Test  MSE: ', metrics.mean_squared_error(y_test, y_pred_test).round(2))\n",
    "print('Test  RMSE:', np.sqrt(metrics.mean_squared_error(y_test, y_pred_test)).round(2))"
   ]
  },
  {
   "cell_type": "code",
   "execution_count": 91,
   "metadata": {},
   "outputs": [
    {
     "data": {
      "text/plain": [
       "0               nadac_cost_per_unit\n",
       "1             num_drug_interactions\n",
       "2                 vet_approved_drug\n",
       "3                  num_dosage_forms\n",
       "4             num_food_interactions\n",
       "5              investigational_drug\n",
       "6     affected_humans_other_mammals\n",
       "7               num_patents_on_chem\n",
       "8              avg_molecular_weight\n",
       "9            num_packagers_for_chem\n",
       "10              num_clinical_trials\n",
       "11                     generic_drug\n",
       "12                      num_targets\n",
       "13                            Solid\n",
       "14                     illicit_drug\n",
       "15               nutraceutical_drug\n",
       "16       num_manufacturers_for_chem\n",
       "17     aromatic_molecular_framework\n",
       "Name: index, dtype: object"
      ]
     },
     "execution_count": 91,
     "metadata": {},
     "output_type": "execute_result"
    }
   ],
   "source": [
    "cdf.sort_values(by = 'abs_effect', ascending = False).reset_index()['index']"
   ]
  },
  {
   "cell_type": "code",
   "execution_count": 98,
   "metadata": {},
   "outputs": [
    {
     "data": {
      "image/png": "[encoded data removed]",
      "text/plain": [
       "<Figure size 864x504 with 1 Axes>"
      ]
     },
     "metadata": {},
     "output_type": "display_data"
    }
   ],
   "source": [
    "# graphed final beta values by feature.\n",
    "features = ['NADAC Per Unit', 'Num Drug Interactions', 'Vet Approved Drug',\n",
    "            'Num Dosage Forms', 'Num Food Interactions', 'Investigational Drug', \n",
    "            'Affected Humans/Other Mammals','Num Patents on Chemical','Avg Molecular Weight',\n",
    "            'Num Packagers for Chemical', 'Num Clinical Trials', 'Generic Exists', \n",
    "            'Num Targets', 'Chemical State', 'Illicit Drug', 'Nutraceutical Drug',\n",
    "            'Num Manufacturers for Chem', 'Aromatic Molecular Framework']\n",
    "\n",
    "plt.style.use('seaborn')\n",
    "sns.set_style('whitegrid')\n",
    "plt.figure(figsize = (12, 7))\n",
    "\n",
    "clrs = ['red' if (x == 'nadac_cost_per_unit') else 'teal' for x in cdf.sort_values(by = 'abs_effect', ascending = False).reset_index()['index']]\n",
    "ax = sns.barplot(x = 'index',  y = 'effect', palette = clrs,\n",
    "                 data = cdf.sort_values(by = 'abs_effect', ascending = False).reset_index(), color = 'Teal')\n",
    "ax.set_title('Values of Feature Coefficients\\nwith NADAC Highlighted in Red')\n",
    "ax.set_xlabel('Features')\n",
    "ax.set_ylabel('Coefficient Value')\n",
    "ax.set_xticklabels(features, \n",
    "                   rotation = 45, ha = \"right\")\n",
    "\n",
    "plt.tight_layout()\n",
    "plt.savefig('coefficients_w_cost.png')"
   ]
  },
  {
   "cell_type": "code",
   "execution_count": 93,
   "metadata": {},
   "outputs": [
    {
     "data": {
      "text/plain": [
       "0            Num Packagers for Chem\n",
       "1        Num Manufacturers for Chem\n",
       "2                  Num Dosage Forms\n",
       "3               Num Clinical Trials\n",
       "4             Num Food Interactions\n",
       "5           Num Patents on Chemical\n",
       "6             Num Drug Interactions\n",
       "7                 Vet Approved Drug\n",
       "8     Affected Humans/Other Mammals\n",
       "9              Avg Molecular Weight\n",
       "10     Aromatic Molecular Framework\n",
       "11                      Num Targets\n",
       "12                     Illicit Drug\n",
       "13                   NADAC Per Unit\n",
       "14                   Chemical State\n",
       "15             Investigational Drug\n",
       "16               Nutraceutical Drug\n",
       "17                   Generic Exists\n",
       "Name: features, dtype: object"
      ]
     },
     "execution_count": 93,
     "metadata": {},
     "output_type": "execute_result"
    }
   ],
   "source": [
    "vif.sort_values(by = 'VIF Factor', ascending = False).reset_index()['features']"
   ]
  },
  {
   "cell_type": "code",
   "execution_count": 94,
   "metadata": {},
   "outputs": [
    {
     "data": {
      "image/png": "[encoded data removed]",
      "text/plain": [
       "<Figure size 864x504 with 1 Axes>"
      ]
     },
     "metadata": {},
     "output_type": "display_data"
    }
   ],
   "source": [
    "# graphed vif values by feature.\n",
    "# features = ['Chemical State', 'Generic Exists',' Num Drug Interactions',\n",
    "#             'Aromatic Molecular Framework', 'Affected Humans/Other Mammals',\n",
    "#             'Num Packagers for Chemical', 'Avg Molecular Weight',\n",
    "#             'Num Dosage Forms', 'Num Food Interactions','Num Manufacturers for Chem',\n",
    "#             'Num Clinical Trials', 'Investigational Drug', 'Num Patents on Chemical',\n",
    "#             'Vet Approved Drug', 'Num Targets', 'Illicit Drug',\n",
    "#             'NADAC Per Unit', 'Nutraceutical Drug']\n",
    "\n",
    "plt.style.use('seaborn')\n",
    "sns.set_style('whitegrid')\n",
    "plt.figure(figsize = (12, 7))\n",
    "\n",
    "clrs = ['red' if (x == 'NADAC Per Unit') else 'teal' for x in vif.sort_values(by = 'VIF Factor', ascending = True).reset_index()['features']]\n",
    "ax = sns.barplot(x = 'features', y = 'VIF Factor', palette = clrs,\n",
    "                 data = vif.sort_values(by = 'VIF Factor', ascending = True).reset_index())\n",
    "ax.set_title('VIF Feature Weights\\nwith NADAC Highlighted in Red')\n",
    "ax.set_xlabel('Features')\n",
    "ax.set_ylabel('Variance Inflation Factor')\n",
    "ax.set_xticklabels(vif.sort_values(by = 'VIF Factor', ascending = True).reset_index()['features'], \n",
    "                   rotation = 45, ha = \"right\")\n",
    "\n",
    "\n",
    "plt.tight_layout()\n",
    "plt.savefig('feature_importance_w_cost.png')"
   ]
  },
  {
   "cell_type": "code",
   "execution_count": 95,
   "metadata": {},
   "outputs": [
    {
     "data": {
      "text/plain": [
       "18"
      ]
     },
     "execution_count": 95,
     "metadata": {},
     "output_type": "execute_result"
    }
   ],
   "source": [
    "len(features)"
   ]
  },
  {
   "cell_type": "code",
   "execution_count": 96,
   "metadata": {},
   "outputs": [
    {
     "data": {
      "image/png": "[encoded data removed]",
      "text/plain": [
       "<Figure size 864x504 with 1 Axes>"
      ]
     },
     "metadata": {},
     "output_type": "display_data"
    }
   ],
   "source": [
    "# graphed final beta values by feature (without pharmacy cost per unit).\n",
    "features = ['NADAC per Unit', 'Num Drug Interactions', 'Vet Approved Drug',\n",
    "            'Generic Exists', 'Num Packagers for Chemical', 'Avg Molecular Weight',\n",
    "            'Num Food Interactions', 'Investigational Drug', 'Num Dosage Forms',\n",
    "            'Num Patents on Chemical', 'Num Clinical Trials', 'Nutraceutical Drug',\n",
    "            'Illicit Drug', 'Affected Humans/Other Mammals', 'Num Targets',\n",
    "            'Aromatic Molecular Framework', 'Num Manufacturers for Chem', 'Solid']\n",
    "\n",
    "plt.style.use('seaborn')\n",
    "sns.set_style('whitegrid')\n",
    "plt.figure(figsize = (12, 7))\n",
    "\n",
    "ax = sns.barplot(x = 'index',  y = 'effect', \n",
    "                 data = cdf.sort_values(by = 'abs_effect', ascending = False)[1:].reset_index(), palette = 'Set2')\n",
    "ax.set_title('Coefficients for Prescription Drug Prices without NADAC')\n",
    "ax.set_xlabel('Features')\n",
    "ax.set_ylabel('Coefficient Values')\n",
    "ax.set_xticklabels(features[1:], \n",
    "                   rotation = 45, ha = \"right\")\n",
    "\n",
    "plt.tight_layout()\n",
    "plt.savefig('feature_importance_no_cost_feature.png')"
   ]
  },
  {
   "cell_type": "code",
   "execution_count": null,
   "metadata": {},
   "outputs": [],
   "source": []
  },
  {
   "cell_type": "code",
   "execution_count": null,
   "metadata": {},
   "outputs": [],
   "source": []
  },
  {
   "cell_type": "code",
   "execution_count": null,
   "metadata": {},
   "outputs": [],
   "source": []
  },
  {
   "cell_type": "code",
   "execution_count": null,
   "metadata": {},
   "outputs": [],
   "source": []
  }
 ],
 "metadata": {
  "kernelspec": {
   "display_name": "Python 3",
   "language": "python",
   "name": "python3"
  },
  "language_info": {
   "codemirror_mode": {
    "name": "ipython",
    "version": 3
   },
   "file_extension": ".py",
   "mimetype": "text/x-python",
   "name": "python",
   "nbconvert_exporter": "python",
   "pygments_lexer": "ipython3",
   "version": "3.6.4"
  }
 },
 "nbformat": 4,
 "nbformat_minor": 2
}
