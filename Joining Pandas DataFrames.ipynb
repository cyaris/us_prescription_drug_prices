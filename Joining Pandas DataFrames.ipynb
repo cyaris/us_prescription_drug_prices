{
 "cells": [
  {
   "cell_type": "code",
   "execution_count": 1,
   "metadata": {},
   "outputs": [],
   "source": [
    "import pickle\n",
    "import pandas as pd\n",
    "import numpy as np\n",
    "from copy import deepcopy"
   ]
  },
  {
   "cell_type": "code",
   "execution_count": 2,
   "metadata": {},
   "outputs": [],
   "source": [
    "pd.set_option('display.max_colwidth', 1000)"
   ]
  },
  {
   "cell_type": "code",
   "execution_count": 3,
   "metadata": {},
   "outputs": [],
   "source": [
    "pd.set_option('display.float_format', lambda x: '%.3f' % x)"
   ]
  },
  {
   "cell_type": "code",
   "execution_count": 4,
   "metadata": {},
   "outputs": [],
   "source": [
    "db_df = pd.read_pickle('db_df.pkl')"
   ]
  },
  {
   "cell_type": "code",
   "execution_count": 5,
   "metadata": {},
   "outputs": [],
   "source": [
    "grx_df = pd.read_pickle('grx_df.pkl')"
   ]
  },
  {
   "cell_type": "code",
   "execution_count": 6,
   "metadata": {},
   "outputs": [],
   "source": [
    "# created new column chem_name for grx_df to join with chem_name in db_df.\n",
    "# looping matches between grx_df['drug_name'] and db_df['brand_names'].\n",
    "for i, grx_drug in enumerate(grx_df['drug_name']):\n",
    "    for z, db_brand in enumerate(db_df['brand_names']):\n",
    "        if grx_drug in db_brand:\n",
    "            grx_df.loc[i, 'chem_name'] = db_df['chem_name'][z]"
   ]
  },
  {
   "cell_type": "code",
   "execution_count": 7,
   "metadata": {},
   "outputs": [],
   "source": [
    "# made all null values for grx_df['chem_name'] 'No Match'\n",
    "# to clearly identify rows that have not yet been matched with a chemical.\n",
    "for i, grx_drug in enumerate(grx_df['chem_name']):\n",
    "    if str(grx_df.loc[i, 'chem_name']) == 'nan':\n",
    "        grx_df.loc[i, 'chem_name'] = 'No Match'"
   ]
  },
  {
   "cell_type": "code",
   "execution_count": 8,
   "metadata": {},
   "outputs": [
    {
     "data": {
      "text/plain": [
       "1816"
      ]
     },
     "execution_count": 8,
     "metadata": {},
     "output_type": "execute_result"
    }
   ],
   "source": [
    "# checking for the number of rows that have not yet been matched with a chemical.\n",
    "len(grx_df[grx_df['chem_name'] == 'No Match'])"
   ]
  },
  {
   "cell_type": "code",
   "execution_count": 9,
   "metadata": {},
   "outputs": [],
   "source": [
    "# looping matches between grx_df['generic_name'] and db_df['brand_names'].\n",
    "for i, grx_generic in enumerate(grx_df['generic_name']):\n",
    "    for z, db_brand in enumerate(db_df['brand_names']):\n",
    "        if grx_df['chem_name'][i] == 'No Match' and (grx_generic in db_brand):\n",
    "            grx_df.loc[i, 'chem_name'] = db_df['chem_name'][z]"
   ]
  },
  {
   "cell_type": "code",
   "execution_count": 10,
   "metadata": {
    "scrolled": true
   },
   "outputs": [
    {
     "data": {
      "text/plain": [
       "1291"
      ]
     },
     "execution_count": 10,
     "metadata": {},
     "output_type": "execute_result"
    }
   ],
   "source": [
    "# checking for the number of rows that have not yet been matched with a chemical.\n",
    "len(grx_df[grx_df['chem_name'] == 'No Match'])"
   ]
  },
  {
   "cell_type": "code",
   "execution_count": 11,
   "metadata": {},
   "outputs": [],
   "source": [
    "# looping matches between grx_df['drug_name'] and db_df['brand_names'].\n",
    "for i, grx_drug in enumerate(grx_df['drug_name']):\n",
    "    for z, db_generic in enumerate(db_df['generic_names']):\n",
    "        if grx_df['chem_name'][i] == 'No Match' and (grx_drug in db_generic):\n",
    "            grx_df.loc[i, 'chem_name'] = db_df['chem_name'][z]"
   ]
  },
  {
   "cell_type": "code",
   "execution_count": 12,
   "metadata": {},
   "outputs": [
    {
     "data": {
      "text/plain": [
       "1205"
      ]
     },
     "execution_count": 12,
     "metadata": {},
     "output_type": "execute_result"
    }
   ],
   "source": [
    "# checking for the number of rows that have not yet been matched with a chemical.\n",
    "len(grx_df[grx_df['chem_name'] == 'No Match'])"
   ]
  },
  {
   "cell_type": "code",
   "execution_count": 13,
   "metadata": {},
   "outputs": [],
   "source": [
    "# looping matches between grx_df['generic_name'] and db_df['brand_names'].\n",
    "for i, grx_generic in enumerate(grx_df['generic_name']):\n",
    "    for z, db_generic in enumerate(db_df['generic_names']):\n",
    "        if grx_df['chem_name'][i] == 'No Match' and (grx_generic in db_generic):\n",
    "            grx_df.loc[i, 'chem_name'] = db_df['chem_name'][z]"
   ]
  },
  {
   "cell_type": "code",
   "execution_count": 14,
   "metadata": {},
   "outputs": [
    {
     "data": {
      "text/plain": [
       "1179"
      ]
     },
     "execution_count": 14,
     "metadata": {},
     "output_type": "execute_result"
    }
   ],
   "source": [
    "# checking for the number of rows that have not yet been matched with a chemical.\n",
    "len(grx_df[grx_df['chem_name'] == 'No Match'])"
   ]
  },
  {
   "cell_type": "code",
   "execution_count": 15,
   "metadata": {},
   "outputs": [],
   "source": [
    "# looping matches between grx_df['drug_name'] and db_df['brand_names'].\n",
    "for i, grx_drug in enumerate(grx_df['drug_name']):\n",
    "    for z, db_chem in enumerate(db_df['chem_name']):\n",
    "        if grx_df['chem_name'][i] == 'No Match' and (grx_drug in db_chem):\n",
    "            grx_df.loc[i, 'chem_name'] = db_df['chem_name'][z]"
   ]
  },
  {
   "cell_type": "code",
   "execution_count": 16,
   "metadata": {},
   "outputs": [
    {
     "data": {
      "text/plain": [
       "1162"
      ]
     },
     "execution_count": 16,
     "metadata": {},
     "output_type": "execute_result"
    }
   ],
   "source": [
    "# checking for the number of rows that have not yet been matched with a chemical.\n",
    "len(grx_df[grx_df['chem_name'] == 'No Match'])"
   ]
  },
  {
   "cell_type": "code",
   "execution_count": 17,
   "metadata": {},
   "outputs": [],
   "source": [
    "# looping matches between grx_df['generic_name'] and db_df['brand_names'].\n",
    "for i, grx_generic in enumerate(grx_df['generic_name']):\n",
    "    for z, db_chem in enumerate(db_df['chem_name']):\n",
    "        if grx_df['chem_name'][i] == 'No Match' and (grx_generic in db_chem):\n",
    "            grx_df.loc[i, 'chem_name'] = db_df['chem_name'][z]"
   ]
  },
  {
   "cell_type": "code",
   "execution_count": 18,
   "metadata": {},
   "outputs": [
    {
     "data": {
      "text/plain": [
       "1148"
      ]
     },
     "execution_count": 18,
     "metadata": {},
     "output_type": "execute_result"
    }
   ],
   "source": [
    "# checking for the number of rows that have not yet been matched with a chemical.\n",
    "len(grx_df[grx_df['chem_name'] == 'No Match'])"
   ]
  },
  {
   "cell_type": "code",
   "execution_count": 19,
   "metadata": {},
   "outputs": [],
   "source": [
    "# created new dataframe to join grx_df drugs with their chemical equivalents in db_df.\n",
    "df = pd.merge(grx_df, db_df, on = 'chem_name')"
   ]
  },
  {
   "cell_type": "code",
   "execution_count": 20,
   "metadata": {},
   "outputs": [],
   "source": [
    "df.to_pickle('merged_df.pkl')"
   ]
  },
  {
   "cell_type": "code",
   "execution_count": 21,
   "metadata": {},
   "outputs": [],
   "source": [
    "nadac_df = pd.read_pickle('nadac_df.pkl')"
   ]
  },
  {
   "cell_type": "code",
   "execution_count": 22,
   "metadata": {},
   "outputs": [],
   "source": [
    "for i, df_drug in enumerate(df['drug_name'].str.lower()):\n",
    "    for z, nadac_drug in enumerate(nadac_df['ndc_drug_name'].str.lower()):\n",
    "        if df_drug in nadac_drug:\n",
    "            df.loc[i, 'ndc_drug_name'] = nadac_df['ndc_drug_name'][z]"
   ]
  },
  {
   "cell_type": "code",
   "execution_count": 23,
   "metadata": {},
   "outputs": [],
   "source": [
    "df.loc[df['ndc_drug_name'].isnull(), 'ndc_drug_name'] = 'No Match'"
   ]
  },
  {
   "cell_type": "code",
   "execution_count": 24,
   "metadata": {},
   "outputs": [
    {
     "data": {
      "text/plain": [
       "1028"
      ]
     },
     "execution_count": 24,
     "metadata": {},
     "output_type": "execute_result"
    }
   ],
   "source": [
    "# checking for the number of rows that have not yet been matched with a nadac equivalent drug.\n",
    "len(df[df['ndc_drug_name'] == 'No Match'])"
   ]
  },
  {
   "cell_type": "code",
   "execution_count": 25,
   "metadata": {
    "code_folding": []
   },
   "outputs": [],
   "source": [
    "# created new column ndc_drug_name for grx_df to join with the equivalent drug in nadac_df.\n",
    "# looping matches between df['generic_name'] and nadac_df['ndc_drug_name'].\n",
    "for i, df_generic in enumerate(df['generic_name'].str.lower()):\n",
    "    for z, nadac_drug in enumerate(nadac_df['ndc_drug_name'].str.lower()):\n",
    "        if df['ndc_drug_name'][i] == 'No Match' and (df_generic in nadac_drug):\n",
    "            df.loc[i, 'ndc_drug_name'] = nadac_df['ndc_drug_name'][z]"
   ]
  },
  {
   "cell_type": "code",
   "execution_count": 26,
   "metadata": {},
   "outputs": [
    {
     "data": {
      "text/plain": [
       "571"
      ]
     },
     "execution_count": 26,
     "metadata": {},
     "output_type": "execute_result"
    }
   ],
   "source": [
    "# checking for the number of rows that have not yet been matched with a nadac equivalent drug.\n",
    "len(df[df['ndc_drug_name'] == 'No Match'])"
   ]
  },
  {
   "cell_type": "code",
   "execution_count": 27,
   "metadata": {},
   "outputs": [
    {
     "data": {
      "text/plain": [
       "1723"
      ]
     },
     "execution_count": 27,
     "metadata": {},
     "output_type": "execute_result"
    }
   ],
   "source": [
    "# checking for the number of rows that have been matched with a nadac equivalent drug.\n",
    "len(df[df['ndc_drug_name'] != 'No Match'])"
   ]
  },
  {
   "cell_type": "code",
   "execution_count": 28,
   "metadata": {},
   "outputs": [],
   "source": [
    "# created new dataframe to join df drugs with their drug equivalents in nadac_df.\n",
    "df2 = pd.merge(df, nadac_df, on = 'ndc_drug_name')"
   ]
  },
  {
   "cell_type": "code",
   "execution_count": 29,
   "metadata": {},
   "outputs": [],
   "source": [
    "# removed all drugs listed by nadac_df as over-the-counter from the dataframe.\n",
    "df2 = deepcopy(df2[df2['over_the_counter'] == 'N'])"
   ]
  },
  {
   "cell_type": "code",
   "execution_count": 30,
   "metadata": {},
   "outputs": [
    {
     "data": {
      "text/html": [
       "<div>\n",
       "<style scoped>\n",
       "    .dataframe tbody tr th:only-of-type {\n",
       "        vertical-align: middle;\n",
       "    }\n",
       "\n",
       "    .dataframe tbody tr th {\n",
       "        vertical-align: top;\n",
       "    }\n",
       "\n",
       "    .dataframe thead th {\n",
       "        text-align: right;\n",
       "    }\n",
       "</style>\n",
       "<table border=\"1\" class=\"dataframe\">\n",
       "  <thead>\n",
       "    <tr style=\"text-align: right;\">\n",
       "      <th></th>\n",
       "      <th>drug_name</th>\n",
       "      <th>generic_name</th>\n",
       "      <th>grx_lowest_price</th>\n",
       "      <th>grx_pharmacy</th>\n",
       "      <th>grx_purchase</th>\n",
       "      <th>grx_lowest_price_adj</th>\n",
       "      <th>chem_name</th>\n",
       "      <th>affected_organisms</th>\n",
       "      <th>brand_names</th>\n",
       "      <th>chem_state</th>\n",
       "      <th>...</th>\n",
       "      <th>num_manufacturers_for_chem</th>\n",
       "      <th>num_packagers_for_chem</th>\n",
       "      <th>num_patents_on_chem</th>\n",
       "      <th>num_targets</th>\n",
       "      <th>chem_sub_class</th>\n",
       "      <th>chem_super_class</th>\n",
       "      <th>page_url</th>\n",
       "      <th>ndc_drug_name</th>\n",
       "      <th>over_the_counter</th>\n",
       "      <th>nadac_cost_per_unit</th>\n",
       "    </tr>\n",
       "  </thead>\n",
       "  <tbody>\n",
       "    <tr>\n",
       "      <th>0</th>\n",
       "      <td>Cuprimine</td>\n",
       "      <td>Non-Existant</td>\n",
       "      <td>31215.000</td>\n",
       "      <td>Costco</td>\n",
       "      <td>120 capsules of Cuprimine 250mg</td>\n",
       "      <td>260.125</td>\n",
       "      <td>Penicillamine</td>\n",
       "      <td>Humans and other mammals</td>\n",
       "      <td>Cuprimine, Depen, Depen Tab 250mg</td>\n",
       "      <td>Solid</td>\n",
       "      <td>...</td>\n",
       "      <td>2.000</td>\n",
       "      <td>7.000</td>\n",
       "      <td>0.000</td>\n",
       "      <td>0.000</td>\n",
       "      <td>Amino acids, peptides, and analogues</td>\n",
       "      <td>Organic acids and derivatives</td>\n",
       "      <td>https://www.drugbank.ca/drugs/DB00859</td>\n",
       "      <td>CUPRIMINE</td>\n",
       "      <td>N</td>\n",
       "      <td>255.848</td>\n",
       "    </tr>\n",
       "    <tr>\n",
       "      <th>1</th>\n",
       "      <td>Sovaldi</td>\n",
       "      <td>Sofosbuvir</td>\n",
       "      <td>27813.000</td>\n",
       "      <td>Costco</td>\n",
       "      <td>28 tablets of Sovaldi 400mg</td>\n",
       "      <td>993.321</td>\n",
       "      <td>Sofosbuvir</td>\n",
       "      <td>Hepatitis C Virus</td>\n",
       "      <td>Sovaldi</td>\n",
       "      <td>Solid</td>\n",
       "      <td>...</td>\n",
       "      <td>0.000</td>\n",
       "      <td>0.000</td>\n",
       "      <td>23.000</td>\n",
       "      <td>0.000</td>\n",
       "      <td>Pyrimidine 2\\'-deoxyribonucleosides</td>\n",
       "      <td>Nucleosides, nucleotides, and analogues</td>\n",
       "      <td>https://www.drugbank.ca/drugs/DB08934</td>\n",
       "      <td>SOVALDI</td>\n",
       "      <td>N</td>\n",
       "      <td>975.300</td>\n",
       "    </tr>\n",
       "    <tr>\n",
       "      <th>2</th>\n",
       "      <td>Sofosbuvir</td>\n",
       "      <td>Sovaldi</td>\n",
       "      <td>27728.000</td>\n",
       "      <td>Hy Vee</td>\n",
       "      <td>28 tablets of Sovaldi 400mg</td>\n",
       "      <td>990.286</td>\n",
       "      <td>Sofosbuvir</td>\n",
       "      <td>Hepatitis C Virus</td>\n",
       "      <td>Sovaldi</td>\n",
       "      <td>Solid</td>\n",
       "      <td>...</td>\n",
       "      <td>0.000</td>\n",
       "      <td>0.000</td>\n",
       "      <td>23.000</td>\n",
       "      <td>0.000</td>\n",
       "      <td>Pyrimidine 2\\'-deoxyribonucleosides</td>\n",
       "      <td>Nucleosides, nucleotides, and analogues</td>\n",
       "      <td>https://www.drugbank.ca/drugs/DB08934</td>\n",
       "      <td>SOVALDI</td>\n",
       "      <td>N</td>\n",
       "      <td>975.300</td>\n",
       "    </tr>\n",
       "    <tr>\n",
       "      <th>3</th>\n",
       "      <td>Ribavirin</td>\n",
       "      <td>Copegus,Rebetol</td>\n",
       "      <td>157.520</td>\n",
       "      <td>Hy Vee</td>\n",
       "      <td>168 capsules of ribavirin 200mg</td>\n",
       "      <td>0.938</td>\n",
       "      <td>Ribavirin</td>\n",
       "      <td>Hepatitis B virus, Hepatitis C virus, RSV and other RNA/DNA viruses</td>\n",
       "      <td>Ribavirin, Rebetol, Virazole Pws 6gm/vial, Copegus, Virazole, Moderiba, Ibavyr</td>\n",
       "      <td>Solid</td>\n",
       "      <td>...</td>\n",
       "      <td>9.000</td>\n",
       "      <td>22.000</td>\n",
       "      <td>9.000</td>\n",
       "      <td>7.000</td>\n",
       "      <td>Not Available</td>\n",
       "      <td>Nucleosides, nucleotides, and analogues</td>\n",
       "      <td>https://www.drugbank.ca/drugs/DB00811</td>\n",
       "      <td>RIBAVIRIN</td>\n",
       "      <td>N</td>\n",
       "      <td>0.975</td>\n",
       "    </tr>\n",
       "    <tr>\n",
       "      <th>4</th>\n",
       "      <td>Copegus</td>\n",
       "      <td>Ribavirin</td>\n",
       "      <td>27.680</td>\n",
       "      <td>Albertsons</td>\n",
       "      <td>30 tablets of ribavirin 200mg</td>\n",
       "      <td>0.923</td>\n",
       "      <td>Ribavirin</td>\n",
       "      <td>Hepatitis B virus, Hepatitis C virus, RSV and other RNA/DNA viruses</td>\n",
       "      <td>Ribavirin, Rebetol, Virazole Pws 6gm/vial, Copegus, Virazole, Moderiba, Ibavyr</td>\n",
       "      <td>Solid</td>\n",
       "      <td>...</td>\n",
       "      <td>9.000</td>\n",
       "      <td>22.000</td>\n",
       "      <td>9.000</td>\n",
       "      <td>7.000</td>\n",
       "      <td>Not Available</td>\n",
       "      <td>Nucleosides, nucleotides, and analogues</td>\n",
       "      <td>https://www.drugbank.ca/drugs/DB00811</td>\n",
       "      <td>RIBAVIRIN</td>\n",
       "      <td>N</td>\n",
       "      <td>0.975</td>\n",
       "    </tr>\n",
       "  </tbody>\n",
       "</table>\n",
       "<p>5 rows × 31 columns</p>\n",
       "</div>"
      ],
      "text/plain": [
       "    drug_name     generic_name  grx_lowest_price grx_pharmacy  \\\n",
       "0   Cuprimine     Non-Existant         31215.000       Costco   \n",
       "1     Sovaldi       Sofosbuvir         27813.000       Costco   \n",
       "2  Sofosbuvir          Sovaldi         27728.000       Hy Vee   \n",
       "3   Ribavirin  Copegus,Rebetol           157.520       Hy Vee   \n",
       "4     Copegus        Ribavirin            27.680   Albertsons   \n",
       "\n",
       "                      grx_purchase  grx_lowest_price_adj      chem_name  \\\n",
       "0  120 capsules of Cuprimine 250mg               260.125  Penicillamine   \n",
       "1      28 tablets of Sovaldi 400mg               993.321     Sofosbuvir   \n",
       "2      28 tablets of Sovaldi 400mg               990.286     Sofosbuvir   \n",
       "3  168 capsules of ribavirin 200mg                 0.938      Ribavirin   \n",
       "4    30 tablets of ribavirin 200mg                 0.923      Ribavirin   \n",
       "\n",
       "                                                    affected_organisms  \\\n",
       "0                                             Humans and other mammals   \n",
       "1                                                    Hepatitis C Virus   \n",
       "2                                                    Hepatitis C Virus   \n",
       "3  Hepatitis B virus, Hepatitis C virus, RSV and other RNA/DNA viruses   \n",
       "4  Hepatitis B virus, Hepatitis C virus, RSV and other RNA/DNA viruses   \n",
       "\n",
       "                                                                      brand_names  \\\n",
       "0                                               Cuprimine, Depen, Depen Tab 250mg   \n",
       "1                                                                         Sovaldi   \n",
       "2                                                                         Sovaldi   \n",
       "3  Ribavirin, Rebetol, Virazole Pws 6gm/vial, Copegus, Virazole, Moderiba, Ibavyr   \n",
       "4  Ribavirin, Rebetol, Virazole Pws 6gm/vial, Copegus, Virazole, Moderiba, Ibavyr   \n",
       "\n",
       "  chem_state         ...          num_manufacturers_for_chem  \\\n",
       "0      Solid         ...                               2.000   \n",
       "1      Solid         ...                               0.000   \n",
       "2      Solid         ...                               0.000   \n",
       "3      Solid         ...                               9.000   \n",
       "4      Solid         ...                               9.000   \n",
       "\n",
       "  num_packagers_for_chem num_patents_on_chem num_targets  \\\n",
       "0                  7.000               0.000       0.000   \n",
       "1                  0.000              23.000       0.000   \n",
       "2                  0.000              23.000       0.000   \n",
       "3                 22.000               9.000       7.000   \n",
       "4                 22.000               9.000       7.000   \n",
       "\n",
       "                         chem_sub_class  \\\n",
       "0  Amino acids, peptides, and analogues   \n",
       "1   Pyrimidine 2\\'-deoxyribonucleosides   \n",
       "2   Pyrimidine 2\\'-deoxyribonucleosides   \n",
       "3                         Not Available   \n",
       "4                         Not Available   \n",
       "\n",
       "                          chem_super_class  \\\n",
       "0            Organic acids and derivatives   \n",
       "1  Nucleosides, nucleotides, and analogues   \n",
       "2  Nucleosides, nucleotides, and analogues   \n",
       "3  Nucleosides, nucleotides, and analogues   \n",
       "4  Nucleosides, nucleotides, and analogues   \n",
       "\n",
       "                                page_url  ndc_drug_name  over_the_counter  \\\n",
       "0  https://www.drugbank.ca/drugs/DB00859      CUPRIMINE                 N   \n",
       "1  https://www.drugbank.ca/drugs/DB08934        SOVALDI                 N   \n",
       "2  https://www.drugbank.ca/drugs/DB08934        SOVALDI                 N   \n",
       "3  https://www.drugbank.ca/drugs/DB00811      RIBAVIRIN                 N   \n",
       "4  https://www.drugbank.ca/drugs/DB00811      RIBAVIRIN                 N   \n",
       "\n",
       "   nadac_cost_per_unit  \n",
       "0              255.848  \n",
       "1              975.300  \n",
       "2              975.300  \n",
       "3                0.975  \n",
       "4                0.975  \n",
       "\n",
       "[5 rows x 31 columns]"
      ]
     },
     "execution_count": 30,
     "metadata": {},
     "output_type": "execute_result"
    }
   ],
   "source": [
    "df2.head()"
   ]
  },
  {
   "cell_type": "code",
   "execution_count": 31,
   "metadata": {},
   "outputs": [],
   "source": [
    "# dropped columns from the dataframe that will no longer be needed for analysis or identification.\n",
    "df2.drop(['page_url', 'ndc_drug_name', 'over_the_counter',\n",
    "          'brand_names', 'generic_names'], axis = 1, inplace = True)"
   ]
  },
  {
   "cell_type": "code",
   "execution_count": 32,
   "metadata": {},
   "outputs": [
    {
     "data": {
      "text/plain": [
       "Index(['drug_name', 'generic_name', 'grx_lowest_price', 'grx_pharmacy',\n",
       "       'grx_purchase', 'grx_lowest_price_adj', 'chem_name',\n",
       "       'affected_organisms', 'chem_state', 'chem_class', 'drug_group',\n",
       "       'drug_type', 'chem_kingdom', 'molecular_framework',\n",
       "       'avg_molecular_weight', 'num_clinical_trials', 'num_dosage_forms',\n",
       "       'num_drug_interactions', 'num_food_interactions',\n",
       "       'num_manufacturers_for_chem', 'num_packagers_for_chem',\n",
       "       'num_patents_on_chem', 'num_targets', 'chem_sub_class',\n",
       "       'chem_super_class', 'nadac_cost_per_unit'],\n",
       "      dtype='object')"
      ]
     },
     "execution_count": 32,
     "metadata": {},
     "output_type": "execute_result"
    }
   ],
   "source": [
    "df2.columns"
   ]
  },
  {
   "cell_type": "code",
   "execution_count": 33,
   "metadata": {},
   "outputs": [
    {
     "data": {
      "text/plain": [
       "1664"
      ]
     },
     "execution_count": 33,
     "metadata": {},
     "output_type": "execute_result"
    }
   ],
   "source": [
    "# checked for number of drugs remaining for analysis.\n",
    "len(df2)"
   ]
  },
  {
   "cell_type": "code",
   "execution_count": 34,
   "metadata": {},
   "outputs": [],
   "source": [
    "df2.to_pickle('merged_df2.pkl')"
   ]
  }
 ],
 "metadata": {
  "kernelspec": {
   "display_name": "Python 3",
   "language": "python",
   "name": "python3"
  },
  "language_info": {
   "codemirror_mode": {
    "name": "ipython",
    "version": 3
   },
   "file_extension": ".py",
   "mimetype": "text/x-python",
   "name": "python",
   "nbconvert_exporter": "python",
   "pygments_lexer": "ipython3",
   "version": "3.6.4"
  }
 },
 "nbformat": 4,
 "nbformat_minor": 2
}
